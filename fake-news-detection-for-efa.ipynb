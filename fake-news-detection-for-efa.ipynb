{
 "cells": [
  {
   "cell_type": "markdown",
   "id": "8098db5c",
   "metadata": {
    "papermill": {
     "duration": 0.015456,
     "end_time": "2023-10-08T18:49:38.124410",
     "exception": false,
     "start_time": "2023-10-08T18:49:38.108954",
     "status": "completed"
    },
    "tags": []
   },
   "source": [
    "## 1.0  Data Import and Analysis"
   ]
  },
  {
   "cell_type": "code",
   "execution_count": 1,
   "id": "e4a6f6c5",
   "metadata": {
    "execution": {
     "iopub.execute_input": "2023-10-08T18:49:38.155756Z",
     "iopub.status.busy": "2023-10-08T18:49:38.154932Z",
     "iopub.status.idle": "2023-10-08T18:49:39.817212Z",
     "shell.execute_reply": "2023-10-08T18:49:39.816157Z"
    },
    "papermill": {
     "duration": 1.679765,
     "end_time": "2023-10-08T18:49:39.819661",
     "exception": false,
     "start_time": "2023-10-08T18:49:38.139896",
     "status": "completed"
    },
    "tags": []
   },
   "outputs": [],
   "source": [
    "import numpy as np\n",
    "import re\n",
    "import pandas as pd\n",
    "from nltk.corpus import stopwords\n",
    "from nltk.stem.porter import PorterStemmer\n",
    "from sklearn.feature_extraction.text import TfidfVectorizer\n",
    "from sklearn.model_selection import train_test_split\n",
    "from sklearn.linear_model import LogisticRegression\n",
    "from sklearn.metrics import accuracy_score"
   ]
  },
  {
   "cell_type": "code",
   "execution_count": 2,
   "id": "a819a6d2",
   "metadata": {
    "execution": {
     "iopub.execute_input": "2023-10-08T18:49:39.849262Z",
     "iopub.status.busy": "2023-10-08T18:49:39.848258Z",
     "iopub.status.idle": "2023-10-08T18:49:42.501461Z",
     "shell.execute_reply": "2023-10-08T18:49:42.500449Z"
    },
    "papermill": {
     "duration": 2.670302,
     "end_time": "2023-10-08T18:49:42.503930",
     "exception": false,
     "start_time": "2023-10-08T18:49:39.833628",
     "status": "completed"
    },
    "tags": []
   },
   "outputs": [],
   "source": [
    "fake_df = pd.read_csv('/kaggle/input/fake-news-detection-datasets/News _dataset/Fake.csv')\n",
    "true_df = pd.read_csv('/kaggle/input/fake-news-detection-datasets/News _dataset/True.csv')"
   ]
  },
  {
   "cell_type": "code",
   "execution_count": 3,
   "id": "2880a48c",
   "metadata": {
    "execution": {
     "iopub.execute_input": "2023-10-08T18:49:42.533581Z",
     "iopub.status.busy": "2023-10-08T18:49:42.533238Z",
     "iopub.status.idle": "2023-10-08T18:49:42.547118Z",
     "shell.execute_reply": "2023-10-08T18:49:42.546223Z"
    },
    "papermill": {
     "duration": 0.030979,
     "end_time": "2023-10-08T18:49:42.549151",
     "exception": false,
     "start_time": "2023-10-08T18:49:42.518172",
     "status": "completed"
    },
    "tags": []
   },
   "outputs": [],
   "source": [
    "fake_df['label'] = 1\n",
    "true_df['label'] = 0"
   ]
  },
  {
   "cell_type": "code",
   "execution_count": 4,
   "id": "348ad344",
   "metadata": {
    "execution": {
     "iopub.execute_input": "2023-10-08T18:49:42.578954Z",
     "iopub.status.busy": "2023-10-08T18:49:42.578673Z",
     "iopub.status.idle": "2023-10-08T18:49:42.592748Z",
     "shell.execute_reply": "2023-10-08T18:49:42.591748Z"
    },
    "papermill": {
     "duration": 0.030765,
     "end_time": "2023-10-08T18:49:42.594847",
     "exception": false,
     "start_time": "2023-10-08T18:49:42.564082",
     "status": "completed"
    },
    "tags": []
   },
   "outputs": [
    {
     "data": {
      "text/html": [
       "<div>\n",
       "<style scoped>\n",
       "    .dataframe tbody tr th:only-of-type {\n",
       "        vertical-align: middle;\n",
       "    }\n",
       "\n",
       "    .dataframe tbody tr th {\n",
       "        vertical-align: top;\n",
       "    }\n",
       "\n",
       "    .dataframe thead th {\n",
       "        text-align: right;\n",
       "    }\n",
       "</style>\n",
       "<table border=\"1\" class=\"dataframe\">\n",
       "  <thead>\n",
       "    <tr style=\"text-align: right;\">\n",
       "      <th></th>\n",
       "      <th>title</th>\n",
       "      <th>text</th>\n",
       "      <th>subject</th>\n",
       "      <th>date</th>\n",
       "      <th>label</th>\n",
       "    </tr>\n",
       "  </thead>\n",
       "  <tbody>\n",
       "    <tr>\n",
       "      <th>0</th>\n",
       "      <td>Donald Trump Sends Out Embarrassing New Year’...</td>\n",
       "      <td>Donald Trump just couldn t wish all Americans ...</td>\n",
       "      <td>News</td>\n",
       "      <td>December 31, 2017</td>\n",
       "      <td>1</td>\n",
       "    </tr>\n",
       "    <tr>\n",
       "      <th>1</th>\n",
       "      <td>Drunk Bragging Trump Staffer Started Russian ...</td>\n",
       "      <td>House Intelligence Committee Chairman Devin Nu...</td>\n",
       "      <td>News</td>\n",
       "      <td>December 31, 2017</td>\n",
       "      <td>1</td>\n",
       "    </tr>\n",
       "  </tbody>\n",
       "</table>\n",
       "</div>"
      ],
      "text/plain": [
       "                                               title  \\\n",
       "0   Donald Trump Sends Out Embarrassing New Year’...   \n",
       "1   Drunk Bragging Trump Staffer Started Russian ...   \n",
       "\n",
       "                                                text subject  \\\n",
       "0  Donald Trump just couldn t wish all Americans ...    News   \n",
       "1  House Intelligence Committee Chairman Devin Nu...    News   \n",
       "\n",
       "                date  label  \n",
       "0  December 31, 2017      1  \n",
       "1  December 31, 2017      1  "
      ]
     },
     "execution_count": 4,
     "metadata": {},
     "output_type": "execute_result"
    }
   ],
   "source": [
    "fake_df.head(2)"
   ]
  },
  {
   "cell_type": "code",
   "execution_count": 5,
   "id": "3629e954",
   "metadata": {
    "execution": {
     "iopub.execute_input": "2023-10-08T18:49:42.624658Z",
     "iopub.status.busy": "2023-10-08T18:49:42.623854Z",
     "iopub.status.idle": "2023-10-08T18:49:42.633688Z",
     "shell.execute_reply": "2023-10-08T18:49:42.632647Z"
    },
    "papermill": {
     "duration": 0.026488,
     "end_time": "2023-10-08T18:49:42.635623",
     "exception": false,
     "start_time": "2023-10-08T18:49:42.609135",
     "status": "completed"
    },
    "tags": []
   },
   "outputs": [
    {
     "data": {
      "text/html": [
       "<div>\n",
       "<style scoped>\n",
       "    .dataframe tbody tr th:only-of-type {\n",
       "        vertical-align: middle;\n",
       "    }\n",
       "\n",
       "    .dataframe tbody tr th {\n",
       "        vertical-align: top;\n",
       "    }\n",
       "\n",
       "    .dataframe thead th {\n",
       "        text-align: right;\n",
       "    }\n",
       "</style>\n",
       "<table border=\"1\" class=\"dataframe\">\n",
       "  <thead>\n",
       "    <tr style=\"text-align: right;\">\n",
       "      <th></th>\n",
       "      <th>title</th>\n",
       "      <th>text</th>\n",
       "      <th>subject</th>\n",
       "      <th>date</th>\n",
       "      <th>label</th>\n",
       "    </tr>\n",
       "  </thead>\n",
       "  <tbody>\n",
       "    <tr>\n",
       "      <th>0</th>\n",
       "      <td>As U.S. budget fight looms, Republicans flip t...</td>\n",
       "      <td>WASHINGTON (Reuters) - The head of a conservat...</td>\n",
       "      <td>politicsNews</td>\n",
       "      <td>December 31, 2017</td>\n",
       "      <td>0</td>\n",
       "    </tr>\n",
       "    <tr>\n",
       "      <th>1</th>\n",
       "      <td>U.S. military to accept transgender recruits o...</td>\n",
       "      <td>WASHINGTON (Reuters) - Transgender people will...</td>\n",
       "      <td>politicsNews</td>\n",
       "      <td>December 29, 2017</td>\n",
       "      <td>0</td>\n",
       "    </tr>\n",
       "  </tbody>\n",
       "</table>\n",
       "</div>"
      ],
      "text/plain": [
       "                                               title  \\\n",
       "0  As U.S. budget fight looms, Republicans flip t...   \n",
       "1  U.S. military to accept transgender recruits o...   \n",
       "\n",
       "                                                text       subject  \\\n",
       "0  WASHINGTON (Reuters) - The head of a conservat...  politicsNews   \n",
       "1  WASHINGTON (Reuters) - Transgender people will...  politicsNews   \n",
       "\n",
       "                 date  label  \n",
       "0  December 31, 2017       0  \n",
       "1  December 29, 2017       0  "
      ]
     },
     "execution_count": 5,
     "metadata": {},
     "output_type": "execute_result"
    }
   ],
   "source": [
    "true_df.head(2)"
   ]
  },
  {
   "cell_type": "code",
   "execution_count": 6,
   "id": "6b0bad39",
   "metadata": {
    "execution": {
     "iopub.execute_input": "2023-10-08T18:49:42.664961Z",
     "iopub.status.busy": "2023-10-08T18:49:42.664413Z",
     "iopub.status.idle": "2023-10-08T18:49:42.674038Z",
     "shell.execute_reply": "2023-10-08T18:49:42.673120Z"
    },
    "papermill": {
     "duration": 0.026292,
     "end_time": "2023-10-08T18:49:42.675901",
     "exception": false,
     "start_time": "2023-10-08T18:49:42.649609",
     "status": "completed"
    },
    "tags": []
   },
   "outputs": [],
   "source": [
    "news_df = pd.concat([true_df, fake_df], ignore_index=True)"
   ]
  },
  {
   "cell_type": "code",
   "execution_count": 7,
   "id": "28fc383c",
   "metadata": {
    "execution": {
     "iopub.execute_input": "2023-10-08T18:49:42.705516Z",
     "iopub.status.busy": "2023-10-08T18:49:42.704942Z",
     "iopub.status.idle": "2023-10-08T18:49:42.715607Z",
     "shell.execute_reply": "2023-10-08T18:49:42.714458Z"
    },
    "papermill": {
     "duration": 0.027636,
     "end_time": "2023-10-08T18:49:42.717521",
     "exception": false,
     "start_time": "2023-10-08T18:49:42.689885",
     "status": "completed"
    },
    "tags": []
   },
   "outputs": [
    {
     "data": {
      "text/html": [
       "<div>\n",
       "<style scoped>\n",
       "    .dataframe tbody tr th:only-of-type {\n",
       "        vertical-align: middle;\n",
       "    }\n",
       "\n",
       "    .dataframe tbody tr th {\n",
       "        vertical-align: top;\n",
       "    }\n",
       "\n",
       "    .dataframe thead th {\n",
       "        text-align: right;\n",
       "    }\n",
       "</style>\n",
       "<table border=\"1\" class=\"dataframe\">\n",
       "  <thead>\n",
       "    <tr style=\"text-align: right;\">\n",
       "      <th></th>\n",
       "      <th>title</th>\n",
       "      <th>text</th>\n",
       "      <th>subject</th>\n",
       "      <th>date</th>\n",
       "      <th>label</th>\n",
       "    </tr>\n",
       "  </thead>\n",
       "  <tbody>\n",
       "    <tr>\n",
       "      <th>0</th>\n",
       "      <td>As U.S. budget fight looms, Republicans flip t...</td>\n",
       "      <td>WASHINGTON (Reuters) - The head of a conservat...</td>\n",
       "      <td>politicsNews</td>\n",
       "      <td>December 31, 2017</td>\n",
       "      <td>0</td>\n",
       "    </tr>\n",
       "    <tr>\n",
       "      <th>1</th>\n",
       "      <td>U.S. military to accept transgender recruits o...</td>\n",
       "      <td>WASHINGTON (Reuters) - Transgender people will...</td>\n",
       "      <td>politicsNews</td>\n",
       "      <td>December 29, 2017</td>\n",
       "      <td>0</td>\n",
       "    </tr>\n",
       "  </tbody>\n",
       "</table>\n",
       "</div>"
      ],
      "text/plain": [
       "                                               title  \\\n",
       "0  As U.S. budget fight looms, Republicans flip t...   \n",
       "1  U.S. military to accept transgender recruits o...   \n",
       "\n",
       "                                                text       subject  \\\n",
       "0  WASHINGTON (Reuters) - The head of a conservat...  politicsNews   \n",
       "1  WASHINGTON (Reuters) - Transgender people will...  politicsNews   \n",
       "\n",
       "                 date  label  \n",
       "0  December 31, 2017       0  \n",
       "1  December 29, 2017       0  "
      ]
     },
     "execution_count": 7,
     "metadata": {},
     "output_type": "execute_result"
    }
   ],
   "source": [
    "news_df.head(2)"
   ]
  },
  {
   "cell_type": "markdown",
   "id": "9e0130f6",
   "metadata": {
    "papermill": {
     "duration": 0.014417,
     "end_time": "2023-10-08T18:49:42.746078",
     "exception": false,
     "start_time": "2023-10-08T18:49:42.731661",
     "status": "completed"
    },
    "tags": []
   },
   "source": [
    "# About the Dataset:\n",
    "\n",
    "id: unique id for a news article                                     \n",
    "title: the title of a news article                                  \n",
    "author: author of the news article                                    \n",
    "text: the text of the article; could be incomplete                                        \n",
    "label: a label that marks whether the news article is real or fake:                              \n",
    "    1: Fake news                                                 \n",
    "    0: real News                                        "
   ]
  },
  {
   "cell_type": "markdown",
   "id": "6af71c35",
   "metadata": {
    "papermill": {
     "duration": 0.014045,
     "end_time": "2023-10-08T18:49:42.774292",
     "exception": false,
     "start_time": "2023-10-08T18:49:42.760247",
     "status": "completed"
    },
    "tags": []
   },
   "source": [
    "## 1.1 Preprocessing "
   ]
  },
  {
   "cell_type": "code",
   "execution_count": 8,
   "id": "180bcf1d",
   "metadata": {
    "execution": {
     "iopub.execute_input": "2023-10-08T18:49:42.806577Z",
     "iopub.status.busy": "2023-10-08T18:49:42.805611Z",
     "iopub.status.idle": "2023-10-08T18:49:42.827286Z",
     "shell.execute_reply": "2023-10-08T18:49:42.826214Z"
    },
    "papermill": {
     "duration": 0.040927,
     "end_time": "2023-10-08T18:49:42.829283",
     "exception": false,
     "start_time": "2023-10-08T18:49:42.788356",
     "status": "completed"
    },
    "tags": []
   },
   "outputs": [
    {
     "data": {
      "text/plain": [
       "title      0\n",
       "text       0\n",
       "subject    0\n",
       "date       0\n",
       "label      0\n",
       "dtype: int64"
      ]
     },
     "execution_count": 8,
     "metadata": {},
     "output_type": "execute_result"
    }
   ],
   "source": [
    "news_df.isnull().sum()"
   ]
  },
  {
   "cell_type": "code",
   "execution_count": 9,
   "id": "384cdaf4",
   "metadata": {
    "execution": {
     "iopub.execute_input": "2023-10-08T18:49:42.858877Z",
     "iopub.status.busy": "2023-10-08T18:49:42.858602Z",
     "iopub.status.idle": "2023-10-08T18:49:42.864426Z",
     "shell.execute_reply": "2023-10-08T18:49:42.863426Z"
    },
    "papermill": {
     "duration": 0.022763,
     "end_time": "2023-10-08T18:49:42.866328",
     "exception": false,
     "start_time": "2023-10-08T18:49:42.843565",
     "status": "completed"
    },
    "tags": []
   },
   "outputs": [
    {
     "data": {
      "text/plain": [
       "(44898, 5)"
      ]
     },
     "execution_count": 9,
     "metadata": {},
     "output_type": "execute_result"
    }
   ],
   "source": [
    "news_df.shape"
   ]
  },
  {
   "cell_type": "code",
   "execution_count": 10,
   "id": "dea9e98a",
   "metadata": {
    "execution": {
     "iopub.execute_input": "2023-10-08T18:49:42.897645Z",
     "iopub.status.busy": "2023-10-08T18:49:42.897075Z",
     "iopub.status.idle": "2023-10-08T18:49:42.918247Z",
     "shell.execute_reply": "2023-10-08T18:49:42.917308Z"
    },
    "papermill": {
     "duration": 0.039711,
     "end_time": "2023-10-08T18:49:42.920261",
     "exception": false,
     "start_time": "2023-10-08T18:49:42.880550",
     "status": "completed"
    },
    "tags": []
   },
   "outputs": [],
   "source": [
    "news_df = news_df.fillna(' ')"
   ]
  },
  {
   "cell_type": "code",
   "execution_count": 11,
   "id": "a04d22a3",
   "metadata": {
    "execution": {
     "iopub.execute_input": "2023-10-08T18:49:42.950827Z",
     "iopub.status.busy": "2023-10-08T18:49:42.950559Z",
     "iopub.status.idle": "2023-10-08T18:49:42.970333Z",
     "shell.execute_reply": "2023-10-08T18:49:42.969289Z"
    },
    "papermill": {
     "duration": 0.037264,
     "end_time": "2023-10-08T18:49:42.972355",
     "exception": false,
     "start_time": "2023-10-08T18:49:42.935091",
     "status": "completed"
    },
    "tags": []
   },
   "outputs": [
    {
     "data": {
      "text/plain": [
       "title      0\n",
       "text       0\n",
       "subject    0\n",
       "date       0\n",
       "label      0\n",
       "dtype: int64"
      ]
     },
     "execution_count": 11,
     "metadata": {},
     "output_type": "execute_result"
    }
   ],
   "source": [
    "news_df.isnull().sum()"
   ]
  },
  {
   "cell_type": "code",
   "execution_count": 12,
   "id": "f879d887",
   "metadata": {
    "execution": {
     "iopub.execute_input": "2023-10-08T18:49:43.002783Z",
     "iopub.status.busy": "2023-10-08T18:49:43.001987Z",
     "iopub.status.idle": "2023-10-08T18:49:43.022588Z",
     "shell.execute_reply": "2023-10-08T18:49:43.021474Z"
    },
    "papermill": {
     "duration": 0.037772,
     "end_time": "2023-10-08T18:49:43.024458",
     "exception": false,
     "start_time": "2023-10-08T18:49:42.986686",
     "status": "completed"
    },
    "tags": []
   },
   "outputs": [
    {
     "data": {
      "text/html": [
       "<div>\n",
       "<style scoped>\n",
       "    .dataframe tbody tr th:only-of-type {\n",
       "        vertical-align: middle;\n",
       "    }\n",
       "\n",
       "    .dataframe tbody tr th {\n",
       "        vertical-align: top;\n",
       "    }\n",
       "\n",
       "    .dataframe thead th {\n",
       "        text-align: right;\n",
       "    }\n",
       "</style>\n",
       "<table border=\"1\" class=\"dataframe\">\n",
       "  <thead>\n",
       "    <tr style=\"text-align: right;\">\n",
       "      <th></th>\n",
       "      <th>text</th>\n",
       "      <th>label</th>\n",
       "    </tr>\n",
       "  </thead>\n",
       "  <tbody>\n",
       "    <tr>\n",
       "      <th>0</th>\n",
       "      <td>WASHINGTON (Reuters) - The head of a conservat...</td>\n",
       "      <td>0</td>\n",
       "    </tr>\n",
       "    <tr>\n",
       "      <th>1</th>\n",
       "      <td>WASHINGTON (Reuters) - Transgender people will...</td>\n",
       "      <td>0</td>\n",
       "    </tr>\n",
       "  </tbody>\n",
       "</table>\n",
       "</div>"
      ],
      "text/plain": [
       "                                                text  label\n",
       "0  WASHINGTON (Reuters) - The head of a conservat...      0\n",
       "1  WASHINGTON (Reuters) - Transgender people will...      0"
      ]
     },
     "execution_count": 12,
     "metadata": {},
     "output_type": "execute_result"
    }
   ],
   "source": [
    "news_df = news_df.drop(['title', 'subject', 'date'], axis=1)\n",
    "news_df.head(2)"
   ]
  },
  {
   "cell_type": "code",
   "execution_count": 13,
   "id": "d956db4f",
   "metadata": {
    "execution": {
     "iopub.execute_input": "2023-10-08T18:49:43.055807Z",
     "iopub.status.busy": "2023-10-08T18:49:43.055432Z",
     "iopub.status.idle": "2023-10-08T18:49:43.061540Z",
     "shell.execute_reply": "2023-10-08T18:49:43.060538Z"
    },
    "papermill": {
     "duration": 0.023819,
     "end_time": "2023-10-08T18:49:43.063565",
     "exception": false,
     "start_time": "2023-10-08T18:49:43.039746",
     "status": "completed"
    },
    "tags": []
   },
   "outputs": [
    {
     "data": {
      "text/plain": [
       "'LONDON (Reuters) - British Prime Minister Theresa May is fully focused on tackling extremism, her spokesman said on Thursday, responding to a tweet by U.S. President Donald Trump telling her to focus on “destructive Radical Islamic Terrorism”. Asked if May was focused on tackling extremism: her spokesman said: “Yes.”  “The overwhelming majority of Muslims in this country are law-abiding people who abhor extremism in all its forms. The prime minister has been clear ... that where Islamist extremism does exist it should be tackled head on. We are working hard to do that both at home and internationally and ... with our U.S. partners.” '"
      ]
     },
     "execution_count": 13,
     "metadata": {},
     "output_type": "execute_result"
    }
   ],
   "source": [
    "news_df['text'][455]"
   ]
  },
  {
   "cell_type": "code",
   "execution_count": 14,
   "id": "83ac9d39",
   "metadata": {
    "execution": {
     "iopub.execute_input": "2023-10-08T18:49:43.094244Z",
     "iopub.status.busy": "2023-10-08T18:49:43.093711Z",
     "iopub.status.idle": "2023-10-08T18:49:43.099368Z",
     "shell.execute_reply": "2023-10-08T18:49:43.098355Z"
    },
    "papermill": {
     "duration": 0.023223,
     "end_time": "2023-10-08T18:49:43.101274",
     "exception": false,
     "start_time": "2023-10-08T18:49:43.078051",
     "status": "completed"
    },
    "tags": []
   },
   "outputs": [
    {
     "data": {
      "text/plain": [
       "(44898, 2)"
      ]
     },
     "execution_count": 14,
     "metadata": {},
     "output_type": "execute_result"
    }
   ],
   "source": [
    "news_df.shape"
   ]
  },
  {
   "cell_type": "markdown",
   "id": "31ce7c68",
   "metadata": {
    "papermill": {
     "duration": 0.015197,
     "end_time": "2023-10-08T18:49:43.131071",
     "exception": false,
     "start_time": "2023-10-08T18:49:43.115874",
     "status": "completed"
    },
    "tags": []
   },
   "source": [
    "### Slice The Dataset"
   ]
  },
  {
   "cell_type": "code",
   "execution_count": 15,
   "id": "1c772d07",
   "metadata": {
    "execution": {
     "iopub.execute_input": "2023-10-08T18:49:43.164043Z",
     "iopub.status.busy": "2023-10-08T18:49:43.163449Z",
     "iopub.status.idle": "2023-10-08T18:49:43.170238Z",
     "shell.execute_reply": "2023-10-08T18:49:43.169244Z"
    },
    "papermill": {
     "duration": 0.024188,
     "end_time": "2023-10-08T18:49:43.172150",
     "exception": false,
     "start_time": "2023-10-08T18:49:43.147962",
     "status": "completed"
    },
    "tags": []
   },
   "outputs": [
    {
     "data": {
      "text/plain": [
       "(8000, 2)"
      ]
     },
     "execution_count": 15,
     "metadata": {},
     "output_type": "execute_result"
    }
   ],
   "source": [
    "df = news_df[17000:25000]\n",
    "df = df.reset_index(drop=True)\n",
    "df.shape"
   ]
  },
  {
   "cell_type": "markdown",
   "id": "56827e41",
   "metadata": {
    "papermill": {
     "duration": 0.014692,
     "end_time": "2023-10-08T18:49:43.201838",
     "exception": false,
     "start_time": "2023-10-08T18:49:43.187146",
     "status": "completed"
    },
    "tags": []
   },
   "source": [
    "### Without slicing the dataset"
   ]
  },
  {
   "cell_type": "code",
   "execution_count": 16,
   "id": "212cfa06",
   "metadata": {
    "execution": {
     "iopub.execute_input": "2023-10-08T18:49:43.234044Z",
     "iopub.status.busy": "2023-10-08T18:49:43.233111Z",
     "iopub.status.idle": "2023-10-08T18:49:43.241155Z",
     "shell.execute_reply": "2023-10-08T18:49:43.240153Z"
    },
    "papermill": {
     "duration": 0.026143,
     "end_time": "2023-10-08T18:49:43.243048",
     "exception": false,
     "start_time": "2023-10-08T18:49:43.216905",
     "status": "completed"
    },
    "tags": []
   },
   "outputs": [
    {
     "data": {
      "text/plain": [
       "(44898, 2)"
      ]
     },
     "execution_count": 16,
     "metadata": {},
     "output_type": "execute_result"
    }
   ],
   "source": [
    "df = news_df.copy()\n",
    "df.shape"
   ]
  },
  {
   "cell_type": "code",
   "execution_count": 17,
   "id": "b14f66ee",
   "metadata": {
    "execution": {
     "iopub.execute_input": "2023-10-08T18:49:43.274841Z",
     "iopub.status.busy": "2023-10-08T18:49:43.274040Z",
     "iopub.status.idle": "2023-10-08T18:49:43.488225Z",
     "shell.execute_reply": "2023-10-08T18:49:43.487552Z"
    },
    "papermill": {
     "duration": 0.231684,
     "end_time": "2023-10-08T18:49:43.490133",
     "exception": false,
     "start_time": "2023-10-08T18:49:43.258449",
     "status": "completed"
    },
    "tags": []
   },
   "outputs": [
    {
     "data": {
      "image/png": "[encoded data removed]",
      "text/plain": [
       "<Figure size 640x480 with 1 Axes>"
      ]
     },
     "metadata": {},
     "output_type": "display_data"
    }
   ],
   "source": [
    " df.label.value_counts().plot(kind='bar', cmap='summer', title='News');"
   ]
  },
  {
   "cell_type": "code",
   "execution_count": 18,
   "id": "01ed20fe",
   "metadata": {
    "execution": {
     "iopub.execute_input": "2023-10-08T18:49:43.522760Z",
     "iopub.status.busy": "2023-10-08T18:49:43.522161Z",
     "iopub.status.idle": "2023-10-08T18:49:43.530844Z",
     "shell.execute_reply": "2023-10-08T18:49:43.529840Z"
    },
    "papermill": {
     "duration": 0.026942,
     "end_time": "2023-10-08T18:49:43.532879",
     "exception": false,
     "start_time": "2023-10-08T18:49:43.505937",
     "status": "completed"
    },
    "tags": []
   },
   "outputs": [
    {
     "data": {
      "text/html": [
       "<div>\n",
       "<style scoped>\n",
       "    .dataframe tbody tr th:only-of-type {\n",
       "        vertical-align: middle;\n",
       "    }\n",
       "\n",
       "    .dataframe tbody tr th {\n",
       "        vertical-align: top;\n",
       "    }\n",
       "\n",
       "    .dataframe thead th {\n",
       "        text-align: right;\n",
       "    }\n",
       "</style>\n",
       "<table border=\"1\" class=\"dataframe\">\n",
       "  <thead>\n",
       "    <tr style=\"text-align: right;\">\n",
       "      <th></th>\n",
       "      <th>text</th>\n",
       "      <th>label</th>\n",
       "    </tr>\n",
       "  </thead>\n",
       "  <tbody>\n",
       "    <tr>\n",
       "      <th>0</th>\n",
       "      <td>WASHINGTON (Reuters) - The head of a conservat...</td>\n",
       "      <td>0</td>\n",
       "    </tr>\n",
       "    <tr>\n",
       "      <th>1</th>\n",
       "      <td>WASHINGTON (Reuters) - Transgender people will...</td>\n",
       "      <td>0</td>\n",
       "    </tr>\n",
       "  </tbody>\n",
       "</table>\n",
       "</div>"
      ],
      "text/plain": [
       "                                                text  label\n",
       "0  WASHINGTON (Reuters) - The head of a conservat...      0\n",
       "1  WASHINGTON (Reuters) - Transgender people will...      0"
      ]
     },
     "execution_count": 18,
     "metadata": {},
     "output_type": "execute_result"
    }
   ],
   "source": [
    "df.head(2)"
   ]
  },
  {
   "cell_type": "code",
   "execution_count": 19,
   "id": "33ed12bb",
   "metadata": {
    "execution": {
     "iopub.execute_input": "2023-10-08T18:49:43.565123Z",
     "iopub.status.busy": "2023-10-08T18:49:43.564832Z",
     "iopub.status.idle": "2023-10-08T18:49:43.570799Z",
     "shell.execute_reply": "2023-10-08T18:49:43.569838Z"
    },
    "papermill": {
     "duration": 0.024708,
     "end_time": "2023-10-08T18:49:43.572900",
     "exception": false,
     "start_time": "2023-10-08T18:49:43.548192",
     "status": "completed"
    },
    "tags": []
   },
   "outputs": [
    {
     "data": {
      "text/plain": [
       "'LONDON (Reuters) - British Prime Minister Theresa May is fully focused on tackling extremism, her spokesman said on Thursday, responding to a tweet by U.S. President Donald Trump telling her to focus on “destructive Radical Islamic Terrorism”. Asked if May was focused on tackling extremism: her spokesman said: “Yes.”  “The overwhelming majority of Muslims in this country are law-abiding people who abhor extremism in all its forms. The prime minister has been clear ... that where Islamist extremism does exist it should be tackled head on. We are working hard to do that both at home and internationally and ... with our U.S. partners.” '"
      ]
     },
     "execution_count": 19,
     "metadata": {},
     "output_type": "execute_result"
    }
   ],
   "source": [
    "\n",
    "df['text'][455]"
   ]
  },
  {
   "cell_type": "code",
   "execution_count": 20,
   "id": "b127dcfe",
   "metadata": {
    "execution": {
     "iopub.execute_input": "2023-10-08T18:49:43.605593Z",
     "iopub.status.busy": "2023-10-08T18:49:43.604798Z",
     "iopub.status.idle": "2023-10-08T18:49:43.612373Z",
     "shell.execute_reply": "2023-10-08T18:49:43.611493Z"
    },
    "papermill": {
     "duration": 0.025479,
     "end_time": "2023-10-08T18:49:43.614253",
     "exception": false,
     "start_time": "2023-10-08T18:49:43.588774",
     "status": "completed"
    },
    "tags": []
   },
   "outputs": [],
   "source": [
    "def clean_text(test):\n",
    "    '''\n",
    "    Clean's up the unnecessary thiings of a text by replacing them with proper symbols.\n",
    "    '''\n",
    "    test = test.replace('<br/>', '')\n",
    "    test = test.replace('--', ' ')\n",
    "    test = test.replace(\"'\", '')\n",
    "    test = test.replace('\"','')\n",
    "#     test = test.replace('.', '')\n",
    "    test = test.replace(',', '')\n",
    "#     test = test.replace('?', '')\n",
    "#     test = test.replace('!', '')\n",
    "    test = test.replace('\\n', '')\n",
    "    test = test.replace('(', '')\n",
    "    test = test.replace(')', '')\n",
    "    test = test.lower()\n",
    "    test = test.replace('</li></ul><ul><li>', ' ')\n",
    "    test = test.replace('< ul><li >', ' ')\n",
    "    test = test.replace('< /li></ul >', ' ')\n",
    "    test = test.replace('</li><li >', ' ')\n",
    "    test = test.replace('< /li><li >', ' ')\n",
    "    test = ' '.join(filter(None, test.split()))\n",
    "     \n",
    "    return test"
   ]
  },
  {
   "cell_type": "code",
   "execution_count": 21,
   "id": "4e7a19ee",
   "metadata": {
    "execution": {
     "iopub.execute_input": "2023-10-08T18:49:43.645436Z",
     "iopub.status.busy": "2023-10-08T18:49:43.645179Z",
     "iopub.status.idle": "2023-10-08T18:49:46.777295Z",
     "shell.execute_reply": "2023-10-08T18:49:46.776120Z"
    },
    "papermill": {
     "duration": 3.150532,
     "end_time": "2023-10-08T18:49:46.779914",
     "exception": false,
     "start_time": "2023-10-08T18:49:43.629382",
     "status": "completed"
    },
    "tags": []
   },
   "outputs": [],
   "source": [
    "df.text = df.text.apply(clean_text)"
   ]
  },
  {
   "cell_type": "markdown",
   "id": "ea2a8c11",
   "metadata": {
    "papermill": {
     "duration": 0.018228,
     "end_time": "2023-10-08T18:49:46.814565",
     "exception": false,
     "start_time": "2023-10-08T18:49:46.796337",
     "status": "completed"
    },
    "tags": []
   },
   "source": [
    "## 2.0 Data Division"
   ]
  },
  {
   "cell_type": "code",
   "execution_count": 22,
   "id": "08d9711c",
   "metadata": {
    "execution": {
     "iopub.execute_input": "2023-10-08T18:49:46.848077Z",
     "iopub.status.busy": "2023-10-08T18:49:46.847374Z",
     "iopub.status.idle": "2023-10-08T18:49:46.865942Z",
     "shell.execute_reply": "2023-10-08T18:49:46.864782Z"
    },
    "papermill": {
     "duration": 0.037794,
     "end_time": "2023-10-08T18:49:46.868089",
     "exception": false,
     "start_time": "2023-10-08T18:49:46.830295",
     "status": "completed"
    },
    "tags": []
   },
   "outputs": [
    {
     "data": {
      "text/plain": [
       "(31428, 6735, 6735)"
      ]
     },
     "execution_count": 22,
     "metadata": {},
     "output_type": "execute_result"
    }
   ],
   "source": [
    "from sklearn.model_selection import train_test_split \n",
    "\n",
    "np.random.seed(71)\n",
    "train, temp = train_test_split(df, test_size=0.3)\n",
    "valid, test = train_test_split(temp, test_size=.5)\n",
    "len(train), len(test), len(valid)"
   ]
  },
  {
   "cell_type": "code",
   "execution_count": 23,
   "id": "a7675a7f",
   "metadata": {
    "execution": {
     "iopub.execute_input": "2023-10-08T18:49:46.902223Z",
     "iopub.status.busy": "2023-10-08T18:49:46.901899Z",
     "iopub.status.idle": "2023-10-08T18:49:46.910858Z",
     "shell.execute_reply": "2023-10-08T18:49:46.909833Z"
    },
    "papermill": {
     "duration": 0.029088,
     "end_time": "2023-10-08T18:49:46.913014",
     "exception": false,
     "start_time": "2023-10-08T18:49:46.883926",
     "status": "completed"
    },
    "tags": []
   },
   "outputs": [
    {
     "data": {
      "text/html": [
       "<div>\n",
       "<style scoped>\n",
       "    .dataframe tbody tr th:only-of-type {\n",
       "        vertical-align: middle;\n",
       "    }\n",
       "\n",
       "    .dataframe tbody tr th {\n",
       "        vertical-align: top;\n",
       "    }\n",
       "\n",
       "    .dataframe thead th {\n",
       "        text-align: right;\n",
       "    }\n",
       "</style>\n",
       "<table border=\"1\" class=\"dataframe\">\n",
       "  <thead>\n",
       "    <tr style=\"text-align: right;\">\n",
       "      <th></th>\n",
       "      <th>text</th>\n",
       "      <th>label</th>\n",
       "    </tr>\n",
       "  </thead>\n",
       "  <tbody>\n",
       "    <tr>\n",
       "      <th>6790</th>\n",
       "      <td>washington reuters - a bill to fund the u.s. g...</td>\n",
       "      <td>0</td>\n",
       "    </tr>\n",
       "    <tr>\n",
       "      <th>8291</th>\n",
       "      <td>moscow reuters - russian president vladimir pu...</td>\n",
       "      <td>0</td>\n",
       "    </tr>\n",
       "  </tbody>\n",
       "</table>\n",
       "</div>"
      ],
      "text/plain": [
       "                                                   text  label\n",
       "6790  washington reuters - a bill to fund the u.s. g...      0\n",
       "8291  moscow reuters - russian president vladimir pu...      0"
      ]
     },
     "execution_count": 23,
     "metadata": {},
     "output_type": "execute_result"
    }
   ],
   "source": [
    "train.head(2)"
   ]
  },
  {
   "cell_type": "code",
   "execution_count": 24,
   "id": "8c02db7e",
   "metadata": {
    "execution": {
     "iopub.execute_input": "2023-10-08T18:49:46.946989Z",
     "iopub.status.busy": "2023-10-08T18:49:46.946082Z",
     "iopub.status.idle": "2023-10-08T18:49:48.127919Z",
     "shell.execute_reply": "2023-10-08T18:49:48.126869Z"
    },
    "papermill": {
     "duration": 1.201404,
     "end_time": "2023-10-08T18:49:48.130400",
     "exception": false,
     "start_time": "2023-10-08T18:49:46.928996",
     "status": "completed"
    },
    "tags": []
   },
   "outputs": [],
   "source": [
    "from datasets import Dataset,DatasetDict\n",
    "dataset = DatasetDict({\n",
    "    \"train\": Dataset.from_pandas(train),\n",
    "    \"validation\": Dataset.from_pandas(valid)\n",
    "    })"
   ]
  },
  {
   "cell_type": "code",
   "execution_count": 25,
   "id": "bed583c2",
   "metadata": {
    "execution": {
     "iopub.execute_input": "2023-10-08T18:49:48.164937Z",
     "iopub.status.busy": "2023-10-08T18:49:48.164433Z",
     "iopub.status.idle": "2023-10-08T18:49:48.170491Z",
     "shell.execute_reply": "2023-10-08T18:49:48.169546Z"
    },
    "papermill": {
     "duration": 0.025294,
     "end_time": "2023-10-08T18:49:48.172464",
     "exception": false,
     "start_time": "2023-10-08T18:49:48.147170",
     "status": "completed"
    },
    "tags": []
   },
   "outputs": [
    {
     "data": {
      "text/plain": [
       "DatasetDict({\n",
       "    train: Dataset({\n",
       "        features: ['text', 'label', '__index_level_0__'],\n",
       "        num_rows: 31428\n",
       "    })\n",
       "    validation: Dataset({\n",
       "        features: ['text', 'label', '__index_level_0__'],\n",
       "        num_rows: 6735\n",
       "    })\n",
       "})"
      ]
     },
     "execution_count": 25,
     "metadata": {},
     "output_type": "execute_result"
    }
   ],
   "source": [
    "dataset"
   ]
  },
  {
   "cell_type": "markdown",
   "id": "501b0792",
   "metadata": {
    "papermill": {
     "duration": 0.015149,
     "end_time": "2023-10-08T18:49:48.203372",
     "exception": false,
     "start_time": "2023-10-08T18:49:48.188223",
     "status": "completed"
    },
    "tags": []
   },
   "source": [
    "## 2.1 Fine Tuned `BERT` Model "
   ]
  },
  {
   "cell_type": "code",
   "execution_count": 26,
   "id": "02327f44",
   "metadata": {
    "execution": {
     "iopub.execute_input": "2023-10-08T18:49:48.235591Z",
     "iopub.status.busy": "2023-10-08T18:49:48.235238Z",
     "iopub.status.idle": "2023-10-08T18:50:55.356256Z",
     "shell.execute_reply": "2023-10-08T18:50:55.355255Z"
    },
    "papermill": {
     "duration": 67.139423,
     "end_time": "2023-10-08T18:50:55.358339",
     "exception": false,
     "start_time": "2023-10-08T18:49:48.218916",
     "status": "completed"
    },
    "tags": []
   },
   "outputs": [
    {
     "data": {
      "application/vnd.jupyter.widget-view+json": {
       "model_id": "6a2b55ca3b81473485376664a5808305",
       "version_major": 2,
       "version_minor": 0
      },
      "text/plain": [
       "Downloading (…)okenizer_config.json:   0%|          | 0.00/28.0 [00:00<?, ?B/s]"
      ]
     },
     "metadata": {},
     "output_type": "display_data"
    },
    {
     "data": {
      "application/vnd.jupyter.widget-view+json": {
       "model_id": "2d109f6f5aa541cb82072818581636aa",
       "version_major": 2,
       "version_minor": 0
      },
      "text/plain": [
       "Downloading (…)lve/main/config.json:   0%|          | 0.00/483 [00:00<?, ?B/s]"
      ]
     },
     "metadata": {},
     "output_type": "display_data"
    },
    {
     "data": {
      "application/vnd.jupyter.widget-view+json": {
       "model_id": "73e5a01ce91b472a84b187b41723c831",
       "version_major": 2,
       "version_minor": 0
      },
      "text/plain": [
       "Downloading (…)solve/main/vocab.txt:   0%|          | 0.00/232k [00:00<?, ?B/s]"
      ]
     },
     "metadata": {},
     "output_type": "display_data"
    },
    {
     "data": {
      "application/vnd.jupyter.widget-view+json": {
       "model_id": "c3278821e7464172825bbd3d7bb7bba0",
       "version_major": 2,
       "version_minor": 0
      },
      "text/plain": [
       "Downloading (…)/main/tokenizer.json:   0%|          | 0.00/466k [00:00<?, ?B/s]"
      ]
     },
     "metadata": {},
     "output_type": "display_data"
    },
    {
     "data": {
      "application/vnd.jupyter.widget-view+json": {
       "model_id": "f8cd4ca285ab49b6bf1b727054eadd71",
       "version_major": 2,
       "version_minor": 0
      },
      "text/plain": [
       "  0%|          | 0/32 [00:00<?, ?ba/s]"
      ]
     },
     "metadata": {},
     "output_type": "display_data"
    },
    {
     "data": {
      "application/vnd.jupyter.widget-view+json": {
       "model_id": "eaab66f0c29c43c8830086e461d90a2e",
       "version_major": 2,
       "version_minor": 0
      },
      "text/plain": [
       "  0%|          | 0/7 [00:00<?, ?ba/s]"
      ]
     },
     "metadata": {},
     "output_type": "display_data"
    }
   ],
   "source": [
    "from transformers import BertTokenizer, TFBertModel,AutoTokenizer\n",
    "tokenizer = AutoTokenizer.from_pretrained('distilbert-base-uncased')\n",
    "\n",
    "def preprocess_function(examples):\n",
    "    return tokenizer(examples[\"text\"], truncation=True,padding=True)\n",
    "\n",
    "tokenized_data = dataset.map(preprocess_function, batched=True)"
   ]
  },
  {
   "cell_type": "code",
   "execution_count": 27,
   "id": "eae59c97",
   "metadata": {
    "execution": {
     "iopub.execute_input": "2023-10-08T18:50:55.393193Z",
     "iopub.status.busy": "2023-10-08T18:50:55.392597Z",
     "iopub.status.idle": "2023-10-08T18:50:55.399024Z",
     "shell.execute_reply": "2023-10-08T18:50:55.398015Z"
    },
    "papermill": {
     "duration": 0.025739,
     "end_time": "2023-10-08T18:50:55.400960",
     "exception": false,
     "start_time": "2023-10-08T18:50:55.375221",
     "status": "completed"
    },
    "tags": []
   },
   "outputs": [
    {
     "data": {
      "text/plain": [
       "DatasetDict({\n",
       "    train: Dataset({\n",
       "        features: ['text', 'label', '__index_level_0__', 'input_ids', 'attention_mask'],\n",
       "        num_rows: 31428\n",
       "    })\n",
       "    validation: Dataset({\n",
       "        features: ['text', 'label', '__index_level_0__', 'input_ids', 'attention_mask'],\n",
       "        num_rows: 6735\n",
       "    })\n",
       "})"
      ]
     },
     "execution_count": 27,
     "metadata": {},
     "output_type": "execute_result"
    }
   ],
   "source": [
    "tokenized_data"
   ]
  },
  {
   "cell_type": "code",
   "execution_count": 28,
   "id": "2250d5ce",
   "metadata": {
    "execution": {
     "iopub.execute_input": "2023-10-08T18:50:55.434934Z",
     "iopub.status.busy": "2023-10-08T18:50:55.434320Z",
     "iopub.status.idle": "2023-10-08T18:50:55.439086Z",
     "shell.execute_reply": "2023-10-08T18:50:55.438019Z"
    },
    "papermill": {
     "duration": 0.024068,
     "end_time": "2023-10-08T18:50:55.441041",
     "exception": false,
     "start_time": "2023-10-08T18:50:55.416973",
     "status": "completed"
    },
    "tags": []
   },
   "outputs": [],
   "source": [
    "from transformers import DataCollatorWithPadding\n",
    "#import evaluate\n",
    "#accuracy=evaluate.load(\"accuracy\")\n",
    "data_collator=DataCollatorWithPadding(tokenizer=tokenizer,return_tensors='tf')"
   ]
  },
  {
   "cell_type": "code",
   "execution_count": 29,
   "id": "02b68afe",
   "metadata": {
    "execution": {
     "iopub.execute_input": "2023-10-08T18:50:55.475983Z",
     "iopub.status.busy": "2023-10-08T18:50:55.475145Z",
     "iopub.status.idle": "2023-10-08T18:50:55.480640Z",
     "shell.execute_reply": "2023-10-08T18:50:55.479706Z"
    },
    "papermill": {
     "duration": 0.024765,
     "end_time": "2023-10-08T18:50:55.482569",
     "exception": false,
     "start_time": "2023-10-08T18:50:55.457804",
     "status": "completed"
    },
    "tags": []
   },
   "outputs": [],
   "source": [
    "def compute_metrics(eval_pred):\n",
    "  predictions,labels=eval_pred\n",
    "  predictions=np.argmax(predictions,axis=1)\n",
    "  return accuracy.compute(predictions=predictions,refernces=labels)"
   ]
  },
  {
   "cell_type": "code",
   "execution_count": 30,
   "id": "a94e5222",
   "metadata": {
    "execution": {
     "iopub.execute_input": "2023-10-08T18:50:55.517701Z",
     "iopub.status.busy": "2023-10-08T18:50:55.516862Z",
     "iopub.status.idle": "2023-10-08T18:51:04.194995Z",
     "shell.execute_reply": "2023-10-08T18:51:04.193914Z"
    },
    "papermill": {
     "duration": 8.698136,
     "end_time": "2023-10-08T18:51:04.197472",
     "exception": false,
     "start_time": "2023-10-08T18:50:55.499336",
     "status": "completed"
    },
    "tags": []
   },
   "outputs": [],
   "source": [
    "id2label = {0:0,1:1}\n",
    "label2id = {0:0,1:1}\n",
    "\n",
    "from transformers import create_optimizer\n",
    "import tensorflow as tf\n",
    "batch_size=16\n",
    "num_epochs = 5\n",
    "batch_per_epoch=len(tokenized_data[\"train\"])\n",
    "total_train_steps=int(batch_per_epoch*num_epochs)\n",
    "optimizer,schedule=create_optimizer(init_lr=2e-5, num_warmup_steps=0, num_train_steps=total_train_steps)"
   ]
  },
  {
   "cell_type": "code",
   "execution_count": 31,
   "id": "c2114ed1",
   "metadata": {
    "execution": {
     "iopub.execute_input": "2023-10-08T18:51:04.231826Z",
     "iopub.status.busy": "2023-10-08T18:51:04.231519Z",
     "iopub.status.idle": "2023-10-08T18:51:09.667965Z",
     "shell.execute_reply": "2023-10-08T18:51:09.664546Z"
    },
    "papermill": {
     "duration": 5.456149,
     "end_time": "2023-10-08T18:51:09.670461",
     "exception": false,
     "start_time": "2023-10-08T18:51:04.214312",
     "status": "completed"
    },
    "tags": []
   },
   "outputs": [
    {
     "data": {
      "application/vnd.jupyter.widget-view+json": {
       "model_id": "c094892d59434f09bf1fb7b6dd627cfc",
       "version_major": 2,
       "version_minor": 0
      },
      "text/plain": [
       "Downloading (…)\"tf_model.h5\";:   0%|          | 0.00/363M [00:00<?, ?B/s]"
      ]
     },
     "metadata": {},
     "output_type": "display_data"
    },
    {
     "name": "stderr",
     "output_type": "stream",
     "text": [
      "Some layers from the model checkpoint at distilbert-base-uncased were not used when initializing TFDistilBertForSequenceClassification: ['vocab_layer_norm', 'vocab_transform', 'vocab_projector', 'activation_13']\n",
      "- This IS expected if you are initializing TFDistilBertForSequenceClassification from the checkpoint of a model trained on another task or with another architecture (e.g. initializing a BertForSequenceClassification model from a BertForPreTraining model).\n",
      "- This IS NOT expected if you are initializing TFDistilBertForSequenceClassification from the checkpoint of a model that you expect to be exactly identical (initializing a BertForSequenceClassification model from a BertForSequenceClassification model).\n",
      "Some layers of TFDistilBertForSequenceClassification were not initialized from the model checkpoint at distilbert-base-uncased and are newly initialized: ['classifier', 'pre_classifier', 'dropout_19']\n",
      "You should probably TRAIN this model on a down-stream task to be able to use it for predictions and inference.\n"
     ]
    }
   ],
   "source": [
    "from transformers import TFAutoModelForSequenceClassification\n",
    "model=TFAutoModelForSequenceClassification.from_pretrained(\n",
    "    'distilbert-base-uncased',num_labels=2,id2label=id2label,label2id=label2id,ignore_mismatched_sizes=True\n",
    "    )"
   ]
  },
  {
   "cell_type": "code",
   "execution_count": 32,
   "id": "8571e381",
   "metadata": {
    "execution": {
     "iopub.execute_input": "2023-10-08T18:51:09.716208Z",
     "iopub.status.busy": "2023-10-08T18:51:09.715165Z",
     "iopub.status.idle": "2023-10-08T18:51:10.238779Z",
     "shell.execute_reply": "2023-10-08T18:51:10.237766Z"
    },
    "papermill": {
     "duration": 0.547584,
     "end_time": "2023-10-08T18:51:10.241163",
     "exception": false,
     "start_time": "2023-10-08T18:51:09.693579",
     "status": "completed"
    },
    "tags": []
   },
   "outputs": [
    {
     "name": "stderr",
     "output_type": "stream",
     "text": [
      "You're using a DistilBertTokenizerFast tokenizer. Please note that with a fast tokenizer, using the `__call__` method is faster than using a method to encode the text followed by a call to the `pad` method to get a padded encoding.\n"
     ]
    }
   ],
   "source": [
    "tf_train_set = model.prepare_tf_dataset(\n",
    "    tokenized_data[\"train\"],\n",
    "    shuffle=True,\n",
    "    batch_size=16,\n",
    "    collate_fn=data_collator,\n",
    ")\n",
    "\n",
    "\n",
    "tf_validation_set = model.prepare_tf_dataset(\n",
    "    tokenized_data[\"validation\"],\n",
    "    shuffle=False,\n",
    "    batch_size=16,\n",
    "    collate_fn=data_collator,\n",
    ")"
   ]
  },
  {
   "cell_type": "code",
   "execution_count": 33,
   "id": "23d06fb6",
   "metadata": {
    "execution": {
     "iopub.execute_input": "2023-10-08T18:51:10.277118Z",
     "iopub.status.busy": "2023-10-08T18:51:10.276788Z",
     "iopub.status.idle": "2023-10-08T18:51:10.295044Z",
     "shell.execute_reply": "2023-10-08T18:51:10.294106Z"
    },
    "papermill": {
     "duration": 0.038073,
     "end_time": "2023-10-08T18:51:10.297057",
     "exception": false,
     "start_time": "2023-10-08T18:51:10.258984",
     "status": "completed"
    },
    "tags": []
   },
   "outputs": [],
   "source": [
    "import tensorflow as tf\n",
    "\n",
    "model.compile(optimizer=tf.keras.optimizers.Adam(learning_rate=3e-5, epsilon=1e-08, clipnorm=1.0), \n",
    "              loss=tf.keras.losses.SparseCategoricalCrossentropy(from_logits=True), \n",
    "              metrics=[tf.keras.metrics.SparseCategoricalAccuracy('accuracy')])\n"
   ]
  },
  {
   "cell_type": "code",
   "execution_count": 34,
   "id": "fc6fa820",
   "metadata": {
    "execution": {
     "iopub.execute_input": "2023-10-08T18:51:10.332602Z",
     "iopub.status.busy": "2023-10-08T18:51:10.331707Z",
     "iopub.status.idle": "2023-10-08T18:51:10.338691Z",
     "shell.execute_reply": "2023-10-08T18:51:10.337692Z"
    },
    "papermill": {
     "duration": 0.026413,
     "end_time": "2023-10-08T18:51:10.340698",
     "exception": false,
     "start_time": "2023-10-08T18:51:10.314285",
     "status": "completed"
    },
    "tags": []
   },
   "outputs": [
    {
     "data": {
      "text/plain": [
       "DistilBertConfig {\n",
       "  \"_name_or_path\": \"distilbert-base-uncased\",\n",
       "  \"activation\": \"gelu\",\n",
       "  \"architectures\": [\n",
       "    \"DistilBertForMaskedLM\"\n",
       "  ],\n",
       "  \"attention_dropout\": 0.1,\n",
       "  \"dim\": 768,\n",
       "  \"dropout\": 0.1,\n",
       "  \"hidden_dim\": 3072,\n",
       "  \"id2label\": {\n",
       "    \"0\": 0,\n",
       "    \"1\": 1\n",
       "  },\n",
       "  \"initializer_range\": 0.02,\n",
       "  \"label2id\": {\n",
       "    \"0\": 0,\n",
       "    \"1\": 1\n",
       "  },\n",
       "  \"max_position_embeddings\": 512,\n",
       "  \"model_type\": \"distilbert\",\n",
       "  \"n_heads\": 12,\n",
       "  \"n_layers\": 6,\n",
       "  \"pad_token_id\": 0,\n",
       "  \"qa_dropout\": 0.1,\n",
       "  \"seq_classif_dropout\": 0.2,\n",
       "  \"sinusoidal_pos_embds\": false,\n",
       "  \"tie_weights_\": true,\n",
       "  \"transformers_version\": \"4.26.1\",\n",
       "  \"vocab_size\": 30522\n",
       "}"
      ]
     },
     "execution_count": 34,
     "metadata": {},
     "output_type": "execute_result"
    }
   ],
   "source": [
    "model.config"
   ]
  },
  {
   "cell_type": "code",
   "execution_count": 35,
   "id": "8098197a",
   "metadata": {
    "execution": {
     "iopub.execute_input": "2023-10-08T18:51:10.374891Z",
     "iopub.status.busy": "2023-10-08T18:51:10.374625Z",
     "iopub.status.idle": "2023-10-08T21:37:27.353571Z",
     "shell.execute_reply": "2023-10-08T21:37:27.352363Z"
    },
    "papermill": {
     "duration": 9976.999077,
     "end_time": "2023-10-08T21:37:27.356224",
     "exception": false,
     "start_time": "2023-10-08T18:51:10.357147",
     "status": "completed"
    },
    "tags": []
   },
   "outputs": [
    {
     "name": "stdout",
     "output_type": "stream",
     "text": [
      "Epoch 1/5\n",
      "1964/1964 [==============================] - 1974s 992ms/step - loss: 0.0108 - accuracy: 0.9973 - val_loss: 0.0022 - val_accuracy: 0.9996\n",
      "Epoch 2/5\n",
      "1964/1964 [==============================] - 1953s 994ms/step - loss: 0.0010 - accuracy: 0.9998 - val_loss: 0.0015 - val_accuracy: 0.9997\n",
      "Epoch 3/5\n",
      "1964/1964 [==============================] - 1953s 994ms/step - loss: 5.8740e-04 - accuracy: 0.9999 - val_loss: 0.0041 - val_accuracy: 0.9996\n",
      "Epoch 4/5\n",
      "1964/1964 [==============================] - 1952s 994ms/step - loss: 4.9444e-04 - accuracy: 0.9999 - val_loss: 0.0019 - val_accuracy: 0.9997\n",
      "Epoch 5/5\n",
      "1964/1964 [==============================] - 1949s 992ms/step - loss: 0.0019 - accuracy: 0.9996 - val_loss: 0.0018 - val_accuracy: 0.9999\n"
     ]
    }
   ],
   "source": [
    "history = model.fit(x=tf_train_set,validation_data=tf_validation_set, epochs = num_epochs)"
   ]
  },
  {
   "cell_type": "code",
   "execution_count": 36,
   "id": "5b3173c0",
   "metadata": {
    "execution": {
     "iopub.execute_input": "2023-10-08T21:37:28.321452Z",
     "iopub.status.busy": "2023-10-08T21:37:28.321098Z",
     "iopub.status.idle": "2023-10-08T21:37:28.329681Z",
     "shell.execute_reply": "2023-10-08T21:37:28.328376Z"
    },
    "papermill": {
     "duration": 0.458515,
     "end_time": "2023-10-08T21:37:28.331721",
     "exception": false,
     "start_time": "2023-10-08T21:37:27.873206",
     "status": "completed"
    },
    "tags": []
   },
   "outputs": [
    {
     "name": "stdout",
     "output_type": "stream",
     "text": [
      "train = [0.9973, 0.9998, 0.9999, 0.9999, 0.9996]\n",
      "\n",
      "validation = [0.9996, 0.9997, 0.9996, 0.9997, 0.9999]\n"
     ]
    }
   ],
   "source": [
    "# Get the training and validation accuracy from the history\n",
    "train_acc = history.history['accuracy']\n",
    "val_acc = history.history['val_accuracy']\n",
    "train_acc = [round(acc, 4) for acc in train_acc]\n",
    "print(f'train = {train_acc}\\n')\n",
    "val_acc = [round(acc, 4) for acc in val_acc]\n",
    "print(f'validation = {val_acc}')"
   ]
  },
  {
   "cell_type": "code",
   "execution_count": 37,
   "id": "743da67e",
   "metadata": {
    "execution": {
     "iopub.execute_input": "2023-10-08T21:37:29.226577Z",
     "iopub.status.busy": "2023-10-08T21:37:29.226008Z",
     "iopub.status.idle": "2023-10-08T21:37:29.496177Z",
     "shell.execute_reply": "2023-10-08T21:37:29.495200Z"
    },
    "papermill": {
     "duration": 0.721851,
     "end_time": "2023-10-08T21:37:29.498191",
     "exception": false,
     "start_time": "2023-10-08T21:37:28.776340",
     "status": "completed"
    },
    "tags": []
   },
   "outputs": [
    {
     "data": {
      "image/png": "[encoded data removed]",
      "text/plain": [
       "<Figure size 1000x300 with 1 Axes>"
      ]
     },
     "metadata": {},
     "output_type": "display_data"
    }
   ],
   "source": [
    "import matplotlib.pyplot as plt\n",
    "# # Example data\n",
    "epochs = [i for i in range(1, num_epochs+1)]\n",
    "#jk\n",
    "train_loss_1 = train_acc\n",
    "val_loss_1 = val_acc\n",
    "\n",
    "# Create three subplots\n",
    "fig, axes = plt.subplots(1, 1, figsize=(10, 3))\n",
    "\n",
    "# Plot for Model 1\n",
    "axes.plot(epochs, train_loss_1, label='Training Loss',color='orange', linestyle='-', \n",
    "             marker='o')\n",
    "axes.plot(epochs, val_loss_1, label='Validation Loss', color='green', linestyle='-', \n",
    "             marker='o')\n",
    "axes.set_xlabel('Epochs')\n",
    "axes.set_ylabel('Accuracy')\n",
    "axes.set_title('ModelS')\n",
    "axes.set_ylim([0, 1])\n",
    "\n",
    "# Add legend at the top\n",
    "legend_labels = ['Training', 'Validation']\n",
    "fig.legend(legend_labels, loc='upper center', \n",
    "           bbox_to_anchor=(0.5, 1.10), ncol=2, fancybox=True, shadow=True)\n",
    "\n",
    "\n",
    "\n",
    "# Adjust spacing between subplots\n",
    "plt.tight_layout()\n",
    "\n",
    "# Display the plot\n",
    "plt.show()\n"
   ]
  },
  {
   "cell_type": "markdown",
   "id": "34d5e0bd",
   "metadata": {
    "papermill": {
     "duration": 0.454768,
     "end_time": "2023-10-08T21:37:30.472694",
     "exception": false,
     "start_time": "2023-10-08T21:37:30.017926",
     "status": "completed"
    },
    "tags": []
   },
   "source": [
    "## 3. Evaluation"
   ]
  },
  {
   "cell_type": "code",
   "execution_count": 38,
   "id": "2eedef2b",
   "metadata": {
    "execution": {
     "iopub.execute_input": "2023-10-08T21:37:31.444718Z",
     "iopub.status.busy": "2023-10-08T21:37:31.444118Z",
     "iopub.status.idle": "2023-10-08T21:37:31.451421Z",
     "shell.execute_reply": "2023-10-08T21:37:31.450304Z"
    },
    "papermill": {
     "duration": 0.527619,
     "end_time": "2023-10-08T21:37:31.453347",
     "exception": false,
     "start_time": "2023-10-08T21:37:30.925728",
     "status": "completed"
    },
    "tags": []
   },
   "outputs": [],
   "source": [
    "def custom_test(text, max_seq_length=512):\n",
    "    # Tokenize the text\n",
    "    inputs = tokenizer(text, return_tensors=\"tf\", truncation=True, max_length=max_seq_length, padding=True)\n",
    "    \n",
    "    # Check if the input sequence was truncated\n",
    "    if len(inputs.input_ids[0]) > max_seq_length:\n",
    "        print(\"Warning: Input sequence was truncated.\")\n",
    "    \n",
    "    # Perform the prediction\n",
    "    tf_outputs = model(**inputs)\n",
    "    logits = tf_outputs.logits\n",
    "    predicted_class_id = int(tf.math.argmax(logits, axis=-1)[0])\n",
    "    return predicted_class_id\n"
   ]
  },
  {
   "cell_type": "code",
   "execution_count": 39,
   "id": "86e0d815",
   "metadata": {
    "execution": {
     "iopub.execute_input": "2023-10-08T21:37:32.358225Z",
     "iopub.status.busy": "2023-10-08T21:37:32.357684Z",
     "iopub.status.idle": "2023-10-08T21:37:32.368350Z",
     "shell.execute_reply": "2023-10-08T21:37:32.367350Z"
    },
    "papermill": {
     "duration": 0.468215,
     "end_time": "2023-10-08T21:37:32.370837",
     "exception": false,
     "start_time": "2023-10-08T21:37:31.902622",
     "status": "completed"
    },
    "tags": []
   },
   "outputs": [
    {
     "data": {
      "text/html": [
       "<div>\n",
       "<style scoped>\n",
       "    .dataframe tbody tr th:only-of-type {\n",
       "        vertical-align: middle;\n",
       "    }\n",
       "\n",
       "    .dataframe tbody tr th {\n",
       "        vertical-align: top;\n",
       "    }\n",
       "\n",
       "    .dataframe thead th {\n",
       "        text-align: right;\n",
       "    }\n",
       "</style>\n",
       "<table border=\"1\" class=\"dataframe\">\n",
       "  <thead>\n",
       "    <tr style=\"text-align: right;\">\n",
       "      <th></th>\n",
       "      <th>text</th>\n",
       "      <th>label</th>\n",
       "    </tr>\n",
       "  </thead>\n",
       "  <tbody>\n",
       "    <tr>\n",
       "      <th>36765</th>\n",
       "      <td>it s time to stop hitting the snooze button am...</td>\n",
       "      <td>1</td>\n",
       "    </tr>\n",
       "    <tr>\n",
       "      <th>23110</th>\n",
       "      <td>how bad is trump for the gop? it seems he s wo...</td>\n",
       "      <td>1</td>\n",
       "    </tr>\n",
       "  </tbody>\n",
       "</table>\n",
       "</div>"
      ],
      "text/plain": [
       "                                                    text  label\n",
       "36765  it s time to stop hitting the snooze button am...      1\n",
       "23110  how bad is trump for the gop? it seems he s wo...      1"
      ]
     },
     "execution_count": 39,
     "metadata": {},
     "output_type": "execute_result"
    }
   ],
   "source": [
    "test.head(2)"
   ]
  },
  {
   "cell_type": "code",
   "execution_count": 40,
   "id": "8865bea2",
   "metadata": {
    "execution": {
     "iopub.execute_input": "2023-10-08T21:37:33.356953Z",
     "iopub.status.busy": "2023-10-08T21:37:33.356598Z",
     "iopub.status.idle": "2023-10-08T21:37:33.364377Z",
     "shell.execute_reply": "2023-10-08T21:37:33.363375Z"
    },
    "papermill": {
     "duration": 0.475606,
     "end_time": "2023-10-08T21:37:33.366353",
     "exception": false,
     "start_time": "2023-10-08T21:37:32.890747",
     "status": "completed"
    },
    "tags": []
   },
   "outputs": [
    {
     "data": {
      "text/plain": [
       "36765    it s time to stop hitting the snooze button am...\n",
       "23110    how bad is trump for the gop? it seems he s wo...\n",
       "20660    new delhi reuters - india has issued new norms...\n",
       "Name: text, dtype: object"
      ]
     },
     "execution_count": 40,
     "metadata": {},
     "output_type": "execute_result"
    }
   ],
   "source": [
    "test_text = test['text']\n",
    "test_text.head(3)"
   ]
  },
  {
   "cell_type": "code",
   "execution_count": 41,
   "id": "12141b14",
   "metadata": {
    "execution": {
     "iopub.execute_input": "2023-10-08T21:37:34.408136Z",
     "iopub.status.busy": "2023-10-08T21:37:34.407788Z",
     "iopub.status.idle": "2023-10-08T21:37:34.414848Z",
     "shell.execute_reply": "2023-10-08T21:37:34.413790Z"
    },
    "papermill": {
     "duration": 0.581177,
     "end_time": "2023-10-08T21:37:34.416749",
     "exception": false,
     "start_time": "2023-10-08T21:37:33.835572",
     "status": "completed"
    },
    "tags": []
   },
   "outputs": [
    {
     "data": {
      "text/plain": [
       "array([1, 1, 0, 0, 1, 1, 1, 1, 0, 0])"
      ]
     },
     "execution_count": 41,
     "metadata": {},
     "output_type": "execute_result"
    }
   ],
   "source": [
    "y_true = test['label'].values\n",
    "y_true [:10]"
   ]
  },
  {
   "cell_type": "code",
   "execution_count": 42,
   "id": "763e6013",
   "metadata": {
    "execution": {
     "iopub.execute_input": "2023-10-08T21:37:35.750676Z",
     "iopub.status.busy": "2023-10-08T21:37:35.750165Z",
     "iopub.status.idle": "2023-10-08T21:37:35.761739Z",
     "shell.execute_reply": "2023-10-08T21:37:35.760800Z"
    },
    "papermill": {
     "duration": 0.897578,
     "end_time": "2023-10-08T21:37:35.764648",
     "exception": false,
     "start_time": "2023-10-08T21:37:34.867070",
     "status": "completed"
    },
    "tags": []
   },
   "outputs": [
    {
     "data": {
      "text/html": [
       "<div>\n",
       "<style scoped>\n",
       "    .dataframe tbody tr th:only-of-type {\n",
       "        vertical-align: middle;\n",
       "    }\n",
       "\n",
       "    .dataframe tbody tr th {\n",
       "        vertical-align: top;\n",
       "    }\n",
       "\n",
       "    .dataframe thead th {\n",
       "        text-align: right;\n",
       "    }\n",
       "</style>\n",
       "<table border=\"1\" class=\"dataframe\">\n",
       "  <thead>\n",
       "    <tr style=\"text-align: right;\">\n",
       "      <th></th>\n",
       "      <th>text</th>\n",
       "      <th>label</th>\n",
       "    </tr>\n",
       "  </thead>\n",
       "  <tbody>\n",
       "    <tr>\n",
       "      <th>36765</th>\n",
       "      <td>it s time to stop hitting the snooze button am...</td>\n",
       "      <td>1</td>\n",
       "    </tr>\n",
       "    <tr>\n",
       "      <th>23110</th>\n",
       "      <td>how bad is trump for the gop? it seems he s wo...</td>\n",
       "      <td>1</td>\n",
       "    </tr>\n",
       "  </tbody>\n",
       "</table>\n",
       "</div>"
      ],
      "text/plain": [
       "                                                    text  label\n",
       "36765  it s time to stop hitting the snooze button am...      1\n",
       "23110  how bad is trump for the gop? it seems he s wo...      1"
      ]
     },
     "execution_count": 42,
     "metadata": {},
     "output_type": "execute_result"
    }
   ],
   "source": [
    "test.head(2)"
   ]
  },
  {
   "cell_type": "code",
   "execution_count": 43,
   "id": "d75b30c7",
   "metadata": {
    "execution": {
     "iopub.execute_input": "2023-10-08T21:37:37.060964Z",
     "iopub.status.busy": "2023-10-08T21:37:37.060597Z",
     "iopub.status.idle": "2023-10-08T21:48:41.800350Z",
     "shell.execute_reply": "2023-10-08T21:48:41.799194Z"
    },
    "papermill": {
     "duration": 665.197022,
     "end_time": "2023-10-08T21:48:41.802413",
     "exception": false,
     "start_time": "2023-10-08T21:37:36.605391",
     "status": "completed"
    },
    "tags": []
   },
   "outputs": [
    {
     "name": "stderr",
     "output_type": "stream",
     "text": [
      "100%|██████████| 6735/6735 [11:04<00:00, 10.13it/s]\n"
     ]
    },
    {
     "data": {
      "text/plain": [
       "[1, 1, 0, 0, 1, 1, 1, 1, 0, 0]"
      ]
     },
     "execution_count": 43,
     "metadata": {},
     "output_type": "execute_result"
    }
   ],
   "source": [
    "from tqdm import tqdm\n",
    "y_pred = []\n",
    "for text in tqdm(test_text):\n",
    "    try:\n",
    "        ans = custom_test(text)\n",
    "        y_pred.append(ans)\n",
    "    except:\n",
    "        y_pred.append(0)\n",
    "y_pred[:10]"
   ]
  },
  {
   "cell_type": "markdown",
   "id": "e0bf763a",
   "metadata": {
    "papermill": {
     "duration": 0.602323,
     "end_time": "2023-10-08T21:48:43.082650",
     "exception": false,
     "start_time": "2023-10-08T21:48:42.480327",
     "status": "completed"
    },
    "tags": []
   },
   "source": [
    "## 3.1 Confusion Matrix"
   ]
  },
  {
   "cell_type": "code",
   "execution_count": 44,
   "id": "a8ac2019",
   "metadata": {
    "execution": {
     "iopub.execute_input": "2023-10-08T21:48:44.429444Z",
     "iopub.status.busy": "2023-10-08T21:48:44.429080Z",
     "iopub.status.idle": "2023-10-08T21:48:44.661460Z",
     "shell.execute_reply": "2023-10-08T21:48:44.660504Z"
    },
    "papermill": {
     "duration": 0.894564,
     "end_time": "2023-10-08T21:48:44.663494",
     "exception": false,
     "start_time": "2023-10-08T21:48:43.768930",
     "status": "completed"
    },
    "tags": []
   },
   "outputs": [
    {
     "data": {
      "image/png": "[encoded data removed]",
      "text/plain": [
       "<Figure size 640x480 with 2 Axes>"
      ]
     },
     "metadata": {},
     "output_type": "display_data"
    }
   ],
   "source": [
    "from sklearn import metrics\n",
    "import matplotlib.pyplot as plt\n",
    "confusion_matrix = metrics.confusion_matrix(y_true, y_pred)\n",
    "\n",
    "cm_display = metrics.ConfusionMatrixDisplay(confusion_matrix = confusion_matrix, display_labels = ['True', 'False'])\n",
    "\n",
    "cm_display.plot()\n",
    "plt.show()"
   ]
  },
  {
   "cell_type": "code",
   "execution_count": 45,
   "id": "cf9b0c12",
   "metadata": {
    "execution": {
     "iopub.execute_input": "2023-10-08T21:48:46.671916Z",
     "iopub.status.busy": "2023-10-08T21:48:46.671358Z",
     "iopub.status.idle": "2023-10-08T21:48:46.781105Z",
     "shell.execute_reply": "2023-10-08T21:48:46.779964Z"
    },
    "papermill": {
     "duration": 1.039343,
     "end_time": "2023-10-08T21:48:46.783394",
     "exception": false,
     "start_time": "2023-10-08T21:48:45.744051",
     "status": "completed"
    },
    "tags": []
   },
   "outputs": [
    {
     "name": "stdout",
     "output_type": "stream",
     "text": [
      "GADSDEN, Ala. (Reuters) - In a U.S. Senate race rocked by allegations of sexual misconduct against Republican candidate Roy Moore, some women in his hometown said they were sticking by the embattled nominee while others said prayer would guide their votes on Tuesday. Caroll Norman, a retired middle school teacher in Gadsden, said she did not know if she would vote for a Democrat for the first time in her life or write in another name on her ballot. Perusing a candle shop downtown Monday evening, the Trump supporter said not even the president’s vocal backing of the embattled Republican nominee had swayed her. “I’ll have to pray about it and make a decision in the morning,” the 64-year-old Republican said. Reuters spoke to more than a dozen women in the religious, working-class city of about 36,000 people an hour from Birmingham. Gadsden landed in an unwelcome spotlight after multiple women came forward last month to accuse Moore of pursuing them when they were teenagers and he was a local prosecutors in his 30s. One accuser said he tried to initiate sexual contact with her when she was 14. Moore denounced the allegations as political attacks and refused to heed national Republicans’ calls to leave the race. Reuters has not independently confirmed any of the accusations. Norman said there were inconsistencies in the women’s stories, as well as in some of Moore’s responses.  Nearby at a bus stop downtown, where Christmas music played from speakers on light poles, Republican Sara Teet, 35, said she also remained conflicted. “I just don’t know what to believe,” she said. “I don’t know what to do.”  But at the Gadsden Mall, Republican Debbie Handy said she was voting for “the judge,” as many locals refer to Moore, a former Alabama Supreme Court chief justice.  “I’ve known him a long time and he’d never have anything to do with those women,” Handy, 40, said. “He’s a man of integrity. He’s a strong Christian.” Handy said she also liked Moore because he supports Trump, who last year won 73 percent of the presidential vote in Etowah County, where Gadsden is the county seat. “Trump and Moore will bring America back to what it should be,” she said. Robin Gibson, 61, a store clerk and self-described liberal Democrat, said she knew one of Moore’s accusers and she believed the allegations against him. Her vote on Tuesday for Democrat Doug Jones would have nothing to do with thwarting Trump or trying to erode the slim margin Republicans hold in the Senate, she said. “This isn’t a race about Trump’s plans for our country. It’s about who represents my state,” Gibson said. Around town, where there were noticeably few campaign signs for either candidate, many voters echoed the sentiments of Pat Miller in the final hours of the race. “We’ve had CNN and the Washington Post and some fellas from New York City all over the place,” said Miller, 54, as she walked out of the Gadsden Variety Café with a bowl of hot chili. “All I can say is that we all can’t wait for this to be over.” \n"
     ]
    },
    {
     "data": {
      "text/plain": [
       "0"
      ]
     },
     "execution_count": 45,
     "metadata": {},
     "output_type": "execute_result"
    }
   ],
   "source": [
    "rand_index = np.random.randint(0,1000)\n",
    "text = news_df['text'][rand_index]\n",
    "print(text)\n",
    "custom_test(text)"
   ]
  },
  {
   "cell_type": "markdown",
   "id": "747efa9d",
   "metadata": {
    "papermill": {
     "duration": 0.679617,
     "end_time": "2023-10-08T21:48:48.065624",
     "exception": false,
     "start_time": "2023-10-08T21:48:47.386007",
     "status": "completed"
    },
    "tags": []
   },
   "source": [
    "## 3.2 Accuracy Score"
   ]
  },
  {
   "cell_type": "code",
   "execution_count": 46,
   "id": "e55c0477",
   "metadata": {
    "execution": {
     "iopub.execute_input": "2023-10-08T21:48:49.286983Z",
     "iopub.status.busy": "2023-10-08T21:48:49.286369Z",
     "iopub.status.idle": "2023-10-08T21:48:49.295600Z",
     "shell.execute_reply": "2023-10-08T21:48:49.294423Z"
    },
    "papermill": {
     "duration": 0.627836,
     "end_time": "2023-10-08T21:48:49.297558",
     "exception": false,
     "start_time": "2023-10-08T21:48:48.669722",
     "status": "completed"
    },
    "tags": []
   },
   "outputs": [
    {
     "name": "stdout",
     "output_type": "stream",
     "text": [
      "Accuracy = 100.0%\n"
     ]
    }
   ],
   "source": [
    "from sklearn.metrics import accuracy_score\n",
    "print(f'Accuracy = {accuracy_score(y_true,y_pred) * 100}%')"
   ]
  },
  {
   "cell_type": "markdown",
   "id": "a8504b9b",
   "metadata": {
    "papermill": {
     "duration": 0.60484,
     "end_time": "2023-10-08T21:48:50.576250",
     "exception": false,
     "start_time": "2023-10-08T21:48:49.971410",
     "status": "completed"
    },
    "tags": []
   },
   "source": [
    "## 3.3 ROC Curve"
   ]
  },
  {
   "cell_type": "code",
   "execution_count": 47,
   "id": "21a198f4",
   "metadata": {
    "execution": {
     "iopub.execute_input": "2023-10-08T21:48:51.868661Z",
     "iopub.status.busy": "2023-10-08T21:48:51.868276Z",
     "iopub.status.idle": "2023-10-08T21:48:51.874206Z",
     "shell.execute_reply": "2023-10-08T21:48:51.873092Z"
    },
    "papermill": {
     "duration": 0.613671,
     "end_time": "2023-10-08T21:48:51.876145",
     "exception": false,
     "start_time": "2023-10-08T21:48:51.262474",
     "status": "completed"
    },
    "tags": []
   },
   "outputs": [],
   "source": [
    "def final(text):\n",
    "    '''\n",
    "    Implements our awsome algorithm and gives final output\n",
    "    '''\n",
    "    inputs=tokenizer(text,return_tensors=\"tf\", truncation=True)\n",
    "    x = []\n",
    "    tf_outputs = model(inputs)                                  \n",
    "    tf_predictions_final = tf.nn.softmax(tf_outputs[0], axis=-1)  \n",
    "    x.append(tf_predictions_final.numpy().flatten())\n",
    "    return x"
   ]
  },
  {
   "cell_type": "code",
   "execution_count": 48,
   "id": "66891e70",
   "metadata": {
    "execution": {
     "iopub.execute_input": "2023-10-08T21:48:53.157963Z",
     "iopub.status.busy": "2023-10-08T21:48:53.157608Z",
     "iopub.status.idle": "2023-10-08T21:48:53.167521Z",
     "shell.execute_reply": "2023-10-08T21:48:53.166559Z"
    },
    "papermill": {
     "duration": 0.623799,
     "end_time": "2023-10-08T21:48:53.169376",
     "exception": false,
     "start_time": "2023-10-08T21:48:52.545577",
     "status": "completed"
    },
    "tags": []
   },
   "outputs": [
    {
     "data": {
      "text/html": [
       "<div>\n",
       "<style scoped>\n",
       "    .dataframe tbody tr th:only-of-type {\n",
       "        vertical-align: middle;\n",
       "    }\n",
       "\n",
       "    .dataframe tbody tr th {\n",
       "        vertical-align: top;\n",
       "    }\n",
       "\n",
       "    .dataframe thead th {\n",
       "        text-align: right;\n",
       "    }\n",
       "</style>\n",
       "<table border=\"1\" class=\"dataframe\">\n",
       "  <thead>\n",
       "    <tr style=\"text-align: right;\">\n",
       "      <th></th>\n",
       "      <th>text</th>\n",
       "      <th>label</th>\n",
       "    </tr>\n",
       "  </thead>\n",
       "  <tbody>\n",
       "    <tr>\n",
       "      <th>0</th>\n",
       "      <td>it s time to stop hitting the snooze button am...</td>\n",
       "      <td>1</td>\n",
       "    </tr>\n",
       "    <tr>\n",
       "      <th>1</th>\n",
       "      <td>how bad is trump for the gop? it seems he s wo...</td>\n",
       "      <td>1</td>\n",
       "    </tr>\n",
       "  </tbody>\n",
       "</table>\n",
       "</div>"
      ],
      "text/plain": [
       "                                                text  label\n",
       "0  it s time to stop hitting the snooze button am...      1\n",
       "1  how bad is trump for the gop? it seems he s wo...      1"
      ]
     },
     "execution_count": 48,
     "metadata": {},
     "output_type": "execute_result"
    }
   ],
   "source": [
    "test = test.reset_index(drop=True)\n",
    "test.head(2)"
   ]
  },
  {
   "cell_type": "code",
   "execution_count": 49,
   "id": "192bb913",
   "metadata": {
    "execution": {
     "iopub.execute_input": "2023-10-08T21:48:54.513999Z",
     "iopub.status.busy": "2023-10-08T21:48:54.513384Z",
     "iopub.status.idle": "2023-10-08T21:48:54.620946Z",
     "shell.execute_reply": "2023-10-08T21:48:54.619846Z"
    },
    "papermill": {
     "duration": 0.844424,
     "end_time": "2023-10-08T21:48:54.623354",
     "exception": false,
     "start_time": "2023-10-08T21:48:53.778930",
     "status": "completed"
    },
    "tags": []
   },
   "outputs": [
    {
     "data": {
      "text/plain": [
       "[array([1.0804105e-05, 9.9998915e-01], dtype=float32)]"
      ]
     },
     "execution_count": 49,
     "metadata": {},
     "output_type": "execute_result"
    }
   ],
   "source": [
    "final(test['text'][0])"
   ]
  },
  {
   "cell_type": "code",
   "execution_count": 50,
   "id": "59b2e6f6",
   "metadata": {
    "execution": {
     "iopub.execute_input": "2023-10-08T21:48:55.843920Z",
     "iopub.status.busy": "2023-10-08T21:48:55.843315Z",
     "iopub.status.idle": "2023-10-08T21:48:55.850869Z",
     "shell.execute_reply": "2023-10-08T21:48:55.849843Z"
    },
    "papermill": {
     "duration": 0.612964,
     "end_time": "2023-10-08T21:48:55.852783",
     "exception": false,
     "start_time": "2023-10-08T21:48:55.239819",
     "status": "completed"
    },
    "tags": []
   },
   "outputs": [
    {
     "data": {
      "text/plain": [
       "0    it s time to stop hitting the snooze button am...\n",
       "1    how bad is trump for the gop? it seems he s wo...\n",
       "2    new delhi reuters - india has issued new norms...\n",
       "Name: text, dtype: object"
      ]
     },
     "execution_count": 50,
     "metadata": {},
     "output_type": "execute_result"
    }
   ],
   "source": [
    "test_text = test['text']\n",
    "test_text.head(3)"
   ]
  },
  {
   "cell_type": "code",
   "execution_count": 51,
   "id": "2c98c5db",
   "metadata": {
    "execution": {
     "iopub.execute_input": "2023-10-08T21:48:57.126589Z",
     "iopub.status.busy": "2023-10-08T21:48:57.126193Z",
     "iopub.status.idle": "2023-10-08T22:00:01.982118Z",
     "shell.execute_reply": "2023-10-08T22:00:01.980679Z"
    },
    "papermill": {
     "duration": 665.467211,
     "end_time": "2023-10-08T22:00:01.984183",
     "exception": false,
     "start_time": "2023-10-08T21:48:56.516972",
     "status": "completed"
    },
    "tags": []
   },
   "outputs": [
    {
     "name": "stderr",
     "output_type": "stream",
     "text": [
      "100%|██████████| 6735/6735 [11:04<00:00, 10.13it/s]\n"
     ]
    }
   ],
   "source": [
    "predict = []\n",
    "for text in tqdm(test_text):\n",
    "    re = final(text)\n",
    "    ans = []\n",
    "    for val in re:\n",
    "        for v in val:\n",
    "            ans.append(v)\n",
    "    np_array = np.array(ans)\n",
    "    np_array = np_array.tolist()\n",
    "    predict.append(np_array)"
   ]
  },
  {
   "cell_type": "code",
   "execution_count": 52,
   "id": "39136989",
   "metadata": {
    "execution": {
     "iopub.execute_input": "2023-10-08T22:00:03.588180Z",
     "iopub.status.busy": "2023-10-08T22:00:03.587814Z",
     "iopub.status.idle": "2023-10-08T22:00:03.600456Z",
     "shell.execute_reply": "2023-10-08T22:00:03.599318Z"
    },
    "papermill": {
     "duration": 0.848332,
     "end_time": "2023-10-08T22:00:03.602723",
     "exception": false,
     "start_time": "2023-10-08T22:00:02.754391",
     "status": "completed"
    },
    "tags": []
   },
   "outputs": [
    {
     "data": {
      "text/plain": [
       "array([[1.08041049e-05, 9.99989152e-01],\n",
       "       [9.69859411e-06, 9.99990344e-01],\n",
       "       [9.99882936e-01, 1.17088937e-04],\n",
       "       [9.99881983e-01, 1.18008742e-04],\n",
       "       [1.01389405e-05, 9.99989867e-01],\n",
       "       [8.31396937e-06, 9.99991655e-01],\n",
       "       [1.08874510e-05, 9.99989152e-01],\n",
       "       [1.28543415e-05, 9.99987125e-01],\n",
       "       [9.99875426e-01, 1.24533020e-04],\n",
       "       [9.99876380e-01, 1.23601596e-04]])"
      ]
     },
     "execution_count": 52,
     "metadata": {},
     "output_type": "execute_result"
    }
   ],
   "source": [
    "predict = np.array(predict)\n",
    "predict[:10]"
   ]
  },
  {
   "cell_type": "code",
   "execution_count": 53,
   "id": "977ac8de",
   "metadata": {
    "execution": {
     "iopub.execute_input": "2023-10-08T22:00:05.277989Z",
     "iopub.status.busy": "2023-10-08T22:00:05.277577Z",
     "iopub.status.idle": "2023-10-08T22:00:05.288117Z",
     "shell.execute_reply": "2023-10-08T22:00:05.287032Z"
    },
    "papermill": {
     "duration": 0.851205,
     "end_time": "2023-10-08T22:00:05.290281",
     "exception": false,
     "start_time": "2023-10-08T22:00:04.439076",
     "status": "completed"
    },
    "tags": []
   },
   "outputs": [
    {
     "data": {
      "text/html": [
       "<div>\n",
       "<style scoped>\n",
       "    .dataframe tbody tr th:only-of-type {\n",
       "        vertical-align: middle;\n",
       "    }\n",
       "\n",
       "    .dataframe tbody tr th {\n",
       "        vertical-align: top;\n",
       "    }\n",
       "\n",
       "    .dataframe thead th {\n",
       "        text-align: right;\n",
       "    }\n",
       "</style>\n",
       "<table border=\"1\" class=\"dataframe\">\n",
       "  <thead>\n",
       "    <tr style=\"text-align: right;\">\n",
       "      <th></th>\n",
       "      <th>text</th>\n",
       "      <th>label</th>\n",
       "    </tr>\n",
       "  </thead>\n",
       "  <tbody>\n",
       "    <tr>\n",
       "      <th>0</th>\n",
       "      <td>it s time to stop hitting the snooze button am...</td>\n",
       "      <td>1</td>\n",
       "    </tr>\n",
       "    <tr>\n",
       "      <th>1</th>\n",
       "      <td>how bad is trump for the gop? it seems he s wo...</td>\n",
       "      <td>1</td>\n",
       "    </tr>\n",
       "    <tr>\n",
       "      <th>2</th>\n",
       "      <td>new delhi reuters - india has issued new norms...</td>\n",
       "      <td>0</td>\n",
       "    </tr>\n",
       "    <tr>\n",
       "      <th>3</th>\n",
       "      <td>budapest reuters - the european union should s...</td>\n",
       "      <td>0</td>\n",
       "    </tr>\n",
       "    <tr>\n",
       "      <th>4</th>\n",
       "      <td>the explosion of a nuclear missile in the hear...</td>\n",
       "      <td>1</td>\n",
       "    </tr>\n",
       "    <tr>\n",
       "      <th>5</th>\n",
       "      <td>in your face progressivism they re not even at...</td>\n",
       "      <td>1</td>\n",
       "    </tr>\n",
       "    <tr>\n",
       "      <th>6</th>\n",
       "      <td>and here we thought terrorism was the only thi...</td>\n",
       "      <td>1</td>\n",
       "    </tr>\n",
       "    <tr>\n",
       "      <th>7</th>\n",
       "      <td>bill hemmer let mitch mcconnell have it but mc...</td>\n",
       "      <td>1</td>\n",
       "    </tr>\n",
       "    <tr>\n",
       "      <th>8</th>\n",
       "      <td>washington reuters - u.s. democratic senator a...</td>\n",
       "      <td>0</td>\n",
       "    </tr>\n",
       "    <tr>\n",
       "      <th>9</th>\n",
       "      <td>berlin reuters - disputes about climate and im...</td>\n",
       "      <td>0</td>\n",
       "    </tr>\n",
       "  </tbody>\n",
       "</table>\n",
       "</div>"
      ],
      "text/plain": [
       "                                                text  label\n",
       "0  it s time to stop hitting the snooze button am...      1\n",
       "1  how bad is trump for the gop? it seems he s wo...      1\n",
       "2  new delhi reuters - india has issued new norms...      0\n",
       "3  budapest reuters - the european union should s...      0\n",
       "4  the explosion of a nuclear missile in the hear...      1\n",
       "5  in your face progressivism they re not even at...      1\n",
       "6  and here we thought terrorism was the only thi...      1\n",
       "7  bill hemmer let mitch mcconnell have it but mc...      1\n",
       "8  washington reuters - u.s. democratic senator a...      0\n",
       "9  berlin reuters - disputes about climate and im...      0"
      ]
     },
     "execution_count": 53,
     "metadata": {},
     "output_type": "execute_result"
    }
   ],
   "source": [
    "test.head(10)"
   ]
  },
  {
   "cell_type": "code",
   "execution_count": 54,
   "id": "e298a98a",
   "metadata": {
    "execution": {
     "iopub.execute_input": "2023-10-08T22:00:06.891317Z",
     "iopub.status.busy": "2023-10-08T22:00:06.890394Z",
     "iopub.status.idle": "2023-10-08T22:00:06.895718Z",
     "shell.execute_reply": "2023-10-08T22:00:06.894565Z"
    },
    "papermill": {
     "duration": 0.773454,
     "end_time": "2023-10-08T22:00:06.897874",
     "exception": false,
     "start_time": "2023-10-08T22:00:06.124420",
     "status": "completed"
    },
    "tags": []
   },
   "outputs": [],
   "source": [
    "true = test['label'].values\n",
    "true = np.array(true)"
   ]
  },
  {
   "cell_type": "code",
   "execution_count": 55,
   "id": "81d0a7a9",
   "metadata": {
    "execution": {
     "iopub.execute_input": "2023-10-08T22:00:08.518991Z",
     "iopub.status.busy": "2023-10-08T22:00:08.518509Z",
     "iopub.status.idle": "2023-10-08T22:00:08.732410Z",
     "shell.execute_reply": "2023-10-08T22:00:08.731438Z"
    },
    "papermill": {
     "duration": 1.069885,
     "end_time": "2023-10-08T22:00:08.734906",
     "exception": false,
     "start_time": "2023-10-08T22:00:07.665021",
     "status": "completed"
    },
    "tags": []
   },
   "outputs": [
    {
     "data": {
      "image/png": "[encoded data removed]",
      "text/plain": [
       "<Figure size 640x480 with 1 Axes>"
      ]
     },
     "metadata": {},
     "output_type": "display_data"
    }
   ],
   "source": [
    "from sklearn.metrics import roc_curve, auc\n",
    "# Calculate the ROC curve for each class\n",
    "fpr = {}\n",
    "tpr = {}\n",
    "roc_auc = {}\n",
    "\n",
    "for i in range(2):\n",
    "    fpr[i], tpr[i], _ = roc_curve(true == i, predict[:, i])\n",
    "    roc_auc[i] = auc(fpr[i], tpr[i])\n",
    "\n",
    "# Plot the ROC curves for each class\n",
    "plt.figure()\n",
    "for i in range(2):\n",
    "    plt.plot(fpr[i], tpr[i], label=f'Class {i} (AUC = {roc_auc[i]:.5f})')\n",
    "\n",
    "plt.plot([0, 1], [0, 1], color='gray', linestyle='--', label='Chance level(AUC = 0.5)')\n",
    "plt.xlabel('False Positive Rate')\n",
    "plt.ylabel('True Positive Rate')\n",
    "# plt.title('Multi-Class ROC Curv')\n",
    "plt.legend(loc='lower right')\n",
    "plt.show()"
   ]
  },
  {
   "cell_type": "markdown",
   "id": "78ee0e39",
   "metadata": {
    "papermill": {
     "duration": 0.769316,
     "end_time": "2023-10-08T22:00:10.352169",
     "exception": false,
     "start_time": "2023-10-08T22:00:09.582853",
     "status": "completed"
    },
    "tags": []
   },
   "source": [
    "## 3.4 Classification Report"
   ]
  },
  {
   "cell_type": "code",
   "execution_count": 56,
   "id": "5ea9df1a",
   "metadata": {
    "execution": {
     "iopub.execute_input": "2023-10-08T22:00:11.946267Z",
     "iopub.status.busy": "2023-10-08T22:00:11.945833Z",
     "iopub.status.idle": "2023-10-08T22:00:11.976532Z",
     "shell.execute_reply": "2023-10-08T22:00:11.975324Z"
    },
    "papermill": {
     "duration": 0.869226,
     "end_time": "2023-10-08T22:00:11.978613",
     "exception": false,
     "start_time": "2023-10-08T22:00:11.109387",
     "status": "completed"
    },
    "tags": []
   },
   "outputs": [
    {
     "data": {
      "text/html": [
       "<div>\n",
       "<style scoped>\n",
       "    .dataframe tbody tr th:only-of-type {\n",
       "        vertical-align: middle;\n",
       "    }\n",
       "\n",
       "    .dataframe tbody tr th {\n",
       "        vertical-align: top;\n",
       "    }\n",
       "\n",
       "    .dataframe thead th {\n",
       "        text-align: right;\n",
       "    }\n",
       "</style>\n",
       "<table border=\"1\" class=\"dataframe\">\n",
       "  <thead>\n",
       "    <tr style=\"text-align: right;\">\n",
       "      <th></th>\n",
       "      <th>precision</th>\n",
       "      <th>recall</th>\n",
       "      <th>f1-score</th>\n",
       "      <th>support</th>\n",
       "    </tr>\n",
       "  </thead>\n",
       "  <tbody>\n",
       "    <tr>\n",
       "      <th>0</th>\n",
       "      <td>1.0</td>\n",
       "      <td>1.0</td>\n",
       "      <td>1.0</td>\n",
       "      <td>3188.0</td>\n",
       "    </tr>\n",
       "    <tr>\n",
       "      <th>1</th>\n",
       "      <td>1.0</td>\n",
       "      <td>1.0</td>\n",
       "      <td>1.0</td>\n",
       "      <td>3547.0</td>\n",
       "    </tr>\n",
       "    <tr>\n",
       "      <th>accuracy</th>\n",
       "      <td>1.0</td>\n",
       "      <td>1.0</td>\n",
       "      <td>1.0</td>\n",
       "      <td>1.0</td>\n",
       "    </tr>\n",
       "    <tr>\n",
       "      <th>macro avg</th>\n",
       "      <td>1.0</td>\n",
       "      <td>1.0</td>\n",
       "      <td>1.0</td>\n",
       "      <td>6735.0</td>\n",
       "    </tr>\n",
       "    <tr>\n",
       "      <th>weighted avg</th>\n",
       "      <td>1.0</td>\n",
       "      <td>1.0</td>\n",
       "      <td>1.0</td>\n",
       "      <td>6735.0</td>\n",
       "    </tr>\n",
       "  </tbody>\n",
       "</table>\n",
       "</div>"
      ],
      "text/plain": [
       "              precision  recall  f1-score  support\n",
       "0                   1.0     1.0       1.0   3188.0\n",
       "1                   1.0     1.0       1.0   3547.0\n",
       "accuracy            1.0     1.0       1.0      1.0\n",
       "macro avg           1.0     1.0       1.0   6735.0\n",
       "weighted avg        1.0     1.0       1.0   6735.0"
      ]
     },
     "execution_count": 56,
     "metadata": {},
     "output_type": "execute_result"
    }
   ],
   "source": [
    "from sklearn.metrics import classification_report\n",
    "\n",
    "report = classification_report(y_true, y_pred, output_dict=True)\n",
    "\n",
    "cr_df = pd.DataFrame(report).transpose()\n",
    "cr_df = cr_df.round(2)\n",
    "cr_df"
   ]
  },
  {
   "cell_type": "markdown",
   "id": "55d8df45",
   "metadata": {
    "papermill": {
     "duration": 0.833156,
     "end_time": "2023-10-08T22:00:13.604226",
     "exception": false,
     "start_time": "2023-10-08T22:00:12.771070",
     "status": "completed"
    },
    "tags": []
   },
   "source": [
    "## Ending BERT section"
   ]
  },
  {
   "cell_type": "markdown",
   "id": "ebf31f56",
   "metadata": {
    "papermill": {
     "duration": 0.775536,
     "end_time": "2023-10-08T22:00:15.297908",
     "exception": false,
     "start_time": "2023-10-08T22:00:14.522372",
     "status": "completed"
    },
    "tags": []
   },
   "source": [
    "## For Machine Learning Model"
   ]
  },
  {
   "cell_type": "code",
   "execution_count": 57,
   "id": "1403b5ed",
   "metadata": {
    "execution": {
     "iopub.execute_input": "2023-10-08T22:00:16.927638Z",
     "iopub.status.busy": "2023-10-08T22:00:16.927215Z",
     "iopub.status.idle": "2023-10-08T22:00:16.933694Z",
     "shell.execute_reply": "2023-10-08T22:00:16.932515Z"
    },
    "papermill": {
     "duration": 0.837853,
     "end_time": "2023-10-08T22:00:16.935610",
     "exception": false,
     "start_time": "2023-10-08T22:00:16.097757",
     "status": "completed"
    },
    "tags": []
   },
   "outputs": [],
   "source": [
    "# Import all the tools we need\n",
    "\n",
    "\n",
    "# Regular EDA(exploratory data analysis) and plotting libraries\n",
    "import numpy as np\n",
    "import pandas as pd\n",
    "import matplotlib.pyplot as plt\n",
    "\n",
    "\n",
    "%matplotlib inline"
   ]
  },
  {
   "cell_type": "markdown",
   "id": "18fd2399",
   "metadata": {
    "papermill": {
     "duration": 0.768104,
     "end_time": "2023-10-08T22:00:18.556492",
     "exception": false,
     "start_time": "2023-10-08T22:00:17.788388",
     "status": "completed"
    },
    "tags": []
   },
   "source": [
    "## 4.1`Data Preprocessing`"
   ]
  },
  {
   "cell_type": "code",
   "execution_count": 58,
   "id": "7e22c2d2",
   "metadata": {
    "execution": {
     "iopub.execute_input": "2023-10-08T22:00:20.170195Z",
     "iopub.status.busy": "2023-10-08T22:00:20.169780Z",
     "iopub.status.idle": "2023-10-08T22:00:37.051134Z",
     "shell.execute_reply": "2023-10-08T22:00:37.050004Z"
    },
    "papermill": {
     "duration": 17.727467,
     "end_time": "2023-10-08T22:00:37.053547",
     "exception": false,
     "start_time": "2023-10-08T22:00:19.326080",
     "status": "completed"
    },
    "tags": []
   },
   "outputs": [],
   "source": [
    "\n",
    "def stop_words(doc):\n",
    "    '''\n",
    "    Removes Words that are not that necessary for our model.\n",
    "    '''\n",
    "    # Process the document\n",
    "    doc = nlp(doc)\n",
    "\n",
    "    # List of stop words in spaCy\n",
    "    stop_words = spacy.lang.en.stop_words.STOP_WORDS\n",
    "\n",
    "    # Filter out stop words from the document\n",
    "    filtered_words = [token.text for token in doc if not token.is_stop]\n",
    "\n",
    "    # Join the filtered words back into a string\n",
    "    filtered_document = \" \".join(filtered_words)\n",
    "    \n",
    "    return filtered_document\n",
    "\n",
    "\n",
    "import spacy\n",
    "\n",
    "# Load the pre-trained spaCy model\n",
    "nlp = spacy.load(\"en_core_web_lg\")\n",
    "\n",
    "\n",
    "# Function to convert text to vectors using spaCy\n",
    "def text_to_vectors(text):\n",
    "    '''\n",
    "    Converts text to vector\n",
    "    '''\n",
    "    doc = nlp(text)\n",
    "    return doc.vector\n"
   ]
  },
  {
   "cell_type": "code",
   "execution_count": 59,
   "id": "e2e2e4ca",
   "metadata": {
    "execution": {
     "iopub.execute_input": "2023-10-08T22:00:38.655299Z",
     "iopub.status.busy": "2023-10-08T22:00:38.654892Z",
     "iopub.status.idle": "2023-10-08T22:00:38.659342Z",
     "shell.execute_reply": "2023-10-08T22:00:38.658242Z"
    },
    "papermill": {
     "duration": 0.838524,
     "end_time": "2023-10-08T22:00:38.661318",
     "exception": false,
     "start_time": "2023-10-08T22:00:37.822794",
     "status": "completed"
    },
    "tags": []
   },
   "outputs": [],
   "source": [
    "# df = news_df[21000:22000]\n",
    "# df = df.reset_index(drop=True)\n",
    "# df.shape"
   ]
  },
  {
   "cell_type": "code",
   "execution_count": 60,
   "id": "dd485603",
   "metadata": {
    "execution": {
     "iopub.execute_input": "2023-10-08T22:00:40.281370Z",
     "iopub.status.busy": "2023-10-08T22:00:40.280988Z",
     "iopub.status.idle": "2023-10-08T22:00:40.326575Z",
     "shell.execute_reply": "2023-10-08T22:00:40.325494Z"
    },
    "papermill": {
     "duration": 0.818725,
     "end_time": "2023-10-08T22:00:40.328708",
     "exception": false,
     "start_time": "2023-10-08T22:00:39.509983",
     "status": "completed"
    },
    "tags": []
   },
   "outputs": [
    {
     "data": {
      "text/plain": [
       "(44898, 2)"
      ]
     },
     "execution_count": 60,
     "metadata": {},
     "output_type": "execute_result"
    }
   ],
   "source": [
    "df = news_df.copy()\n",
    "df.shape"
   ]
  },
  {
   "cell_type": "code",
   "execution_count": 61,
   "id": "17fbef57",
   "metadata": {
    "execution": {
     "iopub.execute_input": "2023-10-08T22:00:41.927313Z",
     "iopub.status.busy": "2023-10-08T22:00:41.926922Z",
     "iopub.status.idle": "2023-10-08T22:00:42.112359Z",
     "shell.execute_reply": "2023-10-08T22:00:42.111325Z"
    },
    "papermill": {
     "duration": 1.019553,
     "end_time": "2023-10-08T22:00:42.114397",
     "exception": false,
     "start_time": "2023-10-08T22:00:41.094844",
     "status": "completed"
    },
    "tags": []
   },
   "outputs": [
    {
     "data": {
      "image/png": "[encoded data removed]",
      "text/plain": [
       "<Figure size 640x480 with 1 Axes>"
      ]
     },
     "metadata": {},
     "output_type": "display_data"
    }
   ],
   "source": [
    " df.label.value_counts().plot(kind='bar', cmap='summer', title='News');"
   ]
  },
  {
   "cell_type": "code",
   "execution_count": 62,
   "id": "bf3dce07",
   "metadata": {
    "execution": {
     "iopub.execute_input": "2023-10-08T22:00:43.743468Z",
     "iopub.status.busy": "2023-10-08T22:00:43.742710Z",
     "iopub.status.idle": "2023-10-08T22:00:43.749701Z",
     "shell.execute_reply": "2023-10-08T22:00:43.748642Z"
    },
    "papermill": {
     "duration": 0.798713,
     "end_time": "2023-10-08T22:00:43.751638",
     "exception": false,
     "start_time": "2023-10-08T22:00:42.952925",
     "status": "completed"
    },
    "tags": []
   },
   "outputs": [
    {
     "data": {
      "text/plain": [
       "(44898, 2)"
      ]
     },
     "execution_count": 62,
     "metadata": {},
     "output_type": "execute_result"
    }
   ],
   "source": [
    "news_df.shape"
   ]
  },
  {
   "cell_type": "code",
   "execution_count": 63,
   "id": "522812ee",
   "metadata": {
    "execution": {
     "iopub.execute_input": "2023-10-08T22:00:45.407248Z",
     "iopub.status.busy": "2023-10-08T22:00:45.406867Z",
     "iopub.status.idle": "2023-10-08T22:00:49.047585Z",
     "shell.execute_reply": "2023-10-08T22:00:49.046196Z"
    },
    "papermill": {
     "duration": 4.475336,
     "end_time": "2023-10-08T22:00:49.049638",
     "exception": false,
     "start_time": "2023-10-08T22:00:44.574302",
     "status": "completed"
    },
    "tags": []
   },
   "outputs": [
    {
     "name": "stderr",
     "output_type": "stream",
     "text": [
      "Processing...: 100%|██████████| 44898/44898 [00:03<00:00, 12381.25it/s]\n"
     ]
    }
   ],
   "source": [
    "tqdm.pandas(desc=\"Processing...\")\n",
    "df.text = df.text.progress_apply(clean_text)\n",
    "# news_df['text'] = news_df['text'].progress_apply(stop_words)\n"
   ]
  },
  {
   "cell_type": "markdown",
   "id": "75991aa9",
   "metadata": {
    "papermill": {
     "duration": 0.854978,
     "end_time": "2023-10-08T22:00:50.682159",
     "exception": false,
     "start_time": "2023-10-08T22:00:49.827181",
     "status": "completed"
    },
    "tags": []
   },
   "source": [
    "## 4.2 Make Vectors from text "
   ]
  },
  {
   "cell_type": "code",
   "execution_count": 64,
   "id": "e1752e83",
   "metadata": {
    "execution": {
     "iopub.execute_input": "2023-10-08T22:00:52.281582Z",
     "iopub.status.busy": "2023-10-08T22:00:52.281141Z",
     "iopub.status.idle": "2023-10-08T22:48:53.170019Z",
     "shell.execute_reply": "2023-10-08T22:48:53.168816Z"
    },
    "papermill": {
     "duration": 2881.651637,
     "end_time": "2023-10-08T22:48:53.172743",
     "exception": false,
     "start_time": "2023-10-08T22:00:51.521106",
     "status": "completed"
    },
    "tags": []
   },
   "outputs": [
    {
     "name": "stderr",
     "output_type": "stream",
     "text": [
      "Processing...: 100%|██████████| 44898/44898 [48:00<00:00, 15.58it/s]\n"
     ]
    }
   ],
   "source": [
    "df['vector'] = df['text'].progress_apply(text_to_vectors)"
   ]
  },
  {
   "cell_type": "code",
   "execution_count": 65,
   "id": "c3e854a7",
   "metadata": {
    "execution": {
     "iopub.execute_input": "2023-10-08T22:48:57.306029Z",
     "iopub.status.busy": "2023-10-08T22:48:57.305587Z",
     "iopub.status.idle": "2023-10-08T22:48:57.323130Z",
     "shell.execute_reply": "2023-10-08T22:48:57.321857Z"
    },
    "papermill": {
     "duration": 2.408139,
     "end_time": "2023-10-08T22:48:57.326654",
     "exception": false,
     "start_time": "2023-10-08T22:48:54.918515",
     "status": "completed"
    },
    "tags": []
   },
   "outputs": [
    {
     "data": {
      "text/html": [
       "<div>\n",
       "<style scoped>\n",
       "    .dataframe tbody tr th:only-of-type {\n",
       "        vertical-align: middle;\n",
       "    }\n",
       "\n",
       "    .dataframe tbody tr th {\n",
       "        vertical-align: top;\n",
       "    }\n",
       "\n",
       "    .dataframe thead th {\n",
       "        text-align: right;\n",
       "    }\n",
       "</style>\n",
       "<table border=\"1\" class=\"dataframe\">\n",
       "  <thead>\n",
       "    <tr style=\"text-align: right;\">\n",
       "      <th></th>\n",
       "      <th>text</th>\n",
       "      <th>label</th>\n",
       "      <th>vector</th>\n",
       "    </tr>\n",
       "  </thead>\n",
       "  <tbody>\n",
       "    <tr>\n",
       "      <th>0</th>\n",
       "      <td>washington reuters - the head of a conservativ...</td>\n",
       "      <td>0</td>\n",
       "      <td>[-1.964682, 0.9707499, -3.012769, 0.39993116, ...</td>\n",
       "    </tr>\n",
       "    <tr>\n",
       "      <th>1</th>\n",
       "      <td>washington reuters - transgender people will b...</td>\n",
       "      <td>0</td>\n",
       "      <td>[-1.7856287, 1.4982328, -2.3078003, 0.4470384,...</td>\n",
       "    </tr>\n",
       "    <tr>\n",
       "      <th>2</th>\n",
       "      <td>washington reuters - the special counsel inves...</td>\n",
       "      <td>0</td>\n",
       "      <td>[-1.258385, 1.063325, -2.2178643, 0.42279693, ...</td>\n",
       "    </tr>\n",
       "  </tbody>\n",
       "</table>\n",
       "</div>"
      ],
      "text/plain": [
       "                                                text  label  \\\n",
       "0  washington reuters - the head of a conservativ...      0   \n",
       "1  washington reuters - transgender people will b...      0   \n",
       "2  washington reuters - the special counsel inves...      0   \n",
       "\n",
       "                                              vector  \n",
       "0  [-1.964682, 0.9707499, -3.012769, 0.39993116, ...  \n",
       "1  [-1.7856287, 1.4982328, -2.3078003, 0.4470384,...  \n",
       "2  [-1.258385, 1.063325, -2.2178643, 0.42279693, ...  "
      ]
     },
     "execution_count": 65,
     "metadata": {},
     "output_type": "execute_result"
    }
   ],
   "source": [
    "df.head(3)"
   ]
  },
  {
   "cell_type": "markdown",
   "id": "18914d2c",
   "metadata": {
    "papermill": {
     "duration": 1.643461,
     "end_time": "2023-10-08T22:49:00.551826",
     "exception": false,
     "start_time": "2023-10-08T22:48:58.908365",
     "status": "completed"
    },
    "tags": []
   },
   "source": [
    "## 5.1 Data Division"
   ]
  },
  {
   "cell_type": "code",
   "execution_count": 66,
   "id": "c8220ee6",
   "metadata": {
    "execution": {
     "iopub.execute_input": "2023-10-08T22:49:03.872141Z",
     "iopub.status.busy": "2023-10-08T22:49:03.871534Z",
     "iopub.status.idle": "2023-10-08T22:49:03.907129Z",
     "shell.execute_reply": "2023-10-08T22:49:03.905981Z"
    },
    "papermill": {
     "duration": 1.700289,
     "end_time": "2023-10-08T22:49:03.911951",
     "exception": false,
     "start_time": "2023-10-08T22:49:02.211662",
     "status": "completed"
    },
    "tags": []
   },
   "outputs": [
    {
     "data": {
      "text/plain": [
       "(35918, 8980, 35918, 8980)"
      ]
     },
     "execution_count": 66,
     "metadata": {},
     "output_type": "execute_result"
    }
   ],
   "source": [
    "from sklearn.model_selection import train_test_split\n",
    "# Set data \n",
    "X = list(df['vector'])\n",
    "y = list(df.label.astype(int))\n",
    "# Split the data into training and testing sets\n",
    "\n",
    "np.random.seed(42)\n",
    "\n",
    "X_train, X_test, y_train, y_test = train_test_split(X, y, test_size=0.2)\n",
    "len(X_train), len(X_test), len(y_train), len(y_test)"
   ]
  },
  {
   "cell_type": "markdown",
   "id": "bd0d73c5",
   "metadata": {
    "papermill": {
     "duration": 1.691651,
     "end_time": "2023-10-08T22:49:07.308996",
     "exception": false,
     "start_time": "2023-10-08T22:49:05.617345",
     "status": "completed"
    },
    "tags": []
   },
   "source": [
    "## 6.1 Model Training"
   ]
  },
  {
   "cell_type": "markdown",
   "id": "f9b45c0c",
   "metadata": {
    "papermill": {
     "duration": 1.667003,
     "end_time": "2023-10-08T22:49:10.650197",
     "exception": false,
     "start_time": "2023-10-08T22:49:08.983194",
     "status": "completed"
    },
    "tags": []
   },
   "source": [
    "## 6.2 Logostic Regression"
   ]
  },
  {
   "cell_type": "code",
   "execution_count": 67,
   "id": "ffed132d",
   "metadata": {
    "execution": {
     "iopub.execute_input": "2023-10-08T22:49:13.904219Z",
     "iopub.status.busy": "2023-10-08T22:49:13.903859Z",
     "iopub.status.idle": "2023-10-08T22:49:16.162403Z",
     "shell.execute_reply": "2023-10-08T22:49:16.156968Z"
    },
    "papermill": {
     "duration": 3.946265,
     "end_time": "2023-10-08T22:49:16.167583",
     "exception": false,
     "start_time": "2023-10-08T22:49:12.221318",
     "status": "completed"
    },
    "tags": []
   },
   "outputs": [
    {
     "name": "stdout",
     "output_type": "stream",
     "text": [
      "Accuracy: 98.88\n"
     ]
    },
    {
     "name": "stderr",
     "output_type": "stream",
     "text": [
      "/opt/conda/lib/python3.7/site-packages/sklearn/linear_model/_logistic.py:818: ConvergenceWarning: lbfgs failed to converge (status=1):\n",
      "STOP: TOTAL NO. of ITERATIONS REACHED LIMIT.\n",
      "\n",
      "Increase the number of iterations (max_iter) or scale the data as shown in:\n",
      "    https://scikit-learn.org/stable/modules/preprocessing.html\n",
      "Please also refer to the documentation for alternative solver options:\n",
      "    https://scikit-learn.org/stable/modules/linear_model.html#logistic-regression\n",
      "  extra_warning_msg=_LOGISTIC_SOLVER_CONVERGENCE_MSG,\n"
     ]
    }
   ],
   "source": [
    "# Import logistic regression\n",
    "from sklearn.linear_model import LogisticRegression\n",
    "from sklearn.metrics import accuracy_score\n",
    "\n",
    "# Create and train the logistic regression model\n",
    "lr = LogisticRegression()\n",
    "lr.fit(X_train, y_train)\n",
    "\n",
    "# Make predictions\n",
    "y_pred = lr.predict(X_test)\n",
    "\n",
    "#Calculate accuracy score\n",
    "accuracy = accuracy_score(y_test, y_pred)\n",
    "\n",
    "print(f\"Accuracy: {accuracy*100:.2f}\", )"
   ]
  },
  {
   "cell_type": "code",
   "execution_count": 68,
   "id": "782aa15a",
   "metadata": {
    "execution": {
     "iopub.execute_input": "2023-10-08T22:49:19.522269Z",
     "iopub.status.busy": "2023-10-08T22:49:19.521363Z",
     "iopub.status.idle": "2023-10-08T22:49:19.755307Z",
     "shell.execute_reply": "2023-10-08T22:49:19.754226Z"
    },
    "papermill": {
     "duration": 1.878487,
     "end_time": "2023-10-08T22:49:19.757810",
     "exception": false,
     "start_time": "2023-10-08T22:49:17.879323",
     "status": "completed"
    },
    "tags": []
   },
   "outputs": [
    {
     "data": {
      "image/png": "[encoded data removed]",
      "text/plain": [
       "<Figure size 640x480 with 2 Axes>"
      ]
     },
     "metadata": {},
     "output_type": "display_data"
    },
    {
     "name": "stdout",
     "output_type": "stream",
     "text": [
      "Accuracy: 98.88 %\n"
     ]
    }
   ],
   "source": [
    "confusion_matrix = metrics.confusion_matrix(y_test, y_pred)\n",
    "\n",
    "cm_display = metrics.ConfusionMatrixDisplay(confusion_matrix = confusion_matrix, display_labels = ['True', 'Fake'])\n",
    "\n",
    "cm_display.plot()\n",
    "plt.show()\n",
    "\n",
    "print(f\"Accuracy: {accuracy*100:.2f} %\", )"
   ]
  },
  {
   "cell_type": "code",
   "execution_count": 69,
   "id": "651d0dba",
   "metadata": {
    "execution": {
     "iopub.execute_input": "2023-10-08T22:49:23.109723Z",
     "iopub.status.busy": "2023-10-08T22:49:23.108650Z",
     "iopub.status.idle": "2023-10-08T22:49:23.143680Z",
     "shell.execute_reply": "2023-10-08T22:49:23.142522Z"
    },
    "papermill": {
     "duration": 1.698174,
     "end_time": "2023-10-08T22:49:23.145849",
     "exception": false,
     "start_time": "2023-10-08T22:49:21.447675",
     "status": "completed"
    },
    "tags": []
   },
   "outputs": [
    {
     "data": {
      "text/html": [
       "<div>\n",
       "<style scoped>\n",
       "    .dataframe tbody tr th:only-of-type {\n",
       "        vertical-align: middle;\n",
       "    }\n",
       "\n",
       "    .dataframe tbody tr th {\n",
       "        vertical-align: top;\n",
       "    }\n",
       "\n",
       "    .dataframe thead th {\n",
       "        text-align: right;\n",
       "    }\n",
       "</style>\n",
       "<table border=\"1\" class=\"dataframe\">\n",
       "  <thead>\n",
       "    <tr style=\"text-align: right;\">\n",
       "      <th></th>\n",
       "      <th>precision</th>\n",
       "      <th>recall</th>\n",
       "      <th>f1-score</th>\n",
       "      <th>support</th>\n",
       "    </tr>\n",
       "  </thead>\n",
       "  <tbody>\n",
       "    <tr>\n",
       "      <th>0</th>\n",
       "      <td>0.99</td>\n",
       "      <td>0.99</td>\n",
       "      <td>0.99</td>\n",
       "      <td>4330.00</td>\n",
       "    </tr>\n",
       "    <tr>\n",
       "      <th>1</th>\n",
       "      <td>0.99</td>\n",
       "      <td>0.99</td>\n",
       "      <td>0.99</td>\n",
       "      <td>4650.00</td>\n",
       "    </tr>\n",
       "    <tr>\n",
       "      <th>accuracy</th>\n",
       "      <td>0.99</td>\n",
       "      <td>0.99</td>\n",
       "      <td>0.99</td>\n",
       "      <td>0.99</td>\n",
       "    </tr>\n",
       "    <tr>\n",
       "      <th>macro avg</th>\n",
       "      <td>0.99</td>\n",
       "      <td>0.99</td>\n",
       "      <td>0.99</td>\n",
       "      <td>8980.00</td>\n",
       "    </tr>\n",
       "    <tr>\n",
       "      <th>weighted avg</th>\n",
       "      <td>0.99</td>\n",
       "      <td>0.99</td>\n",
       "      <td>0.99</td>\n",
       "      <td>8980.00</td>\n",
       "    </tr>\n",
       "  </tbody>\n",
       "</table>\n",
       "</div>"
      ],
      "text/plain": [
       "              precision  recall  f1-score  support\n",
       "0                  0.99    0.99      0.99  4330.00\n",
       "1                  0.99    0.99      0.99  4650.00\n",
       "accuracy           0.99    0.99      0.99     0.99\n",
       "macro avg          0.99    0.99      0.99  8980.00\n",
       "weighted avg       0.99    0.99      0.99  8980.00"
      ]
     },
     "execution_count": 69,
     "metadata": {},
     "output_type": "execute_result"
    }
   ],
   "source": [
    "from sklearn.metrics import classification_report\n",
    "\n",
    "report = classification_report(y_test, y_pred, output_dict=True)\n",
    "\n",
    "cr_df = pd.DataFrame(report).transpose()\n",
    "cr_df = cr_df.round(2)\n",
    "cr_df"
   ]
  },
  {
   "cell_type": "markdown",
   "id": "e2b8ad6d",
   "metadata": {
    "papermill": {
     "duration": 1.539915,
     "end_time": "2023-10-08T22:49:26.470692",
     "exception": false,
     "start_time": "2023-10-08T22:49:24.930777",
     "status": "completed"
    },
    "tags": []
   },
   "source": [
    "## 6.3 XGBoost CLasifier"
   ]
  },
  {
   "cell_type": "code",
   "execution_count": 70,
   "id": "3df4e9b2",
   "metadata": {
    "execution": {
     "iopub.execute_input": "2023-10-08T22:49:30.522663Z",
     "iopub.status.busy": "2023-10-08T22:49:30.522240Z",
     "iopub.status.idle": "2023-10-08T22:52:45.046798Z",
     "shell.execute_reply": "2023-10-08T22:52:45.045438Z"
    },
    "papermill": {
     "duration": 198.150036,
     "end_time": "2023-10-08T22:52:46.716218",
     "exception": false,
     "start_time": "2023-10-08T22:49:28.566182",
     "status": "completed"
    },
    "tags": []
   },
   "outputs": [
    {
     "name": "stdout",
     "output_type": "stream",
     "text": [
      "huggingface/tokenizers: The current process just got forked, after parallelism has already been used. Disabling parallelism to avoid deadlocks...\n",
      "To disable this warning, you can either:\n",
      "\t- Avoid using `tokenizers` before the fork if possible\n",
      "\t- Explicitly set the environment variable TOKENIZERS_PARALLELISM=(true | false)\n",
      "XGBoost Accuracy: 98.91\n"
     ]
    }
   ],
   "source": [
    "# Import XGBoost\n",
    "from xgboost import XGBClassifier\n",
    "\n",
    "# Create and train the XGBoost model\n",
    "xgb = XGBClassifier()\n",
    "xgb.fit(X_train, y_train)\n",
    "\n",
    "# Make predictions\n",
    "y_pred_xgb = xgb.predict(X_test)\n",
    "\n",
    "# Calculate accuracy score\n",
    "accuracy_xgb = accuracy_score(y_test, y_pred_xgb)\n",
    "\n",
    "print(f\"XGBoost Accuracy: {accuracy_xgb * 100:.2f}\")\n"
   ]
  },
  {
   "cell_type": "code",
   "execution_count": 71,
   "id": "44ad14ba",
   "metadata": {
    "execution": {
     "iopub.execute_input": "2023-10-08T22:52:50.066698Z",
     "iopub.status.busy": "2023-10-08T22:52:50.065513Z",
     "iopub.status.idle": "2023-10-08T22:52:50.296041Z",
     "shell.execute_reply": "2023-10-08T22:52:50.294943Z"
    },
    "papermill": {
     "duration": 1.911654,
     "end_time": "2023-10-08T22:52:50.298789",
     "exception": false,
     "start_time": "2023-10-08T22:52:48.387135",
     "status": "completed"
    },
    "tags": []
   },
   "outputs": [
    {
     "data": {
      "image/png": "[encoded data removed]",
      "text/plain": [
       "<Figure size 640x480 with 2 Axes>"
      ]
     },
     "metadata": {},
     "output_type": "display_data"
    },
    {
     "name": "stdout",
     "output_type": "stream",
     "text": [
      "Accuracy: 98.91 %\n"
     ]
    }
   ],
   "source": [
    "confusion_matrix = metrics.confusion_matrix(y_test, y_pred_xgb)\n",
    "\n",
    "cm_display = metrics.ConfusionMatrixDisplay(confusion_matrix = confusion_matrix, display_labels = ['True', 'Fake'])\n",
    "\n",
    "cm_display.plot()\n",
    "plt.show()\n",
    "\n",
    "print(f\"Accuracy: {accuracy_xgb*100:.2f} %\", )"
   ]
  },
  {
   "cell_type": "code",
   "execution_count": 72,
   "id": "bc42875a",
   "metadata": {
    "execution": {
     "iopub.execute_input": "2023-10-08T22:52:53.653316Z",
     "iopub.status.busy": "2023-10-08T22:52:53.652196Z",
     "iopub.status.idle": "2023-10-08T22:52:53.692684Z",
     "shell.execute_reply": "2023-10-08T22:52:53.691390Z"
    },
    "papermill": {
     "duration": 1.709417,
     "end_time": "2023-10-08T22:52:53.695068",
     "exception": false,
     "start_time": "2023-10-08T22:52:51.985651",
     "status": "completed"
    },
    "tags": []
   },
   "outputs": [
    {
     "data": {
      "text/html": [
       "<div>\n",
       "<style scoped>\n",
       "    .dataframe tbody tr th:only-of-type {\n",
       "        vertical-align: middle;\n",
       "    }\n",
       "\n",
       "    .dataframe tbody tr th {\n",
       "        vertical-align: top;\n",
       "    }\n",
       "\n",
       "    .dataframe thead th {\n",
       "        text-align: right;\n",
       "    }\n",
       "</style>\n",
       "<table border=\"1\" class=\"dataframe\">\n",
       "  <thead>\n",
       "    <tr style=\"text-align: right;\">\n",
       "      <th></th>\n",
       "      <th>precision</th>\n",
       "      <th>recall</th>\n",
       "      <th>f1-score</th>\n",
       "      <th>support</th>\n",
       "    </tr>\n",
       "  </thead>\n",
       "  <tbody>\n",
       "    <tr>\n",
       "      <th>0</th>\n",
       "      <td>0.99</td>\n",
       "      <td>0.99</td>\n",
       "      <td>0.99</td>\n",
       "      <td>4330.00</td>\n",
       "    </tr>\n",
       "    <tr>\n",
       "      <th>1</th>\n",
       "      <td>0.99</td>\n",
       "      <td>0.99</td>\n",
       "      <td>0.99</td>\n",
       "      <td>4650.00</td>\n",
       "    </tr>\n",
       "    <tr>\n",
       "      <th>accuracy</th>\n",
       "      <td>0.99</td>\n",
       "      <td>0.99</td>\n",
       "      <td>0.99</td>\n",
       "      <td>0.99</td>\n",
       "    </tr>\n",
       "    <tr>\n",
       "      <th>macro avg</th>\n",
       "      <td>0.99</td>\n",
       "      <td>0.99</td>\n",
       "      <td>0.99</td>\n",
       "      <td>8980.00</td>\n",
       "    </tr>\n",
       "    <tr>\n",
       "      <th>weighted avg</th>\n",
       "      <td>0.99</td>\n",
       "      <td>0.99</td>\n",
       "      <td>0.99</td>\n",
       "      <td>8980.00</td>\n",
       "    </tr>\n",
       "  </tbody>\n",
       "</table>\n",
       "</div>"
      ],
      "text/plain": [
       "              precision  recall  f1-score  support\n",
       "0                  0.99    0.99      0.99  4330.00\n",
       "1                  0.99    0.99      0.99  4650.00\n",
       "accuracy           0.99    0.99      0.99     0.99\n",
       "macro avg          0.99    0.99      0.99  8980.00\n",
       "weighted avg       0.99    0.99      0.99  8980.00"
      ]
     },
     "execution_count": 72,
     "metadata": {},
     "output_type": "execute_result"
    }
   ],
   "source": [
    "from sklearn.metrics import classification_report\n",
    "\n",
    "report = classification_report(y_test, y_pred_xgb, output_dict=True)\n",
    "\n",
    "cr_df = pd.DataFrame(report).transpose()\n",
    "cr_df = cr_df.round(2)\n",
    "cr_df"
   ]
  },
  {
   "cell_type": "markdown",
   "id": "1473a128",
   "metadata": {
    "papermill": {
     "duration": 1.651101,
     "end_time": "2023-10-08T22:52:56.996658",
     "exception": false,
     "start_time": "2023-10-08T22:52:55.345557",
     "status": "completed"
    },
    "tags": []
   },
   "source": [
    "## 6.4 Cat Boost Classifier"
   ]
  },
  {
   "cell_type": "code",
   "execution_count": 73,
   "id": "24d59a08",
   "metadata": {
    "execution": {
     "iopub.execute_input": "2023-10-08T22:53:00.326368Z",
     "iopub.status.busy": "2023-10-08T22:53:00.325971Z",
     "iopub.status.idle": "2023-10-08T22:54:55.876774Z",
     "shell.execute_reply": "2023-10-08T22:54:55.875505Z"
    },
    "papermill": {
     "duration": 117.227027,
     "end_time": "2023-10-08T22:54:55.878937",
     "exception": false,
     "start_time": "2023-10-08T22:52:58.651910",
     "status": "completed"
    },
    "tags": []
   },
   "outputs": [],
   "source": [
    "from IPython.display import clear_output\n",
    "# Import CatBoost\n",
    "from catboost import CatBoostClassifier\n",
    "\n",
    "# Create and train the CatBoost model\n",
    "catboost = CatBoostClassifier()\n",
    "catboost.fit(X_train, y_train)\n",
    "\n",
    "# Make predictions\n",
    "y_pred_catboost = catboost.predict(X_test)\n",
    "\n",
    "# Calculate accuracy score\n",
    "accuracy_catboost = accuracy_score(y_test, y_pred_catboost)\n",
    "\n",
    "\n",
    "clear_output()\n"
   ]
  },
  {
   "cell_type": "code",
   "execution_count": 74,
   "id": "6d1f56b1",
   "metadata": {
    "execution": {
     "iopub.execute_input": "2023-10-08T22:54:59.213128Z",
     "iopub.status.busy": "2023-10-08T22:54:59.211972Z",
     "iopub.status.idle": "2023-10-08T22:54:59.218947Z",
     "shell.execute_reply": "2023-10-08T22:54:59.217418Z"
    },
    "papermill": {
     "duration": 1.700297,
     "end_time": "2023-10-08T22:54:59.221081",
     "exception": false,
     "start_time": "2023-10-08T22:54:57.520784",
     "status": "completed"
    },
    "tags": []
   },
   "outputs": [
    {
     "name": "stdout",
     "output_type": "stream",
     "text": [
      "CatBoost Accuracy: 99.27\n"
     ]
    }
   ],
   "source": [
    "print(f\"CatBoost Accuracy: {accuracy_catboost * 100:.2f}\")"
   ]
  },
  {
   "cell_type": "code",
   "execution_count": 75,
   "id": "4654c222",
   "metadata": {
    "execution": {
     "iopub.execute_input": "2023-10-08T22:55:02.454905Z",
     "iopub.status.busy": "2023-10-08T22:55:02.454528Z",
     "iopub.status.idle": "2023-10-08T22:55:02.671660Z",
     "shell.execute_reply": "2023-10-08T22:55:02.670563Z"
    },
    "papermill": {
     "duration": 1.785032,
     "end_time": "2023-10-08T22:55:02.674901",
     "exception": false,
     "start_time": "2023-10-08T22:55:00.889869",
     "status": "completed"
    },
    "tags": []
   },
   "outputs": [
    {
     "data": {
      "image/png": "[encoded data removed]",
      "text/plain": [
       "<Figure size 640x480 with 2 Axes>"
      ]
     },
     "metadata": {},
     "output_type": "display_data"
    },
    {
     "name": "stdout",
     "output_type": "stream",
     "text": [
      "Accuracy: 99.27 %\n"
     ]
    }
   ],
   "source": [
    "confusion_matrix = metrics.confusion_matrix(y_test, y_pred_xgb)\n",
    "\n",
    "cm_display = metrics.ConfusionMatrixDisplay(confusion_matrix = confusion_matrix, display_labels = ['True', 'Fake'])\n",
    "\n",
    "cm_display.plot()\n",
    "plt.show()\n",
    "\n",
    "print(f\"Accuracy: {accuracy_catboost*100:.2f} %\", )"
   ]
  },
  {
   "cell_type": "code",
   "execution_count": 76,
   "id": "5ee3fbf1",
   "metadata": {
    "execution": {
     "iopub.execute_input": "2023-10-08T22:55:06.044459Z",
     "iopub.status.busy": "2023-10-08T22:55:06.043879Z",
     "iopub.status.idle": "2023-10-08T22:55:06.079524Z",
     "shell.execute_reply": "2023-10-08T22:55:06.078386Z"
    },
    "papermill": {
     "duration": 1.690279,
     "end_time": "2023-10-08T22:55:06.081744",
     "exception": false,
     "start_time": "2023-10-08T22:55:04.391465",
     "status": "completed"
    },
    "tags": []
   },
   "outputs": [
    {
     "data": {
      "text/html": [
       "<div>\n",
       "<style scoped>\n",
       "    .dataframe tbody tr th:only-of-type {\n",
       "        vertical-align: middle;\n",
       "    }\n",
       "\n",
       "    .dataframe tbody tr th {\n",
       "        vertical-align: top;\n",
       "    }\n",
       "\n",
       "    .dataframe thead th {\n",
       "        text-align: right;\n",
       "    }\n",
       "</style>\n",
       "<table border=\"1\" class=\"dataframe\">\n",
       "  <thead>\n",
       "    <tr style=\"text-align: right;\">\n",
       "      <th></th>\n",
       "      <th>precision</th>\n",
       "      <th>recall</th>\n",
       "      <th>f1-score</th>\n",
       "      <th>support</th>\n",
       "    </tr>\n",
       "  </thead>\n",
       "  <tbody>\n",
       "    <tr>\n",
       "      <th>0</th>\n",
       "      <td>0.995</td>\n",
       "      <td>0.990</td>\n",
       "      <td>0.992</td>\n",
       "      <td>4330.000</td>\n",
       "    </tr>\n",
       "    <tr>\n",
       "      <th>1</th>\n",
       "      <td>0.991</td>\n",
       "      <td>0.995</td>\n",
       "      <td>0.993</td>\n",
       "      <td>4650.000</td>\n",
       "    </tr>\n",
       "    <tr>\n",
       "      <th>accuracy</th>\n",
       "      <td>0.993</td>\n",
       "      <td>0.993</td>\n",
       "      <td>0.993</td>\n",
       "      <td>0.993</td>\n",
       "    </tr>\n",
       "    <tr>\n",
       "      <th>macro avg</th>\n",
       "      <td>0.993</td>\n",
       "      <td>0.993</td>\n",
       "      <td>0.993</td>\n",
       "      <td>8980.000</td>\n",
       "    </tr>\n",
       "    <tr>\n",
       "      <th>weighted avg</th>\n",
       "      <td>0.993</td>\n",
       "      <td>0.993</td>\n",
       "      <td>0.993</td>\n",
       "      <td>8980.000</td>\n",
       "    </tr>\n",
       "  </tbody>\n",
       "</table>\n",
       "</div>"
      ],
      "text/plain": [
       "              precision  recall  f1-score   support\n",
       "0                 0.995   0.990     0.992  4330.000\n",
       "1                 0.991   0.995     0.993  4650.000\n",
       "accuracy          0.993   0.993     0.993     0.993\n",
       "macro avg         0.993   0.993     0.993  8980.000\n",
       "weighted avg      0.993   0.993     0.993  8980.000"
      ]
     },
     "execution_count": 76,
     "metadata": {},
     "output_type": "execute_result"
    }
   ],
   "source": [
    "from sklearn.metrics import classification_report\n",
    "\n",
    "report = classification_report(y_test, y_pred_catboost, output_dict=True)\n",
    "\n",
    "cr_df = pd.DataFrame(report).transpose()\n",
    "cr_df = cr_df.round(3)\n",
    "cr_df"
   ]
  },
  {
   "cell_type": "markdown",
   "id": "bfb10817",
   "metadata": {
    "papermill": {
     "duration": 1.636627,
     "end_time": "2023-10-08T22:55:09.407123",
     "exception": false,
     "start_time": "2023-10-08T22:55:07.770496",
     "status": "completed"
    },
    "tags": []
   },
   "source": [
    "## 6.5 Random Forest Classifier"
   ]
  },
  {
   "cell_type": "code",
   "execution_count": 77,
   "id": "1f34e1ce",
   "metadata": {
    "execution": {
     "iopub.execute_input": "2023-10-08T22:55:12.737198Z",
     "iopub.status.busy": "2023-10-08T22:55:12.736081Z",
     "iopub.status.idle": "2023-10-08T22:56:21.401239Z",
     "shell.execute_reply": "2023-10-08T22:56:21.399967Z"
    },
    "papermill": {
     "duration": 72.782576,
     "end_time": "2023-10-08T22:56:23.867343",
     "exception": false,
     "start_time": "2023-10-08T22:55:11.084767",
     "status": "completed"
    },
    "tags": []
   },
   "outputs": [
    {
     "name": "stdout",
     "output_type": "stream",
     "text": [
      "Random Forest Accuracy: 97.94\n"
     ]
    }
   ],
   "source": [
    "# Import Random Forest Classifier\n",
    "from sklearn.ensemble import RandomForestClassifier\n",
    "\n",
    "# Create and train the Random Forest Classifier model\n",
    "rfc = RandomForestClassifier()\n",
    "rfc.fit(X_train, y_train)\n",
    "\n",
    "# Make predictions\n",
    "y_pred_rfc = rfc.predict(X_test)\n",
    "\n",
    "# Calculate accuracy score\n",
    "accuracy_rfc = accuracy_score(y_test, y_pred_rfc)\n",
    "\n",
    "print(f\"Random Forest Accuracy: {accuracy_rfc * 100:.2f}\")\n"
   ]
  },
  {
   "cell_type": "code",
   "execution_count": 78,
   "id": "9a0a4548",
   "metadata": {
    "execution": {
     "iopub.execute_input": "2023-10-08T22:56:27.236292Z",
     "iopub.status.busy": "2023-10-08T22:56:27.235545Z",
     "iopub.status.idle": "2023-10-08T22:56:27.473308Z",
     "shell.execute_reply": "2023-10-08T22:56:27.472227Z"
    },
    "papermill": {
     "duration": 1.896246,
     "end_time": "2023-10-08T22:56:27.475921",
     "exception": false,
     "start_time": "2023-10-08T22:56:25.579675",
     "status": "completed"
    },
    "tags": []
   },
   "outputs": [
    {
     "data": {
      "image/png": "[encoded data removed]",
      "text/plain": [
       "<Figure size 640x480 with 2 Axes>"
      ]
     },
     "metadata": {},
     "output_type": "display_data"
    },
    {
     "name": "stdout",
     "output_type": "stream",
     "text": [
      "Accuracy: 97.94 %\n"
     ]
    }
   ],
   "source": [
    "confusion_matrix = metrics.confusion_matrix(y_test, y_pred_rfc)\n",
    "\n",
    "cm_display = metrics.ConfusionMatrixDisplay(confusion_matrix = confusion_matrix, display_labels = ['True', 'Fake'])\n",
    "\n",
    "cm_display.plot()\n",
    "plt.show()\n",
    "\n",
    "print(f\"Accuracy: {accuracy_rfc*100:.2f} %\", )"
   ]
  },
  {
   "cell_type": "code",
   "execution_count": 79,
   "id": "22d6889e",
   "metadata": {
    "execution": {
     "iopub.execute_input": "2023-10-08T22:56:30.685238Z",
     "iopub.status.busy": "2023-10-08T22:56:30.684780Z",
     "iopub.status.idle": "2023-10-08T22:56:30.718647Z",
     "shell.execute_reply": "2023-10-08T22:56:30.717419Z"
    },
    "papermill": {
     "duration": 1.579528,
     "end_time": "2023-10-08T22:56:30.720782",
     "exception": false,
     "start_time": "2023-10-08T22:56:29.141254",
     "status": "completed"
    },
    "tags": []
   },
   "outputs": [
    {
     "data": {
      "text/html": [
       "<div>\n",
       "<style scoped>\n",
       "    .dataframe tbody tr th:only-of-type {\n",
       "        vertical-align: middle;\n",
       "    }\n",
       "\n",
       "    .dataframe tbody tr th {\n",
       "        vertical-align: top;\n",
       "    }\n",
       "\n",
       "    .dataframe thead th {\n",
       "        text-align: right;\n",
       "    }\n",
       "</style>\n",
       "<table border=\"1\" class=\"dataframe\">\n",
       "  <thead>\n",
       "    <tr style=\"text-align: right;\">\n",
       "      <th></th>\n",
       "      <th>precision</th>\n",
       "      <th>recall</th>\n",
       "      <th>f1-score</th>\n",
       "      <th>support</th>\n",
       "    </tr>\n",
       "  </thead>\n",
       "  <tbody>\n",
       "    <tr>\n",
       "      <th>0</th>\n",
       "      <td>0.980</td>\n",
       "      <td>0.977</td>\n",
       "      <td>0.979</td>\n",
       "      <td>4330.000</td>\n",
       "    </tr>\n",
       "    <tr>\n",
       "      <th>1</th>\n",
       "      <td>0.979</td>\n",
       "      <td>0.982</td>\n",
       "      <td>0.980</td>\n",
       "      <td>4650.000</td>\n",
       "    </tr>\n",
       "    <tr>\n",
       "      <th>accuracy</th>\n",
       "      <td>0.979</td>\n",
       "      <td>0.979</td>\n",
       "      <td>0.979</td>\n",
       "      <td>0.979</td>\n",
       "    </tr>\n",
       "    <tr>\n",
       "      <th>macro avg</th>\n",
       "      <td>0.979</td>\n",
       "      <td>0.979</td>\n",
       "      <td>0.979</td>\n",
       "      <td>8980.000</td>\n",
       "    </tr>\n",
       "    <tr>\n",
       "      <th>weighted avg</th>\n",
       "      <td>0.979</td>\n",
       "      <td>0.979</td>\n",
       "      <td>0.979</td>\n",
       "      <td>8980.000</td>\n",
       "    </tr>\n",
       "  </tbody>\n",
       "</table>\n",
       "</div>"
      ],
      "text/plain": [
       "              precision  recall  f1-score   support\n",
       "0                 0.980   0.977     0.979  4330.000\n",
       "1                 0.979   0.982     0.980  4650.000\n",
       "accuracy          0.979   0.979     0.979     0.979\n",
       "macro avg         0.979   0.979     0.979  8980.000\n",
       "weighted avg      0.979   0.979     0.979  8980.000"
      ]
     },
     "execution_count": 79,
     "metadata": {},
     "output_type": "execute_result"
    }
   ],
   "source": [
    "from sklearn.metrics import classification_report\n",
    "\n",
    "report = classification_report(y_test, y_pred_rfc, output_dict=True)\n",
    "\n",
    "cr_df = pd.DataFrame(report).transpose()\n",
    "cr_df = cr_df.round(3)\n",
    "cr_df"
   ]
  },
  {
   "cell_type": "markdown",
   "id": "85ec55e3",
   "metadata": {
    "papermill": {
     "duration": 1.722173,
     "end_time": "2023-10-08T22:56:34.079602",
     "exception": false,
     "start_time": "2023-10-08T22:56:32.357429",
     "status": "completed"
    },
    "tags": []
   },
   "source": [
    "## Author : `Faria Efa`"
   ]
  },
  {
   "cell_type": "code",
   "execution_count": null,
   "id": "917d3a5d",
   "metadata": {
    "papermill": {
     "duration": 1.65431,
     "end_time": "2023-10-08T22:56:37.422363",
     "exception": false,
     "start_time": "2023-10-08T22:56:35.768053",
     "status": "completed"
    },
    "tags": []
   },
   "outputs": [],
   "source": []
  }
 ],
 "metadata": {
  "kernelspec": {
   "display_name": "Python 3",
   "language": "python",
   "name": "python3"
  },
  "language_info": {
   "codemirror_mode": {
    "name": "ipython",
    "version": 3
   },
   "file_extension": ".py",
   "mimetype": "text/x-python",
   "name": "python",
   "nbconvert_exporter": "python",
   "pygments_lexer": "ipython3",
   "version": "3.7.12"
  },
  "papermill": {
   "default_parameters": {},
   "duration": 14834.453405,
   "end_time": "2023-10-08T22:56:42.949664",
   "environment_variables": {},
   "exception": null,
   "input_path": "__notebook__.ipynb",
   "output_path": "__notebook__.ipynb",
   "parameters": {},
   "start_time": "2023-10-08T18:49:28.496259",
   "version": "2.4.0"
  },
  "widgets": {
   "application/vnd.jupyter.widget-state+json": {
    "state": {
     "01374284aced4ec19180643418de49ae": {
      "model_module": "@jupyter-widgets/base",
      "model_module_version": "1.2.0",
      "model_name": "LayoutModel",
      "state": {
       "_model_module": "@jupyter-widgets/base",
       "_model_module_version": "1.2.0",
       "_model_name": "LayoutModel",
       "_view_count": null,
       "_view_module": "@jupyter-widgets/base",
       "_view_module_version": "1.2.0",
       "_view_name": "LayoutView",
       "align_content": null,
       "align_items": null,
       "align_self": null,
       "border": null,
       "bottom": null,
       "display": null,
       "flex": null,
       "flex_flow": null,
       "grid_area": null,
       "grid_auto_columns": null,
       "grid_auto_flow": null,
       "grid_auto_rows": null,
       "grid_column": null,
       "grid_gap": null,
       "grid_row": null,
       "grid_template_areas": null,
       "grid_template_columns": null,
       "grid_template_rows": null,
       "height": null,
       "justify_content": null,
       "justify_items": null,
       "left": null,
       "margin": null,
       "max_height": null,
       "max_width": null,
       "min_height": null,
       "min_width": null,
       "object_fit": null,
       "object_position": null,
       "order": null,
       "overflow": null,
       "overflow_x": null,
       "overflow_y": null,
       "padding": null,
       "right": null,
       "top": null,
       "visibility": null,
       "width": null
      }
     },
     "01aae00794f54983ac6c4a5f3c4e14fe": {
      "model_module": "@jupyter-widgets/controls",
      "model_module_version": "1.5.0",
      "model_name": "DescriptionStyleModel",
      "state": {
       "_model_module": "@jupyter-widgets/controls",
       "_model_module_version": "1.5.0",
       "_model_name": "DescriptionStyleModel",
       "_view_count": null,
       "_view_module": "@jupyter-widgets/base",
       "_view_module_version": "1.2.0",
       "_view_name": "StyleView",
       "description_width": ""
      }
     },
     "076d690e52ab48aa8bd74d17a4ff9078": {
      "model_module": "@jupyter-widgets/controls",
      "model_module_version": "1.5.0",
      "model_name": "FloatProgressModel",
      "state": {
       "_dom_classes": [],
       "_model_module": "@jupyter-widgets/controls",
       "_model_module_version": "1.5.0",
       "_model_name": "FloatProgressModel",
       "_view_count": null,
       "_view_module": "@jupyter-widgets/controls",
       "_view_module_version": "1.5.0",
       "_view_name": "ProgressView",
       "bar_style": "success",
       "description": "",
       "description_tooltip": null,
       "layout": "IPY_MODEL_27d90496351344e19538e992577a4d8c",
       "max": 28.0,
       "min": 0.0,
       "orientation": "horizontal",
       "style": "IPY_MODEL_f91c71ddf7454864b0b937aba5d74843",
       "value": 28.0
      }
     },
     "0b00edcbbda345feb649a45f53e27dcc": {
      "model_module": "@jupyter-widgets/controls",
      "model_module_version": "1.5.0",
      "model_name": "DescriptionStyleModel",
      "state": {
       "_model_module": "@jupyter-widgets/controls",
       "_model_module_version": "1.5.0",
       "_model_name": "DescriptionStyleModel",
       "_view_count": null,
       "_view_module": "@jupyter-widgets/base",
       "_view_module_version": "1.2.0",
       "_view_name": "StyleView",
       "description_width": ""
      }
     },
     "0cbf3212ac4c43b0a06187f13b937333": {
      "model_module": "@jupyter-widgets/controls",
      "model_module_version": "1.5.0",
      "model_name": "HTMLModel",
      "state": {
       "_dom_classes": [],
       "_model_module": "@jupyter-widgets/controls",
       "_model_module_version": "1.5.0",
       "_model_name": "HTMLModel",
       "_view_count": null,
       "_view_module": "@jupyter-widgets/controls",
       "_view_module_version": "1.5.0",
       "_view_name": "HTMLView",
       "description": "",
       "description_tooltip": null,
       "layout": "IPY_MODEL_01374284aced4ec19180643418de49ae",
       "placeholder": "​",
       "style": "IPY_MODEL_8d631469fe9b4078b2093119ae7bb71f",
       "value": "Downloading (…)&quot;tf_model.h5&quot;;: 100%"
      }
     },
     "10483f2e96644aa9ba0af3bf3be4c0bd": {
      "model_module": "@jupyter-widgets/base",
      "model_module_version": "1.2.0",
      "model_name": "LayoutModel",
      "state": {
       "_model_module": "@jupyter-widgets/base",
       "_model_module_version": "1.2.0",
       "_model_name": "LayoutModel",
       "_view_count": null,
       "_view_module": "@jupyter-widgets/base",
       "_view_module_version": "1.2.0",
       "_view_name": "LayoutView",
       "align_content": null,
       "align_items": null,
       "align_self": null,
       "border": null,
       "bottom": null,
       "display": null,
       "flex": null,
       "flex_flow": null,
       "grid_area": null,
       "grid_auto_columns": null,
       "grid_auto_flow": null,
       "grid_auto_rows": null,
       "grid_column": null,
       "grid_gap": null,
       "grid_row": null,
       "grid_template_areas": null,
       "grid_template_columns": null,
       "grid_template_rows": null,
       "height": null,
       "justify_content": null,
       "justify_items": null,
       "left": null,
       "margin": null,
       "max_height": null,
       "max_width": null,
       "min_height": null,
       "min_width": null,
       "object_fit": null,
       "object_position": null,
       "order": null,
       "overflow": null,
       "overflow_x": null,
       "overflow_y": null,
       "padding": null,
       "right": null,
       "top": null,
       "visibility": null,
       "width": null
      }
     },
     "117cbf4f6f6d4515bc494234d715be61": {
      "model_module": "@jupyter-widgets/controls",
      "model_module_version": "1.5.0",
      "model_name": "HTMLModel",
      "state": {
       "_dom_classes": [],
       "_model_module": "@jupyter-widgets/controls",
       "_model_module_version": "1.5.0",
       "_model_name": "HTMLModel",
       "_view_count": null,
       "_view_module": "@jupyter-widgets/controls",
       "_view_module_version": "1.5.0",
       "_view_name": "HTMLView",
       "description": "",
       "description_tooltip": null,
       "layout": "IPY_MODEL_10483f2e96644aa9ba0af3bf3be4c0bd",
       "placeholder": "​",
       "style": "IPY_MODEL_809578f104544d3e9ec2cff2a20738b7",
       "value": " 7/7 [00:09&lt;00:00,  1.24s/ba]"
      }
     },
     "16bc1b82fda3456cb4f418b31a12d27a": {
      "model_module": "@jupyter-widgets/base",
      "model_module_version": "1.2.0",
      "model_name": "LayoutModel",
      "state": {
       "_model_module": "@jupyter-widgets/base",
       "_model_module_version": "1.2.0",
       "_model_name": "LayoutModel",
       "_view_count": null,
       "_view_module": "@jupyter-widgets/base",
       "_view_module_version": "1.2.0",
       "_view_name": "LayoutView",
       "align_content": null,
       "align_items": null,
       "align_self": null,
       "border": null,
       "bottom": null,
       "display": null,
       "flex": null,
       "flex_flow": null,
       "grid_area": null,
       "grid_auto_columns": null,
       "grid_auto_flow": null,
       "grid_auto_rows": null,
       "grid_column": null,
       "grid_gap": null,
       "grid_row": null,
       "grid_template_areas": null,
       "grid_template_columns": null,
       "grid_template_rows": null,
       "height": null,
       "justify_content": null,
       "justify_items": null,
       "left": null,
       "margin": null,
       "max_height": null,
       "max_width": null,
       "min_height": null,
       "min_width": null,
       "object_fit": null,
       "object_position": null,
       "order": null,
       "overflow": null,
       "overflow_x": null,
       "overflow_y": null,
       "padding": null,
       "right": null,
       "top": null,
       "visibility": null,
       "width": null
      }
     },
     "1923e41a88044a649a8cb4341debe2ff": {
      "model_module": "@jupyter-widgets/base",
      "model_module_version": "1.2.0",
      "model_name": "LayoutModel",
      "state": {
       "_model_module": "@jupyter-widgets/base",
       "_model_module_version": "1.2.0",
       "_model_name": "LayoutModel",
       "_view_count": null,
       "_view_module": "@jupyter-widgets/base",
       "_view_module_version": "1.2.0",
       "_view_name": "LayoutView",
       "align_content": null,
       "align_items": null,
       "align_self": null,
       "border": null,
       "bottom": null,
       "display": null,
       "flex": null,
       "flex_flow": null,
       "grid_area": null,
       "grid_auto_columns": null,
       "grid_auto_flow": null,
       "grid_auto_rows": null,
       "grid_column": null,
       "grid_gap": null,
       "grid_row": null,
       "grid_template_areas": null,
       "grid_template_columns": null,
       "grid_template_rows": null,
       "height": null,
       "justify_content": null,
       "justify_items": null,
       "left": null,
       "margin": null,
       "max_height": null,
       "max_width": null,
       "min_height": null,
       "min_width": null,
       "object_fit": null,
       "object_position": null,
       "order": null,
       "overflow": null,
       "overflow_x": null,
       "overflow_y": null,
       "padding": null,
       "right": null,
       "top": null,
       "visibility": null,
       "width": null
      }
     },
     "27d90496351344e19538e992577a4d8c": {
      "model_module": "@jupyter-widgets/base",
      "model_module_version": "1.2.0",
      "model_name": "LayoutModel",
      "state": {
       "_model_module": "@jupyter-widgets/base",
       "_model_module_version": "1.2.0",
       "_model_name": "LayoutModel",
       "_view_count": null,
       "_view_module": "@jupyter-widgets/base",
       "_view_module_version": "1.2.0",
       "_view_name": "LayoutView",
       "align_content": null,
       "align_items": null,
       "align_self": null,
       "border": null,
       "bottom": null,
       "display": null,
       "flex": null,
       "flex_flow": null,
       "grid_area": null,
       "grid_auto_columns": null,
       "grid_auto_flow": null,
       "grid_auto_rows": null,
       "grid_column": null,
       "grid_gap": null,
       "grid_row": null,
       "grid_template_areas": null,
       "grid_template_columns": null,
       "grid_template_rows": null,
       "height": null,
       "justify_content": null,
       "justify_items": null,
       "left": null,
       "margin": null,
       "max_height": null,
       "max_width": null,
       "min_height": null,
       "min_width": null,
       "object_fit": null,
       "object_position": null,
       "order": null,
       "overflow": null,
       "overflow_x": null,
       "overflow_y": null,
       "padding": null,
       "right": null,
       "top": null,
       "visibility": null,
       "width": null
      }
     },
     "2d109f6f5aa541cb82072818581636aa": {
      "model_module": "@jupyter-widgets/controls",
      "model_module_version": "1.5.0",
      "model_name": "HBoxModel",
      "state": {
       "_dom_classes": [],
       "_model_module": "@jupyter-widgets/controls",
       "_model_module_version": "1.5.0",
       "_model_name": "HBoxModel",
       "_view_count": null,
       "_view_module": "@jupyter-widgets/controls",
       "_view_module_version": "1.5.0",
       "_view_name": "HBoxView",
       "box_style": "",
       "children": [
        "IPY_MODEL_97ef472bca3042e6ac7b3493c531ebb8",
        "IPY_MODEL_944089f3e9444bfc9ed48afc1ea4fff7",
        "IPY_MODEL_a2d35a1b213a4a36a88ae27609bac82f"
       ],
       "layout": "IPY_MODEL_16bc1b82fda3456cb4f418b31a12d27a"
      }
     },
     "3384c0c78e554aa9aa035192e75ddfa9": {
      "model_module": "@jupyter-widgets/base",
      "model_module_version": "1.2.0",
      "model_name": "LayoutModel",
      "state": {
       "_model_module": "@jupyter-widgets/base",
       "_model_module_version": "1.2.0",
       "_model_name": "LayoutModel",
       "_view_count": null,
       "_view_module": "@jupyter-widgets/base",
       "_view_module_version": "1.2.0",
       "_view_name": "LayoutView",
       "align_content": null,
       "align_items": null,
       "align_self": null,
       "border": null,
       "bottom": null,
       "display": null,
       "flex": null,
       "flex_flow": null,
       "grid_area": null,
       "grid_auto_columns": null,
       "grid_auto_flow": null,
       "grid_auto_rows": null,
       "grid_column": null,
       "grid_gap": null,
       "grid_row": null,
       "grid_template_areas": null,
       "grid_template_columns": null,
       "grid_template_rows": null,
       "height": null,
       "justify_content": null,
       "justify_items": null,
       "left": null,
       "margin": null,
       "max_height": null,
       "max_width": null,
       "min_height": null,
       "min_width": null,
       "object_fit": null,
       "object_position": null,
       "order": null,
       "overflow": null,
       "overflow_x": null,
       "overflow_y": null,
       "padding": null,
       "right": null,
       "top": null,
       "visibility": null,
       "width": null
      }
     },
     "39bdf176ff7943569950a8803d9e24f8": {
      "model_module": "@jupyter-widgets/base",
      "model_module_version": "1.2.0",
      "model_name": "LayoutModel",
      "state": {
       "_model_module": "@jupyter-widgets/base",
       "_model_module_version": "1.2.0",
       "_model_name": "LayoutModel",
       "_view_count": null,
       "_view_module": "@jupyter-widgets/base",
       "_view_module_version": "1.2.0",
       "_view_name": "LayoutView",
       "align_content": null,
       "align_items": null,
       "align_self": null,
       "border": null,
       "bottom": null,
       "display": null,
       "flex": null,
       "flex_flow": null,
       "grid_area": null,
       "grid_auto_columns": null,
       "grid_auto_flow": null,
       "grid_auto_rows": null,
       "grid_column": null,
       "grid_gap": null,
       "grid_row": null,
       "grid_template_areas": null,
       "grid_template_columns": null,
       "grid_template_rows": null,
       "height": null,
       "justify_content": null,
       "justify_items": null,
       "left": null,
       "margin": null,
       "max_height": null,
       "max_width": null,
       "min_height": null,
       "min_width": null,
       "object_fit": null,
       "object_position": null,
       "order": null,
       "overflow": null,
       "overflow_x": null,
       "overflow_y": null,
       "padding": null,
       "right": null,
       "top": null,
       "visibility": null,
       "width": null
      }
     },
     "3b7b8adde59c450facdba37101e1d7ee": {
      "model_module": "@jupyter-widgets/base",
      "model_module_version": "1.2.0",
      "model_name": "LayoutModel",
      "state": {
       "_model_module": "@jupyter-widgets/base",
       "_model_module_version": "1.2.0",
       "_model_name": "LayoutModel",
       "_view_count": null,
       "_view_module": "@jupyter-widgets/base",
       "_view_module_version": "1.2.0",
       "_view_name": "LayoutView",
       "align_content": null,
       "align_items": null,
       "align_self": null,
       "border": null,
       "bottom": null,
       "display": null,
       "flex": null,
       "flex_flow": null,
       "grid_area": null,
       "grid_auto_columns": null,
       "grid_auto_flow": null,
       "grid_auto_rows": null,
       "grid_column": null,
       "grid_gap": null,
       "grid_row": null,
       "grid_template_areas": null,
       "grid_template_columns": null,
       "grid_template_rows": null,
       "height": null,
       "justify_content": null,
       "justify_items": null,
       "left": null,
       "margin": null,
       "max_height": null,
       "max_width": null,
       "min_height": null,
       "min_width": null,
       "object_fit": null,
       "object_position": null,
       "order": null,
       "overflow": null,
       "overflow_x": null,
       "overflow_y": null,
       "padding": null,
       "right": null,
       "top": null,
       "visibility": null,
       "width": null
      }
     },
     "408a227515784ae88b8857d3264ef227": {
      "model_module": "@jupyter-widgets/controls",
      "model_module_version": "1.5.0",
      "model_name": "HTMLModel",
      "state": {
       "_dom_classes": [],
       "_model_module": "@jupyter-widgets/controls",
       "_model_module_version": "1.5.0",
       "_model_name": "HTMLModel",
       "_view_count": null,
       "_view_module": "@jupyter-widgets/controls",
       "_view_module_version": "1.5.0",
       "_view_name": "HTMLView",
       "description": "",
       "description_tooltip": null,
       "layout": "IPY_MODEL_babbd60714774dc7ad583e350abbc4c8",
       "placeholder": "​",
       "style": "IPY_MODEL_a9bd7d773de142dcb32582b8ce361a57",
       "value": "Downloading (…)okenizer_config.json: 100%"
      }
     },
     "45f9bac469d546768a080828c370a7d7": {
      "model_module": "@jupyter-widgets/controls",
      "model_module_version": "1.5.0",
      "model_name": "DescriptionStyleModel",
      "state": {
       "_model_module": "@jupyter-widgets/controls",
       "_model_module_version": "1.5.0",
       "_model_name": "DescriptionStyleModel",
       "_view_count": null,
       "_view_module": "@jupyter-widgets/base",
       "_view_module_version": "1.2.0",
       "_view_name": "StyleView",
       "description_width": ""
      }
     },
     "50a53d0e85604d888d7be658e2a7ebac": {
      "model_module": "@jupyter-widgets/base",
      "model_module_version": "1.2.0",
      "model_name": "LayoutModel",
      "state": {
       "_model_module": "@jupyter-widgets/base",
       "_model_module_version": "1.2.0",
       "_model_name": "LayoutModel",
       "_view_count": null,
       "_view_module": "@jupyter-widgets/base",
       "_view_module_version": "1.2.0",
       "_view_name": "LayoutView",
       "align_content": null,
       "align_items": null,
       "align_self": null,
       "border": null,
       "bottom": null,
       "display": null,
       "flex": null,
       "flex_flow": null,
       "grid_area": null,
       "grid_auto_columns": null,
       "grid_auto_flow": null,
       "grid_auto_rows": null,
       "grid_column": null,
       "grid_gap": null,
       "grid_row": null,
       "grid_template_areas": null,
       "grid_template_columns": null,
       "grid_template_rows": null,
       "height": null,
       "justify_content": null,
       "justify_items": null,
       "left": null,
       "margin": null,
       "max_height": null,
       "max_width": null,
       "min_height": null,
       "min_width": null,
       "object_fit": null,
       "object_position": null,
       "order": null,
       "overflow": null,
       "overflow_x": null,
       "overflow_y": null,
       "padding": null,
       "right": null,
       "top": null,
       "visibility": null,
       "width": null
      }
     },
     "534f56a68c7747ffb64e3ef01dbc7412": {
      "model_module": "@jupyter-widgets/base",
      "model_module_version": "1.2.0",
      "model_name": "LayoutModel",
      "state": {
       "_model_module": "@jupyter-widgets/base",
       "_model_module_version": "1.2.0",
       "_model_name": "LayoutModel",
       "_view_count": null,
       "_view_module": "@jupyter-widgets/base",
       "_view_module_version": "1.2.0",
       "_view_name": "LayoutView",
       "align_content": null,
       "align_items": null,
       "align_self": null,
       "border": null,
       "bottom": null,
       "display": null,
       "flex": null,
       "flex_flow": null,
       "grid_area": null,
       "grid_auto_columns": null,
       "grid_auto_flow": null,
       "grid_auto_rows": null,
       "grid_column": null,
       "grid_gap": null,
       "grid_row": null,
       "grid_template_areas": null,
       "grid_template_columns": null,
       "grid_template_rows": null,
       "height": null,
       "justify_content": null,
       "justify_items": null,
       "left": null,
       "margin": null,
       "max_height": null,
       "max_width": null,
       "min_height": null,
       "min_width": null,
       "object_fit": null,
       "object_position": null,
       "order": null,
       "overflow": null,
       "overflow_x": null,
       "overflow_y": null,
       "padding": null,
       "right": null,
       "top": null,
       "visibility": null,
       "width": null
      }
     },
     "5594955f6d3b4836af99e816b7717f8c": {
      "model_module": "@jupyter-widgets/controls",
      "model_module_version": "1.5.0",
      "model_name": "HTMLModel",
      "state": {
       "_dom_classes": [],
       "_model_module": "@jupyter-widgets/controls",
       "_model_module_version": "1.5.0",
       "_model_name": "HTMLModel",
       "_view_count": null,
       "_view_module": "@jupyter-widgets/controls",
       "_view_module_version": "1.5.0",
       "_view_name": "HTMLView",
       "description": "",
       "description_tooltip": null,
       "layout": "IPY_MODEL_ff4ac8b8f9d647fa8a14a703216b90df",
       "placeholder": "​",
       "style": "IPY_MODEL_45f9bac469d546768a080828c370a7d7",
       "value": "100%"
      }
     },
     "58baef9fad0b4ae092c64579ee5645f4": {
      "model_module": "@jupyter-widgets/base",
      "model_module_version": "1.2.0",
      "model_name": "LayoutModel",
      "state": {
       "_model_module": "@jupyter-widgets/base",
       "_model_module_version": "1.2.0",
       "_model_name": "LayoutModel",
       "_view_count": null,
       "_view_module": "@jupyter-widgets/base",
       "_view_module_version": "1.2.0",
       "_view_name": "LayoutView",
       "align_content": null,
       "align_items": null,
       "align_self": null,
       "border": null,
       "bottom": null,
       "display": null,
       "flex": null,
       "flex_flow": null,
       "grid_area": null,
       "grid_auto_columns": null,
       "grid_auto_flow": null,
       "grid_auto_rows": null,
       "grid_column": null,
       "grid_gap": null,
       "grid_row": null,
       "grid_template_areas": null,
       "grid_template_columns": null,
       "grid_template_rows": null,
       "height": null,
       "justify_content": null,
       "justify_items": null,
       "left": null,
       "margin": null,
       "max_height": null,
       "max_width": null,
       "min_height": null,
       "min_width": null,
       "object_fit": null,
       "object_position": null,
       "order": null,
       "overflow": null,
       "overflow_x": null,
       "overflow_y": null,
       "padding": null,
       "right": null,
       "top": null,
       "visibility": null,
       "width": null
      }
     },
     "6184a749a3b742e48bffe308c268ab0d": {
      "model_module": "@jupyter-widgets/controls",
      "model_module_version": "1.5.0",
      "model_name": "FloatProgressModel",
      "state": {
       "_dom_classes": [],
       "_model_module": "@jupyter-widgets/controls",
       "_model_module_version": "1.5.0",
       "_model_name": "FloatProgressModel",
       "_view_count": null,
       "_view_module": "@jupyter-widgets/controls",
       "_view_module_version": "1.5.0",
       "_view_name": "ProgressView",
       "bar_style": "success",
       "description": "",
       "description_tooltip": null,
       "layout": "IPY_MODEL_b96988861fe54e7bafe8b0058e9bb7a9",
       "max": 466062.0,
       "min": 0.0,
       "orientation": "horizontal",
       "style": "IPY_MODEL_f005610bde2d4213bc227298d0031dbd",
       "value": 466062.0
      }
     },
     "67a7449f5a164d708e43c53a17dc4a29": {
      "model_module": "@jupyter-widgets/base",
      "model_module_version": "1.2.0",
      "model_name": "LayoutModel",
      "state": {
       "_model_module": "@jupyter-widgets/base",
       "_model_module_version": "1.2.0",
       "_model_name": "LayoutModel",
       "_view_count": null,
       "_view_module": "@jupyter-widgets/base",
       "_view_module_version": "1.2.0",
       "_view_name": "LayoutView",
       "align_content": null,
       "align_items": null,
       "align_self": null,
       "border": null,
       "bottom": null,
       "display": null,
       "flex": null,
       "flex_flow": null,
       "grid_area": null,
       "grid_auto_columns": null,
       "grid_auto_flow": null,
       "grid_auto_rows": null,
       "grid_column": null,
       "grid_gap": null,
       "grid_row": null,
       "grid_template_areas": null,
       "grid_template_columns": null,
       "grid_template_rows": null,
       "height": null,
       "justify_content": null,
       "justify_items": null,
       "left": null,
       "margin": null,
       "max_height": null,
       "max_width": null,
       "min_height": null,
       "min_width": null,
       "object_fit": null,
       "object_position": null,
       "order": null,
       "overflow": null,
       "overflow_x": null,
       "overflow_y": null,
       "padding": null,
       "right": null,
       "top": null,
       "visibility": null,
       "width": null
      }
     },
     "6a2b55ca3b81473485376664a5808305": {
      "model_module": "@jupyter-widgets/controls",
      "model_module_version": "1.5.0",
      "model_name": "HBoxModel",
      "state": {
       "_dom_classes": [],
       "_model_module": "@jupyter-widgets/controls",
       "_model_module_version": "1.5.0",
       "_model_name": "HBoxModel",
       "_view_count": null,
       "_view_module": "@jupyter-widgets/controls",
       "_view_module_version": "1.5.0",
       "_view_name": "HBoxView",
       "box_style": "",
       "children": [
        "IPY_MODEL_408a227515784ae88b8857d3264ef227",
        "IPY_MODEL_076d690e52ab48aa8bd74d17a4ff9078",
        "IPY_MODEL_eccf815049d1490a811aaec3d3ee8c7a"
       ],
       "layout": "IPY_MODEL_6a8682477ba1429090bd245d955b9eb2"
      }
     },
     "6a8682477ba1429090bd245d955b9eb2": {
      "model_module": "@jupyter-widgets/base",
      "model_module_version": "1.2.0",
      "model_name": "LayoutModel",
      "state": {
       "_model_module": "@jupyter-widgets/base",
       "_model_module_version": "1.2.0",
       "_model_name": "LayoutModel",
       "_view_count": null,
       "_view_module": "@jupyter-widgets/base",
       "_view_module_version": "1.2.0",
       "_view_name": "LayoutView",
       "align_content": null,
       "align_items": null,
       "align_self": null,
       "border": null,
       "bottom": null,
       "display": null,
       "flex": null,
       "flex_flow": null,
       "grid_area": null,
       "grid_auto_columns": null,
       "grid_auto_flow": null,
       "grid_auto_rows": null,
       "grid_column": null,
       "grid_gap": null,
       "grid_row": null,
       "grid_template_areas": null,
       "grid_template_columns": null,
       "grid_template_rows": null,
       "height": null,
       "justify_content": null,
       "justify_items": null,
       "left": null,
       "margin": null,
       "max_height": null,
       "max_width": null,
       "min_height": null,
       "min_width": null,
       "object_fit": null,
       "object_position": null,
       "order": null,
       "overflow": null,
       "overflow_x": null,
       "overflow_y": null,
       "padding": null,
       "right": null,
       "top": null,
       "visibility": null,
       "width": null
      }
     },
     "6b7264ef2e084b6b955ee7712e6d9bbd": {
      "model_module": "@jupyter-widgets/base",
      "model_module_version": "1.2.0",
      "model_name": "LayoutModel",
      "state": {
       "_model_module": "@jupyter-widgets/base",
       "_model_module_version": "1.2.0",
       "_model_name": "LayoutModel",
       "_view_count": null,
       "_view_module": "@jupyter-widgets/base",
       "_view_module_version": "1.2.0",
       "_view_name": "LayoutView",
       "align_content": null,
       "align_items": null,
       "align_self": null,
       "border": null,
       "bottom": null,
       "display": null,
       "flex": null,
       "flex_flow": null,
       "grid_area": null,
       "grid_auto_columns": null,
       "grid_auto_flow": null,
       "grid_auto_rows": null,
       "grid_column": null,
       "grid_gap": null,
       "grid_row": null,
       "grid_template_areas": null,
       "grid_template_columns": null,
       "grid_template_rows": null,
       "height": null,
       "justify_content": null,
       "justify_items": null,
       "left": null,
       "margin": null,
       "max_height": null,
       "max_width": null,
       "min_height": null,
       "min_width": null,
       "object_fit": null,
       "object_position": null,
       "order": null,
       "overflow": null,
       "overflow_x": null,
       "overflow_y": null,
       "padding": null,
       "right": null,
       "top": null,
       "visibility": null,
       "width": null
      }
     },
     "6d65fe191ec44f75a01f41f8e100e5d4": {
      "model_module": "@jupyter-widgets/base",
      "model_module_version": "1.2.0",
      "model_name": "LayoutModel",
      "state": {
       "_model_module": "@jupyter-widgets/base",
       "_model_module_version": "1.2.0",
       "_model_name": "LayoutModel",
       "_view_count": null,
       "_view_module": "@jupyter-widgets/base",
       "_view_module_version": "1.2.0",
       "_view_name": "LayoutView",
       "align_content": null,
       "align_items": null,
       "align_self": null,
       "border": null,
       "bottom": null,
       "display": null,
       "flex": null,
       "flex_flow": null,
       "grid_area": null,
       "grid_auto_columns": null,
       "grid_auto_flow": null,
       "grid_auto_rows": null,
       "grid_column": null,
       "grid_gap": null,
       "grid_row": null,
       "grid_template_areas": null,
       "grid_template_columns": null,
       "grid_template_rows": null,
       "height": null,
       "justify_content": null,
       "justify_items": null,
       "left": null,
       "margin": null,
       "max_height": null,
       "max_width": null,
       "min_height": null,
       "min_width": null,
       "object_fit": null,
       "object_position": null,
       "order": null,
       "overflow": null,
       "overflow_x": null,
       "overflow_y": null,
       "padding": null,
       "right": null,
       "top": null,
       "visibility": null,
       "width": null
      }
     },
     "6e5c235cb05d4c56b7041b2ecb16f8e2": {
      "model_module": "@jupyter-widgets/controls",
      "model_module_version": "1.5.0",
      "model_name": "HTMLModel",
      "state": {
       "_dom_classes": [],
       "_model_module": "@jupyter-widgets/controls",
       "_model_module_version": "1.5.0",
       "_model_name": "HTMLModel",
       "_view_count": null,
       "_view_module": "@jupyter-widgets/controls",
       "_view_module_version": "1.5.0",
       "_view_name": "HTMLView",
       "description": "",
       "description_tooltip": null,
       "layout": "IPY_MODEL_3b7b8adde59c450facdba37101e1d7ee",
       "placeholder": "​",
       "style": "IPY_MODEL_da80f2a1ed1144f9a482033f38221f9c",
       "value": "100%"
      }
     },
     "73e5a01ce91b472a84b187b41723c831": {
      "model_module": "@jupyter-widgets/controls",
      "model_module_version": "1.5.0",
      "model_name": "HBoxModel",
      "state": {
       "_dom_classes": [],
       "_model_module": "@jupyter-widgets/controls",
       "_model_module_version": "1.5.0",
       "_model_name": "HBoxModel",
       "_view_count": null,
       "_view_module": "@jupyter-widgets/controls",
       "_view_module_version": "1.5.0",
       "_view_name": "HBoxView",
       "box_style": "",
       "children": [
        "IPY_MODEL_c5e3382f4aa14811b87c981ea55af3bf",
        "IPY_MODEL_8513809e5a1241cba275912dc6a94169",
        "IPY_MODEL_c8857a4eb8ea421eaaac5de11abc69e6"
       ],
       "layout": "IPY_MODEL_50a53d0e85604d888d7be658e2a7ebac"
      }
     },
     "744de0639249423a99496d0790a7f3d9": {
      "model_module": "@jupyter-widgets/controls",
      "model_module_version": "1.5.0",
      "model_name": "DescriptionStyleModel",
      "state": {
       "_model_module": "@jupyter-widgets/controls",
       "_model_module_version": "1.5.0",
       "_model_name": "DescriptionStyleModel",
       "_view_count": null,
       "_view_module": "@jupyter-widgets/base",
       "_view_module_version": "1.2.0",
       "_view_name": "StyleView",
       "description_width": ""
      }
     },
     "75dd94c0997347a8aa27517e3046e17e": {
      "model_module": "@jupyter-widgets/controls",
      "model_module_version": "1.5.0",
      "model_name": "DescriptionStyleModel",
      "state": {
       "_model_module": "@jupyter-widgets/controls",
       "_model_module_version": "1.5.0",
       "_model_name": "DescriptionStyleModel",
       "_view_count": null,
       "_view_module": "@jupyter-widgets/base",
       "_view_module_version": "1.2.0",
       "_view_name": "StyleView",
       "description_width": ""
      }
     },
     "77bef986babe4de5b92c4b82a33876c7": {
      "model_module": "@jupyter-widgets/base",
      "model_module_version": "1.2.0",
      "model_name": "LayoutModel",
      "state": {
       "_model_module": "@jupyter-widgets/base",
       "_model_module_version": "1.2.0",
       "_model_name": "LayoutModel",
       "_view_count": null,
       "_view_module": "@jupyter-widgets/base",
       "_view_module_version": "1.2.0",
       "_view_name": "LayoutView",
       "align_content": null,
       "align_items": null,
       "align_self": null,
       "border": null,
       "bottom": null,
       "display": null,
       "flex": null,
       "flex_flow": null,
       "grid_area": null,
       "grid_auto_columns": null,
       "grid_auto_flow": null,
       "grid_auto_rows": null,
       "grid_column": null,
       "grid_gap": null,
       "grid_row": null,
       "grid_template_areas": null,
       "grid_template_columns": null,
       "grid_template_rows": null,
       "height": null,
       "justify_content": null,
       "justify_items": null,
       "left": null,
       "margin": null,
       "max_height": null,
       "max_width": null,
       "min_height": null,
       "min_width": null,
       "object_fit": null,
       "object_position": null,
       "order": null,
       "overflow": null,
       "overflow_x": null,
       "overflow_y": null,
       "padding": null,
       "right": null,
       "top": null,
       "visibility": null,
       "width": null
      }
     },
     "809578f104544d3e9ec2cff2a20738b7": {
      "model_module": "@jupyter-widgets/controls",
      "model_module_version": "1.5.0",
      "model_name": "DescriptionStyleModel",
      "state": {
       "_model_module": "@jupyter-widgets/controls",
       "_model_module_version": "1.5.0",
       "_model_name": "DescriptionStyleModel",
       "_view_count": null,
       "_view_module": "@jupyter-widgets/base",
       "_view_module_version": "1.2.0",
       "_view_name": "StyleView",
       "description_width": ""
      }
     },
     "82eb16c81f7a45a282a42e9b29faf9f8": {
      "model_module": "@jupyter-widgets/base",
      "model_module_version": "1.2.0",
      "model_name": "LayoutModel",
      "state": {
       "_model_module": "@jupyter-widgets/base",
       "_model_module_version": "1.2.0",
       "_model_name": "LayoutModel",
       "_view_count": null,
       "_view_module": "@jupyter-widgets/base",
       "_view_module_version": "1.2.0",
       "_view_name": "LayoutView",
       "align_content": null,
       "align_items": null,
       "align_self": null,
       "border": null,
       "bottom": null,
       "display": null,
       "flex": null,
       "flex_flow": null,
       "grid_area": null,
       "grid_auto_columns": null,
       "grid_auto_flow": null,
       "grid_auto_rows": null,
       "grid_column": null,
       "grid_gap": null,
       "grid_row": null,
       "grid_template_areas": null,
       "grid_template_columns": null,
       "grid_template_rows": null,
       "height": null,
       "justify_content": null,
       "justify_items": null,
       "left": null,
       "margin": null,
       "max_height": null,
       "max_width": null,
       "min_height": null,
       "min_width": null,
       "object_fit": null,
       "object_position": null,
       "order": null,
       "overflow": null,
       "overflow_x": null,
       "overflow_y": null,
       "padding": null,
       "right": null,
       "top": null,
       "visibility": null,
       "width": null
      }
     },
     "845780bd5a0c4139bd4d43b77541b50e": {
      "model_module": "@jupyter-widgets/controls",
      "model_module_version": "1.5.0",
      "model_name": "DescriptionStyleModel",
      "state": {
       "_model_module": "@jupyter-widgets/controls",
       "_model_module_version": "1.5.0",
       "_model_name": "DescriptionStyleModel",
       "_view_count": null,
       "_view_module": "@jupyter-widgets/base",
       "_view_module_version": "1.2.0",
       "_view_name": "StyleView",
       "description_width": ""
      }
     },
     "847a2524accb41969fcb2aeefe565e66": {
      "model_module": "@jupyter-widgets/base",
      "model_module_version": "1.2.0",
      "model_name": "LayoutModel",
      "state": {
       "_model_module": "@jupyter-widgets/base",
       "_model_module_version": "1.2.0",
       "_model_name": "LayoutModel",
       "_view_count": null,
       "_view_module": "@jupyter-widgets/base",
       "_view_module_version": "1.2.0",
       "_view_name": "LayoutView",
       "align_content": null,
       "align_items": null,
       "align_self": null,
       "border": null,
       "bottom": null,
       "display": null,
       "flex": null,
       "flex_flow": null,
       "grid_area": null,
       "grid_auto_columns": null,
       "grid_auto_flow": null,
       "grid_auto_rows": null,
       "grid_column": null,
       "grid_gap": null,
       "grid_row": null,
       "grid_template_areas": null,
       "grid_template_columns": null,
       "grid_template_rows": null,
       "height": null,
       "justify_content": null,
       "justify_items": null,
       "left": null,
       "margin": null,
       "max_height": null,
       "max_width": null,
       "min_height": null,
       "min_width": null,
       "object_fit": null,
       "object_position": null,
       "order": null,
       "overflow": null,
       "overflow_x": null,
       "overflow_y": null,
       "padding": null,
       "right": null,
       "top": null,
       "visibility": null,
       "width": null
      }
     },
     "848a2cba20404d8597ef1af366599ad4": {
      "model_module": "@jupyter-widgets/controls",
      "model_module_version": "1.5.0",
      "model_name": "ProgressStyleModel",
      "state": {
       "_model_module": "@jupyter-widgets/controls",
       "_model_module_version": "1.5.0",
       "_model_name": "ProgressStyleModel",
       "_view_count": null,
       "_view_module": "@jupyter-widgets/base",
       "_view_module_version": "1.2.0",
       "_view_name": "StyleView",
       "bar_color": null,
       "description_width": ""
      }
     },
     "8513809e5a1241cba275912dc6a94169": {
      "model_module": "@jupyter-widgets/controls",
      "model_module_version": "1.5.0",
      "model_name": "FloatProgressModel",
      "state": {
       "_dom_classes": [],
       "_model_module": "@jupyter-widgets/controls",
       "_model_module_version": "1.5.0",
       "_model_name": "FloatProgressModel",
       "_view_count": null,
       "_view_module": "@jupyter-widgets/controls",
       "_view_module_version": "1.5.0",
       "_view_name": "ProgressView",
       "bar_style": "success",
       "description": "",
       "description_tooltip": null,
       "layout": "IPY_MODEL_f5a44490577a4f5da62d9cc71648d1c5",
       "max": 231508.0,
       "min": 0.0,
       "orientation": "horizontal",
       "style": "IPY_MODEL_98ab01d302d0416097c44f19acf67b11",
       "value": 231508.0
      }
     },
     "886540fc12c74ba7b504338b0edfc11d": {
      "model_module": "@jupyter-widgets/controls",
      "model_module_version": "1.5.0",
      "model_name": "ProgressStyleModel",
      "state": {
       "_model_module": "@jupyter-widgets/controls",
       "_model_module_version": "1.5.0",
       "_model_name": "ProgressStyleModel",
       "_view_count": null,
       "_view_module": "@jupyter-widgets/base",
       "_view_module_version": "1.2.0",
       "_view_name": "StyleView",
       "bar_color": null,
       "description_width": ""
      }
     },
     "898d03909a7640d1a3bb625adf72a34b": {
      "model_module": "@jupyter-widgets/controls",
      "model_module_version": "1.5.0",
      "model_name": "FloatProgressModel",
      "state": {
       "_dom_classes": [],
       "_model_module": "@jupyter-widgets/controls",
       "_model_module_version": "1.5.0",
       "_model_name": "FloatProgressModel",
       "_view_count": null,
       "_view_module": "@jupyter-widgets/controls",
       "_view_module_version": "1.5.0",
       "_view_name": "ProgressView",
       "bar_style": "success",
       "description": "",
       "description_tooltip": null,
       "layout": "IPY_MODEL_67a7449f5a164d708e43c53a17dc4a29",
       "max": 363423424.0,
       "min": 0.0,
       "orientation": "horizontal",
       "style": "IPY_MODEL_886540fc12c74ba7b504338b0edfc11d",
       "value": 363423424.0
      }
     },
     "8d631469fe9b4078b2093119ae7bb71f": {
      "model_module": "@jupyter-widgets/controls",
      "model_module_version": "1.5.0",
      "model_name": "DescriptionStyleModel",
      "state": {
       "_model_module": "@jupyter-widgets/controls",
       "_model_module_version": "1.5.0",
       "_model_name": "DescriptionStyleModel",
       "_view_count": null,
       "_view_module": "@jupyter-widgets/base",
       "_view_module_version": "1.2.0",
       "_view_name": "StyleView",
       "description_width": ""
      }
     },
     "944089f3e9444bfc9ed48afc1ea4fff7": {
      "model_module": "@jupyter-widgets/controls",
      "model_module_version": "1.5.0",
      "model_name": "FloatProgressModel",
      "state": {
       "_dom_classes": [],
       "_model_module": "@jupyter-widgets/controls",
       "_model_module_version": "1.5.0",
       "_model_name": "FloatProgressModel",
       "_view_count": null,
       "_view_module": "@jupyter-widgets/controls",
       "_view_module_version": "1.5.0",
       "_view_name": "ProgressView",
       "bar_style": "success",
       "description": "",
       "description_tooltip": null,
       "layout": "IPY_MODEL_58baef9fad0b4ae092c64579ee5645f4",
       "max": 483.0,
       "min": 0.0,
       "orientation": "horizontal",
       "style": "IPY_MODEL_848a2cba20404d8597ef1af366599ad4",
       "value": 483.0
      }
     },
     "97388c504cbc42ff903afd551ec3535c": {
      "model_module": "@jupyter-widgets/base",
      "model_module_version": "1.2.0",
      "model_name": "LayoutModel",
      "state": {
       "_model_module": "@jupyter-widgets/base",
       "_model_module_version": "1.2.0",
       "_model_name": "LayoutModel",
       "_view_count": null,
       "_view_module": "@jupyter-widgets/base",
       "_view_module_version": "1.2.0",
       "_view_name": "LayoutView",
       "align_content": null,
       "align_items": null,
       "align_self": null,
       "border": null,
       "bottom": null,
       "display": null,
       "flex": null,
       "flex_flow": null,
       "grid_area": null,
       "grid_auto_columns": null,
       "grid_auto_flow": null,
       "grid_auto_rows": null,
       "grid_column": null,
       "grid_gap": null,
       "grid_row": null,
       "grid_template_areas": null,
       "grid_template_columns": null,
       "grid_template_rows": null,
       "height": null,
       "justify_content": null,
       "justify_items": null,
       "left": null,
       "margin": null,
       "max_height": null,
       "max_width": null,
       "min_height": null,
       "min_width": null,
       "object_fit": null,
       "object_position": null,
       "order": null,
       "overflow": null,
       "overflow_x": null,
       "overflow_y": null,
       "padding": null,
       "right": null,
       "top": null,
       "visibility": null,
       "width": null
      }
     },
     "978755b502ca4b4ca743f976227f9e76": {
      "model_module": "@jupyter-widgets/controls",
      "model_module_version": "1.5.0",
      "model_name": "FloatProgressModel",
      "state": {
       "_dom_classes": [],
       "_model_module": "@jupyter-widgets/controls",
       "_model_module_version": "1.5.0",
       "_model_name": "FloatProgressModel",
       "_view_count": null,
       "_view_module": "@jupyter-widgets/controls",
       "_view_module_version": "1.5.0",
       "_view_name": "ProgressView",
       "bar_style": "success",
       "description": "",
       "description_tooltip": null,
       "layout": "IPY_MODEL_82eb16c81f7a45a282a42e9b29faf9f8",
       "max": 7.0,
       "min": 0.0,
       "orientation": "horizontal",
       "style": "IPY_MODEL_b44e520987604067a45979f8b76e9b0a",
       "value": 7.0
      }
     },
     "97ef472bca3042e6ac7b3493c531ebb8": {
      "model_module": "@jupyter-widgets/controls",
      "model_module_version": "1.5.0",
      "model_name": "HTMLModel",
      "state": {
       "_dom_classes": [],
       "_model_module": "@jupyter-widgets/controls",
       "_model_module_version": "1.5.0",
       "_model_name": "HTMLModel",
       "_view_count": null,
       "_view_module": "@jupyter-widgets/controls",
       "_view_module_version": "1.5.0",
       "_view_name": "HTMLView",
       "description": "",
       "description_tooltip": null,
       "layout": "IPY_MODEL_534f56a68c7747ffb64e3ef01dbc7412",
       "placeholder": "​",
       "style": "IPY_MODEL_b4f7d666ec7941b7bad525e96468ad00",
       "value": "Downloading (…)lve/main/config.json: 100%"
      }
     },
     "98ab01d302d0416097c44f19acf67b11": {
      "model_module": "@jupyter-widgets/controls",
      "model_module_version": "1.5.0",
      "model_name": "ProgressStyleModel",
      "state": {
       "_model_module": "@jupyter-widgets/controls",
       "_model_module_version": "1.5.0",
       "_model_name": "ProgressStyleModel",
       "_view_count": null,
       "_view_module": "@jupyter-widgets/base",
       "_view_module_version": "1.2.0",
       "_view_name": "StyleView",
       "bar_color": null,
       "description_width": ""
      }
     },
     "9c8b1ff40c3b4631a4f6b91690b29c42": {
      "model_module": "@jupyter-widgets/base",
      "model_module_version": "1.2.0",
      "model_name": "LayoutModel",
      "state": {
       "_model_module": "@jupyter-widgets/base",
       "_model_module_version": "1.2.0",
       "_model_name": "LayoutModel",
       "_view_count": null,
       "_view_module": "@jupyter-widgets/base",
       "_view_module_version": "1.2.0",
       "_view_name": "LayoutView",
       "align_content": null,
       "align_items": null,
       "align_self": null,
       "border": null,
       "bottom": null,
       "display": null,
       "flex": null,
       "flex_flow": null,
       "grid_area": null,
       "grid_auto_columns": null,
       "grid_auto_flow": null,
       "grid_auto_rows": null,
       "grid_column": null,
       "grid_gap": null,
       "grid_row": null,
       "grid_template_areas": null,
       "grid_template_columns": null,
       "grid_template_rows": null,
       "height": null,
       "justify_content": null,
       "justify_items": null,
       "left": null,
       "margin": null,
       "max_height": null,
       "max_width": null,
       "min_height": null,
       "min_width": null,
       "object_fit": null,
       "object_position": null,
       "order": null,
       "overflow": null,
       "overflow_x": null,
       "overflow_y": null,
       "padding": null,
       "right": null,
       "top": null,
       "visibility": null,
       "width": null
      }
     },
     "9f3cb6e1babf44a190e0a7fecad3f8d5": {
      "model_module": "@jupyter-widgets/controls",
      "model_module_version": "1.5.0",
      "model_name": "DescriptionStyleModel",
      "state": {
       "_model_module": "@jupyter-widgets/controls",
       "_model_module_version": "1.5.0",
       "_model_name": "DescriptionStyleModel",
       "_view_count": null,
       "_view_module": "@jupyter-widgets/base",
       "_view_module_version": "1.2.0",
       "_view_name": "StyleView",
       "description_width": ""
      }
     },
     "a2d35a1b213a4a36a88ae27609bac82f": {
      "model_module": "@jupyter-widgets/controls",
      "model_module_version": "1.5.0",
      "model_name": "HTMLModel",
      "state": {
       "_dom_classes": [],
       "_model_module": "@jupyter-widgets/controls",
       "_model_module_version": "1.5.0",
       "_model_name": "HTMLModel",
       "_view_count": null,
       "_view_module": "@jupyter-widgets/controls",
       "_view_module_version": "1.5.0",
       "_view_name": "HTMLView",
       "description": "",
       "description_tooltip": null,
       "layout": "IPY_MODEL_847a2524accb41969fcb2aeefe565e66",
       "placeholder": "​",
       "style": "IPY_MODEL_744de0639249423a99496d0790a7f3d9",
       "value": " 483/483 [00:00&lt;00:00, 1.96kB/s]"
      }
     },
     "a5779f238c4f46a79498b786f743cbec": {
      "model_module": "@jupyter-widgets/controls",
      "model_module_version": "1.5.0",
      "model_name": "DescriptionStyleModel",
      "state": {
       "_model_module": "@jupyter-widgets/controls",
       "_model_module_version": "1.5.0",
       "_model_name": "DescriptionStyleModel",
       "_view_count": null,
       "_view_module": "@jupyter-widgets/base",
       "_view_module_version": "1.2.0",
       "_view_name": "StyleView",
       "description_width": ""
      }
     },
     "a9bd7d773de142dcb32582b8ce361a57": {
      "model_module": "@jupyter-widgets/controls",
      "model_module_version": "1.5.0",
      "model_name": "DescriptionStyleModel",
      "state": {
       "_model_module": "@jupyter-widgets/controls",
       "_model_module_version": "1.5.0",
       "_model_name": "DescriptionStyleModel",
       "_view_count": null,
       "_view_module": "@jupyter-widgets/base",
       "_view_module_version": "1.2.0",
       "_view_name": "StyleView",
       "description_width": ""
      }
     },
     "b44e520987604067a45979f8b76e9b0a": {
      "model_module": "@jupyter-widgets/controls",
      "model_module_version": "1.5.0",
      "model_name": "ProgressStyleModel",
      "state": {
       "_model_module": "@jupyter-widgets/controls",
       "_model_module_version": "1.5.0",
       "_model_name": "ProgressStyleModel",
       "_view_count": null,
       "_view_module": "@jupyter-widgets/base",
       "_view_module_version": "1.2.0",
       "_view_name": "StyleView",
       "bar_color": null,
       "description_width": ""
      }
     },
     "b452b9585ba7480ea3a0026203e1c266": {
      "model_module": "@jupyter-widgets/base",
      "model_module_version": "1.2.0",
      "model_name": "LayoutModel",
      "state": {
       "_model_module": "@jupyter-widgets/base",
       "_model_module_version": "1.2.0",
       "_model_name": "LayoutModel",
       "_view_count": null,
       "_view_module": "@jupyter-widgets/base",
       "_view_module_version": "1.2.0",
       "_view_name": "LayoutView",
       "align_content": null,
       "align_items": null,
       "align_self": null,
       "border": null,
       "bottom": null,
       "display": null,
       "flex": null,
       "flex_flow": null,
       "grid_area": null,
       "grid_auto_columns": null,
       "grid_auto_flow": null,
       "grid_auto_rows": null,
       "grid_column": null,
       "grid_gap": null,
       "grid_row": null,
       "grid_template_areas": null,
       "grid_template_columns": null,
       "grid_template_rows": null,
       "height": null,
       "justify_content": null,
       "justify_items": null,
       "left": null,
       "margin": null,
       "max_height": null,
       "max_width": null,
       "min_height": null,
       "min_width": null,
       "object_fit": null,
       "object_position": null,
       "order": null,
       "overflow": null,
       "overflow_x": null,
       "overflow_y": null,
       "padding": null,
       "right": null,
       "top": null,
       "visibility": null,
       "width": null
      }
     },
     "b4f7d666ec7941b7bad525e96468ad00": {
      "model_module": "@jupyter-widgets/controls",
      "model_module_version": "1.5.0",
      "model_name": "DescriptionStyleModel",
      "state": {
       "_model_module": "@jupyter-widgets/controls",
       "_model_module_version": "1.5.0",
       "_model_name": "DescriptionStyleModel",
       "_view_count": null,
       "_view_module": "@jupyter-widgets/base",
       "_view_module_version": "1.2.0",
       "_view_name": "StyleView",
       "description_width": ""
      }
     },
     "b54c4030ebe74cf39ce1b1c94a1acf76": {
      "model_module": "@jupyter-widgets/base",
      "model_module_version": "1.2.0",
      "model_name": "LayoutModel",
      "state": {
       "_model_module": "@jupyter-widgets/base",
       "_model_module_version": "1.2.0",
       "_model_name": "LayoutModel",
       "_view_count": null,
       "_view_module": "@jupyter-widgets/base",
       "_view_module_version": "1.2.0",
       "_view_name": "LayoutView",
       "align_content": null,
       "align_items": null,
       "align_self": null,
       "border": null,
       "bottom": null,
       "display": null,
       "flex": null,
       "flex_flow": null,
       "grid_area": null,
       "grid_auto_columns": null,
       "grid_auto_flow": null,
       "grid_auto_rows": null,
       "grid_column": null,
       "grid_gap": null,
       "grid_row": null,
       "grid_template_areas": null,
       "grid_template_columns": null,
       "grid_template_rows": null,
       "height": null,
       "justify_content": null,
       "justify_items": null,
       "left": null,
       "margin": null,
       "max_height": null,
       "max_width": null,
       "min_height": null,
       "min_width": null,
       "object_fit": null,
       "object_position": null,
       "order": null,
       "overflow": null,
       "overflow_x": null,
       "overflow_y": null,
       "padding": null,
       "right": null,
       "top": null,
       "visibility": null,
       "width": null
      }
     },
     "b96988861fe54e7bafe8b0058e9bb7a9": {
      "model_module": "@jupyter-widgets/base",
      "model_module_version": "1.2.0",
      "model_name": "LayoutModel",
      "state": {
       "_model_module": "@jupyter-widgets/base",
       "_model_module_version": "1.2.0",
       "_model_name": "LayoutModel",
       "_view_count": null,
       "_view_module": "@jupyter-widgets/base",
       "_view_module_version": "1.2.0",
       "_view_name": "LayoutView",
       "align_content": null,
       "align_items": null,
       "align_self": null,
       "border": null,
       "bottom": null,
       "display": null,
       "flex": null,
       "flex_flow": null,
       "grid_area": null,
       "grid_auto_columns": null,
       "grid_auto_flow": null,
       "grid_auto_rows": null,
       "grid_column": null,
       "grid_gap": null,
       "grid_row": null,
       "grid_template_areas": null,
       "grid_template_columns": null,
       "grid_template_rows": null,
       "height": null,
       "justify_content": null,
       "justify_items": null,
       "left": null,
       "margin": null,
       "max_height": null,
       "max_width": null,
       "min_height": null,
       "min_width": null,
       "object_fit": null,
       "object_position": null,
       "order": null,
       "overflow": null,
       "overflow_x": null,
       "overflow_y": null,
       "padding": null,
       "right": null,
       "top": null,
       "visibility": null,
       "width": null
      }
     },
     "b97a0fe949024355985f4f59e4f68305": {
      "model_module": "@jupyter-widgets/controls",
      "model_module_version": "1.5.0",
      "model_name": "HTMLModel",
      "state": {
       "_dom_classes": [],
       "_model_module": "@jupyter-widgets/controls",
       "_model_module_version": "1.5.0",
       "_model_name": "HTMLModel",
       "_view_count": null,
       "_view_module": "@jupyter-widgets/controls",
       "_view_module_version": "1.5.0",
       "_view_name": "HTMLView",
       "description": "",
       "description_tooltip": null,
       "layout": "IPY_MODEL_77bef986babe4de5b92c4b82a33876c7",
       "placeholder": "​",
       "style": "IPY_MODEL_0b00edcbbda345feb649a45f53e27dcc",
       "value": "Downloading (…)/main/tokenizer.json: 100%"
      }
     },
     "babbd60714774dc7ad583e350abbc4c8": {
      "model_module": "@jupyter-widgets/base",
      "model_module_version": "1.2.0",
      "model_name": "LayoutModel",
      "state": {
       "_model_module": "@jupyter-widgets/base",
       "_model_module_version": "1.2.0",
       "_model_name": "LayoutModel",
       "_view_count": null,
       "_view_module": "@jupyter-widgets/base",
       "_view_module_version": "1.2.0",
       "_view_name": "LayoutView",
       "align_content": null,
       "align_items": null,
       "align_self": null,
       "border": null,
       "bottom": null,
       "display": null,
       "flex": null,
       "flex_flow": null,
       "grid_area": null,
       "grid_auto_columns": null,
       "grid_auto_flow": null,
       "grid_auto_rows": null,
       "grid_column": null,
       "grid_gap": null,
       "grid_row": null,
       "grid_template_areas": null,
       "grid_template_columns": null,
       "grid_template_rows": null,
       "height": null,
       "justify_content": null,
       "justify_items": null,
       "left": null,
       "margin": null,
       "max_height": null,
       "max_width": null,
       "min_height": null,
       "min_width": null,
       "object_fit": null,
       "object_position": null,
       "order": null,
       "overflow": null,
       "overflow_x": null,
       "overflow_y": null,
       "padding": null,
       "right": null,
       "top": null,
       "visibility": null,
       "width": null
      }
     },
     "c094892d59434f09bf1fb7b6dd627cfc": {
      "model_module": "@jupyter-widgets/controls",
      "model_module_version": "1.5.0",
      "model_name": "HBoxModel",
      "state": {
       "_dom_classes": [],
       "_model_module": "@jupyter-widgets/controls",
       "_model_module_version": "1.5.0",
       "_model_name": "HBoxModel",
       "_view_count": null,
       "_view_module": "@jupyter-widgets/controls",
       "_view_module_version": "1.5.0",
       "_view_name": "HBoxView",
       "box_style": "",
       "children": [
        "IPY_MODEL_0cbf3212ac4c43b0a06187f13b937333",
        "IPY_MODEL_898d03909a7640d1a3bb625adf72a34b",
        "IPY_MODEL_dbf0b0455c674ed690cad8a21ef37e10"
       ],
       "layout": "IPY_MODEL_d179d33e3bd844ec95c6846d0554c220"
      }
     },
     "c3278821e7464172825bbd3d7bb7bba0": {
      "model_module": "@jupyter-widgets/controls",
      "model_module_version": "1.5.0",
      "model_name": "HBoxModel",
      "state": {
       "_dom_classes": [],
       "_model_module": "@jupyter-widgets/controls",
       "_model_module_version": "1.5.0",
       "_model_name": "HBoxModel",
       "_view_count": null,
       "_view_module": "@jupyter-widgets/controls",
       "_view_module_version": "1.5.0",
       "_view_name": "HBoxView",
       "box_style": "",
       "children": [
        "IPY_MODEL_b97a0fe949024355985f4f59e4f68305",
        "IPY_MODEL_6184a749a3b742e48bffe308c268ab0d",
        "IPY_MODEL_ca08b650efbb42f7bb2f829b85e17286"
       ],
       "layout": "IPY_MODEL_39bdf176ff7943569950a8803d9e24f8"
      }
     },
     "c5e3382f4aa14811b87c981ea55af3bf": {
      "model_module": "@jupyter-widgets/controls",
      "model_module_version": "1.5.0",
      "model_name": "HTMLModel",
      "state": {
       "_dom_classes": [],
       "_model_module": "@jupyter-widgets/controls",
       "_model_module_version": "1.5.0",
       "_model_name": "HTMLModel",
       "_view_count": null,
       "_view_module": "@jupyter-widgets/controls",
       "_view_module_version": "1.5.0",
       "_view_name": "HTMLView",
       "description": "",
       "description_tooltip": null,
       "layout": "IPY_MODEL_b54c4030ebe74cf39ce1b1c94a1acf76",
       "placeholder": "​",
       "style": "IPY_MODEL_845780bd5a0c4139bd4d43b77541b50e",
       "value": "Downloading (…)solve/main/vocab.txt: 100%"
      }
     },
     "c61af0fd9dc24fd09ebacd1bdd3c72d5": {
      "model_module": "@jupyter-widgets/controls",
      "model_module_version": "1.5.0",
      "model_name": "HTMLModel",
      "state": {
       "_dom_classes": [],
       "_model_module": "@jupyter-widgets/controls",
       "_model_module_version": "1.5.0",
       "_model_name": "HTMLModel",
       "_view_count": null,
       "_view_module": "@jupyter-widgets/controls",
       "_view_module_version": "1.5.0",
       "_view_name": "HTMLView",
       "description": "",
       "description_tooltip": null,
       "layout": "IPY_MODEL_6d65fe191ec44f75a01f41f8e100e5d4",
       "placeholder": "​",
       "style": "IPY_MODEL_a5779f238c4f46a79498b786f743cbec",
       "value": " 32/32 [00:44&lt;00:00,  1.12s/ba]"
      }
     },
     "c8857a4eb8ea421eaaac5de11abc69e6": {
      "model_module": "@jupyter-widgets/controls",
      "model_module_version": "1.5.0",
      "model_name": "HTMLModel",
      "state": {
       "_dom_classes": [],
       "_model_module": "@jupyter-widgets/controls",
       "_model_module_version": "1.5.0",
       "_model_name": "HTMLModel",
       "_view_count": null,
       "_view_module": "@jupyter-widgets/controls",
       "_view_module_version": "1.5.0",
       "_view_name": "HTMLView",
       "description": "",
       "description_tooltip": null,
       "layout": "IPY_MODEL_97388c504cbc42ff903afd551ec3535c",
       "placeholder": "​",
       "style": "IPY_MODEL_9f3cb6e1babf44a190e0a7fecad3f8d5",
       "value": " 232k/232k [00:00&lt;00:00, 7.66MB/s]"
      }
     },
     "ca08b650efbb42f7bb2f829b85e17286": {
      "model_module": "@jupyter-widgets/controls",
      "model_module_version": "1.5.0",
      "model_name": "HTMLModel",
      "state": {
       "_dom_classes": [],
       "_model_module": "@jupyter-widgets/controls",
       "_model_module_version": "1.5.0",
       "_model_name": "HTMLModel",
       "_view_count": null,
       "_view_module": "@jupyter-widgets/controls",
       "_view_module_version": "1.5.0",
       "_view_name": "HTMLView",
       "description": "",
       "description_tooltip": null,
       "layout": "IPY_MODEL_eaf4e7fe88c74d9e81aa10b27d047f3b",
       "placeholder": "​",
       "style": "IPY_MODEL_d0152c124e3f4daf9375b53c7eb33cbd",
       "value": " 466k/466k [00:00&lt;00:00, 2.32MB/s]"
      }
     },
     "d0152c124e3f4daf9375b53c7eb33cbd": {
      "model_module": "@jupyter-widgets/controls",
      "model_module_version": "1.5.0",
      "model_name": "DescriptionStyleModel",
      "state": {
       "_model_module": "@jupyter-widgets/controls",
       "_model_module_version": "1.5.0",
       "_model_name": "DescriptionStyleModel",
       "_view_count": null,
       "_view_module": "@jupyter-widgets/base",
       "_view_module_version": "1.2.0",
       "_view_name": "StyleView",
       "description_width": ""
      }
     },
     "d179d33e3bd844ec95c6846d0554c220": {
      "model_module": "@jupyter-widgets/base",
      "model_module_version": "1.2.0",
      "model_name": "LayoutModel",
      "state": {
       "_model_module": "@jupyter-widgets/base",
       "_model_module_version": "1.2.0",
       "_model_name": "LayoutModel",
       "_view_count": null,
       "_view_module": "@jupyter-widgets/base",
       "_view_module_version": "1.2.0",
       "_view_name": "LayoutView",
       "align_content": null,
       "align_items": null,
       "align_self": null,
       "border": null,
       "bottom": null,
       "display": null,
       "flex": null,
       "flex_flow": null,
       "grid_area": null,
       "grid_auto_columns": null,
       "grid_auto_flow": null,
       "grid_auto_rows": null,
       "grid_column": null,
       "grid_gap": null,
       "grid_row": null,
       "grid_template_areas": null,
       "grid_template_columns": null,
       "grid_template_rows": null,
       "height": null,
       "justify_content": null,
       "justify_items": null,
       "left": null,
       "margin": null,
       "max_height": null,
       "max_width": null,
       "min_height": null,
       "min_width": null,
       "object_fit": null,
       "object_position": null,
       "order": null,
       "overflow": null,
       "overflow_x": null,
       "overflow_y": null,
       "padding": null,
       "right": null,
       "top": null,
       "visibility": null,
       "width": null
      }
     },
     "da80f2a1ed1144f9a482033f38221f9c": {
      "model_module": "@jupyter-widgets/controls",
      "model_module_version": "1.5.0",
      "model_name": "DescriptionStyleModel",
      "state": {
       "_model_module": "@jupyter-widgets/controls",
       "_model_module_version": "1.5.0",
       "_model_name": "DescriptionStyleModel",
       "_view_count": null,
       "_view_module": "@jupyter-widgets/base",
       "_view_module_version": "1.2.0",
       "_view_name": "StyleView",
       "description_width": ""
      }
     },
     "dbf0b0455c674ed690cad8a21ef37e10": {
      "model_module": "@jupyter-widgets/controls",
      "model_module_version": "1.5.0",
      "model_name": "HTMLModel",
      "state": {
       "_dom_classes": [],
       "_model_module": "@jupyter-widgets/controls",
       "_model_module_version": "1.5.0",
       "_model_name": "HTMLModel",
       "_view_count": null,
       "_view_module": "@jupyter-widgets/controls",
       "_view_module_version": "1.5.0",
       "_view_name": "HTMLView",
       "description": "",
       "description_tooltip": null,
       "layout": "IPY_MODEL_b452b9585ba7480ea3a0026203e1c266",
       "placeholder": "​",
       "style": "IPY_MODEL_75dd94c0997347a8aa27517e3046e17e",
       "value": " 363M/363M [00:01&lt;00:00, 280MB/s]"
      }
     },
     "dc1c671effff416882fc5bb2f78e53d0": {
      "model_module": "@jupyter-widgets/controls",
      "model_module_version": "1.5.0",
      "model_name": "ProgressStyleModel",
      "state": {
       "_model_module": "@jupyter-widgets/controls",
       "_model_module_version": "1.5.0",
       "_model_name": "ProgressStyleModel",
       "_view_count": null,
       "_view_module": "@jupyter-widgets/base",
       "_view_module_version": "1.2.0",
       "_view_name": "StyleView",
       "bar_color": null,
       "description_width": ""
      }
     },
     "eaab66f0c29c43c8830086e461d90a2e": {
      "model_module": "@jupyter-widgets/controls",
      "model_module_version": "1.5.0",
      "model_name": "HBoxModel",
      "state": {
       "_dom_classes": [],
       "_model_module": "@jupyter-widgets/controls",
       "_model_module_version": "1.5.0",
       "_model_name": "HBoxModel",
       "_view_count": null,
       "_view_module": "@jupyter-widgets/controls",
       "_view_module_version": "1.5.0",
       "_view_name": "HBoxView",
       "box_style": "",
       "children": [
        "IPY_MODEL_6e5c235cb05d4c56b7041b2ecb16f8e2",
        "IPY_MODEL_978755b502ca4b4ca743f976227f9e76",
        "IPY_MODEL_117cbf4f6f6d4515bc494234d715be61"
       ],
       "layout": "IPY_MODEL_1923e41a88044a649a8cb4341debe2ff"
      }
     },
     "eaf4e7fe88c74d9e81aa10b27d047f3b": {
      "model_module": "@jupyter-widgets/base",
      "model_module_version": "1.2.0",
      "model_name": "LayoutModel",
      "state": {
       "_model_module": "@jupyter-widgets/base",
       "_model_module_version": "1.2.0",
       "_model_name": "LayoutModel",
       "_view_count": null,
       "_view_module": "@jupyter-widgets/base",
       "_view_module_version": "1.2.0",
       "_view_name": "LayoutView",
       "align_content": null,
       "align_items": null,
       "align_self": null,
       "border": null,
       "bottom": null,
       "display": null,
       "flex": null,
       "flex_flow": null,
       "grid_area": null,
       "grid_auto_columns": null,
       "grid_auto_flow": null,
       "grid_auto_rows": null,
       "grid_column": null,
       "grid_gap": null,
       "grid_row": null,
       "grid_template_areas": null,
       "grid_template_columns": null,
       "grid_template_rows": null,
       "height": null,
       "justify_content": null,
       "justify_items": null,
       "left": null,
       "margin": null,
       "max_height": null,
       "max_width": null,
       "min_height": null,
       "min_width": null,
       "object_fit": null,
       "object_position": null,
       "order": null,
       "overflow": null,
       "overflow_x": null,
       "overflow_y": null,
       "padding": null,
       "right": null,
       "top": null,
       "visibility": null,
       "width": null
      }
     },
     "eccf815049d1490a811aaec3d3ee8c7a": {
      "model_module": "@jupyter-widgets/controls",
      "model_module_version": "1.5.0",
      "model_name": "HTMLModel",
      "state": {
       "_dom_classes": [],
       "_model_module": "@jupyter-widgets/controls",
       "_model_module_version": "1.5.0",
       "_model_name": "HTMLModel",
       "_view_count": null,
       "_view_module": "@jupyter-widgets/controls",
       "_view_module_version": "1.5.0",
       "_view_name": "HTMLView",
       "description": "",
       "description_tooltip": null,
       "layout": "IPY_MODEL_6b7264ef2e084b6b955ee7712e6d9bbd",
       "placeholder": "​",
       "style": "IPY_MODEL_01aae00794f54983ac6c4a5f3c4e14fe",
       "value": " 28.0/28.0 [00:00&lt;00:00, 1.12kB/s]"
      }
     },
     "f005610bde2d4213bc227298d0031dbd": {
      "model_module": "@jupyter-widgets/controls",
      "model_module_version": "1.5.0",
      "model_name": "ProgressStyleModel",
      "state": {
       "_model_module": "@jupyter-widgets/controls",
       "_model_module_version": "1.5.0",
       "_model_name": "ProgressStyleModel",
       "_view_count": null,
       "_view_module": "@jupyter-widgets/base",
       "_view_module_version": "1.2.0",
       "_view_name": "StyleView",
       "bar_color": null,
       "description_width": ""
      }
     },
     "f5a44490577a4f5da62d9cc71648d1c5": {
      "model_module": "@jupyter-widgets/base",
      "model_module_version": "1.2.0",
      "model_name": "LayoutModel",
      "state": {
       "_model_module": "@jupyter-widgets/base",
       "_model_module_version": "1.2.0",
       "_model_name": "LayoutModel",
       "_view_count": null,
       "_view_module": "@jupyter-widgets/base",
       "_view_module_version": "1.2.0",
       "_view_name": "LayoutView",
       "align_content": null,
       "align_items": null,
       "align_self": null,
       "border": null,
       "bottom": null,
       "display": null,
       "flex": null,
       "flex_flow": null,
       "grid_area": null,
       "grid_auto_columns": null,
       "grid_auto_flow": null,
       "grid_auto_rows": null,
       "grid_column": null,
       "grid_gap": null,
       "grid_row": null,
       "grid_template_areas": null,
       "grid_template_columns": null,
       "grid_template_rows": null,
       "height": null,
       "justify_content": null,
       "justify_items": null,
       "left": null,
       "margin": null,
       "max_height": null,
       "max_width": null,
       "min_height": null,
       "min_width": null,
       "object_fit": null,
       "object_position": null,
       "order": null,
       "overflow": null,
       "overflow_x": null,
       "overflow_y": null,
       "padding": null,
       "right": null,
       "top": null,
       "visibility": null,
       "width": null
      }
     },
     "f8cd4ca285ab49b6bf1b727054eadd71": {
      "model_module": "@jupyter-widgets/controls",
      "model_module_version": "1.5.0",
      "model_name": "HBoxModel",
      "state": {
       "_dom_classes": [],
       "_model_module": "@jupyter-widgets/controls",
       "_model_module_version": "1.5.0",
       "_model_name": "HBoxModel",
       "_view_count": null,
       "_view_module": "@jupyter-widgets/controls",
       "_view_module_version": "1.5.0",
       "_view_name": "HBoxView",
       "box_style": "",
       "children": [
        "IPY_MODEL_5594955f6d3b4836af99e816b7717f8c",
        "IPY_MODEL_feceade72d2e44d79d8b3d7a4aa0f6ec",
        "IPY_MODEL_c61af0fd9dc24fd09ebacd1bdd3c72d5"
       ],
       "layout": "IPY_MODEL_9c8b1ff40c3b4631a4f6b91690b29c42"
      }
     },
     "f91c71ddf7454864b0b937aba5d74843": {
      "model_module": "@jupyter-widgets/controls",
      "model_module_version": "1.5.0",
      "model_name": "ProgressStyleModel",
      "state": {
       "_model_module": "@jupyter-widgets/controls",
       "_model_module_version": "1.5.0",
       "_model_name": "ProgressStyleModel",
       "_view_count": null,
       "_view_module": "@jupyter-widgets/base",
       "_view_module_version": "1.2.0",
       "_view_name": "StyleView",
       "bar_color": null,
       "description_width": ""
      }
     },
     "feceade72d2e44d79d8b3d7a4aa0f6ec": {
      "model_module": "@jupyter-widgets/controls",
      "model_module_version": "1.5.0",
      "model_name": "FloatProgressModel",
      "state": {
       "_dom_classes": [],
       "_model_module": "@jupyter-widgets/controls",
       "_model_module_version": "1.5.0",
       "_model_name": "FloatProgressModel",
       "_view_count": null,
       "_view_module": "@jupyter-widgets/controls",
       "_view_module_version": "1.5.0",
       "_view_name": "ProgressView",
       "bar_style": "success",
       "description": "",
       "description_tooltip": null,
       "layout": "IPY_MODEL_3384c0c78e554aa9aa035192e75ddfa9",
       "max": 32.0,
       "min": 0.0,
       "orientation": "horizontal",
       "style": "IPY_MODEL_dc1c671effff416882fc5bb2f78e53d0",
       "value": 32.0
      }
     },
     "ff4ac8b8f9d647fa8a14a703216b90df": {
      "model_module": "@jupyter-widgets/base",
      "model_module_version": "1.2.0",
      "model_name": "LayoutModel",
      "state": {
       "_model_module": "@jupyter-widgets/base",
       "_model_module_version": "1.2.0",
       "_model_name": "LayoutModel",
       "_view_count": null,
       "_view_module": "@jupyter-widgets/base",
       "_view_module_version": "1.2.0",
       "_view_name": "LayoutView",
       "align_content": null,
       "align_items": null,
       "align_self": null,
       "border": null,
       "bottom": null,
       "display": null,
       "flex": null,
       "flex_flow": null,
       "grid_area": null,
       "grid_auto_columns": null,
       "grid_auto_flow": null,
       "grid_auto_rows": null,
       "grid_column": null,
       "grid_gap": null,
       "grid_row": null,
       "grid_template_areas": null,
       "grid_template_columns": null,
       "grid_template_rows": null,
       "height": null,
       "justify_content": null,
       "justify_items": null,
       "left": null,
       "margin": null,
       "max_height": null,
       "max_width": null,
       "min_height": null,
       "min_width": null,
       "object_fit": null,
       "object_position": null,
       "order": null,
       "overflow": null,
       "overflow_x": null,
       "overflow_y": null,
       "padding": null,
       "right": null,
       "top": null,
       "visibility": null,
       "width": null
      }
     }
    },
    "version_major": 2,
    "version_minor": 0
   }
  }
 },
 "nbformat": 4,
 "nbformat_minor": 5
}
